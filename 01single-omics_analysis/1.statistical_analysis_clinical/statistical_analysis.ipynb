{
 "cells": [
  {
   "cell_type": "code",
   "execution_count": 1,
   "id": "85c70d0e",
   "metadata": {},
   "outputs": [],
   "source": [
    "import pandas as pd "
   ]
  },
  {
   "cell_type": "code",
   "execution_count": null,
   "id": "5d1f4fcc",
   "metadata": {},
   "outputs": [],
   "source": [
    "df = pd.read_excel(\"./adni589-eur.xlsx\")\n",
    "\n",
    "features = ['AGE', 'PTEDUCAT', 'CDRSB', 'ADAS11', 'ADAS13',\n",
    "       'ADASQ4', 'MMSE', 'RAVLTimmediate', 'RAVLTlearning', 'RAVLTforgetting',\n",
    "       'RAVLTpercforgetting', 'LDELTOTAL', 'TRABSCOR', 'FAQ']"
   ]
  },
  {
   "cell_type": "markdown",
   "id": "a6e64bcf",
   "metadata": {},
   "source": [
    "#### 正态性检验"
   ]
  },
  {
   "cell_type": "code",
   "execution_count": null,
   "id": "e623282f",
   "metadata": {
    "collapsed": true
   },
   "outputs": [],
   "source": [
    "import statsmodels.api as sm #导入statsmodels.api包\n",
    "import pylab\n",
    "\n",
    "##分组绘制Q-Q图##\n",
    "sm.qqplot(df.loc[df.loc[:,'DX']=='CN','AGE'], line='s') #选取第一组数据\n",
    "pylab.show() #显示第一组QQ图\n",
    "sm.qqplot(df.loc[df.loc[:,'DX']=='MCI','AGE'], line='s') #选取第二组数据\n",
    "pylab.show() #显示第二组QQ图\n",
    "sm.qqplot(df.loc[df.loc[:,'DX']=='AD','AGE'], line='s') #选取第三组数据\n",
    "pylab.show() #显示第三组QQ图"
   ]
  },
  {
   "cell_type": "code",
   "execution_count": null,
   "id": "7fef5f3e",
   "metadata": {
    "collapsed": true
   },
   "outputs": [],
   "source": [
    "from scipy import stats #导入scipy包\n",
    "\n",
    "##正态性检验##\n",
    "for feat in features:\n",
    "    print(\"正态性检验指标：\", feat)\n",
    "    shapiro_test1 = stats.shapiro(df.loc[df.loc[:,'DX']=='CN',feat]) \n",
    "    print(shapiro_test1)\n",
    "    shapiro_test2 = stats.shapiro(df.loc[df.loc[:,'DX']=='MCI',feat])\n",
    "    print(shapiro_test2)\n",
    "    shapiro_test3 = stats.shapiro(df.loc[df.loc[:,'DX']=='AD',feat])\n",
    "    print(shapiro_test3)"
   ]
  },
  {
   "cell_type": "markdown",
   "id": "4e5b00ac",
   "metadata": {},
   "source": [
    "#### 方差齐性检验"
   ]
  },
  {
   "cell_type": "code",
   "execution_count": null,
   "id": "eee8623d",
   "metadata": {},
   "outputs": [],
   "source": [
    "##计算均数##\n",
    "df_mean = df.groupby('DX').mean()\n",
    "##计算标准差##\n",
    "df_std = df.groupby('DX').std()"
   ]
  },
  {
   "cell_type": "code",
   "execution_count": null,
   "id": "72673c45",
   "metadata": {
    "collapsed": true
   },
   "outputs": [],
   "source": [
    "##levene法方差齐性检验##\n",
    "for feat in features:\n",
    "    print(\"方差齐性检验指标：\", feat)\n",
    "    group0 = df.loc[df.loc[:,'DX']=='CN'][feat] #选取第一组数据\n",
    "    group1 = df.loc[df.loc[:,'DX']=='MCI'][feat] #选取第二组数据\n",
    "    group2 = df.loc[df.loc[:,'DX']=='AD'][feat] #选取第三组数据\n",
    "    leveneTestRes = stats.levene(group0, group1, group2, center='mean') #levene法齐性检验\n",
    "    print(leveneTestRes) #显示检验结果"
   ]
  },
  {
   "cell_type": "markdown",
   "id": "631a18b4",
   "metadata": {},
   "source": [
    "#### 非正态分布（Dunn's 检验）"
   ]
  },
  {
   "cell_type": "code",
   "execution_count": null,
   "id": "76d5f202",
   "metadata": {},
   "outputs": [],
   "source": [
    "import numpy as np\n",
    "import scipy.stats as stats\n",
    "import scikit_posthocs as sp\n",
    "\n",
    "xianzhu=[]\n",
    "for feat in features:\n",
    "    print(\"检验指标：\", feat)\n",
    "    group1 = df.loc[df.loc[:,'DX']=='CN'][feat] #选取第一组数据\n",
    "    group2 = df.loc[df.loc[:,'DX']=='MCI'][feat] #选取第二组数据\n",
    "    group3 = df.loc[df.loc[:,'DX']=='AD'][feat] #选取第三组数据\n",
    "    # Kruskal-Wallis 检验\n",
    "    stat, p = stats.kruskal(group1, group2, group3)\n",
    "\n",
    "    print('Kruskal-Wallis test:')\n",
    "    # 使用 f-string 格式化输出，保留四位有效数字\n",
    "    print(f'Statistic = {stat:.4g}, p-value = {p:.4g}')\n",
    "    if p<0.05:\n",
    "        xianzhu.append(feat)\n"
   ]
  },
  {
   "cell_type": "markdown",
   "id": "e121955e",
   "metadata": {},
   "source": [
    "#### 卡方检验"
   ]
  },
  {
   "cell_type": "code",
   "execution_count": null,
   "id": "cfeeca9f",
   "metadata": {},
   "outputs": [],
   "source": [
    "import numpy as np\n",
    "import pandas as pd\n",
    "from scipy.stats import chi2_contingency\n",
    "\n",
    "# 创建列联表\n",
    "contingency_table = pd.crosstab(df['PTGENDER'], df['DX'])\n",
    "\n",
    "# 打印列联表\n",
    "print(\"Contingency Table:\")\n",
    "print(contingency_table)\n",
    "\n",
    "# 进行卡方检验\n",
    "chi2, p, dof, expected = chi2_contingency(contingency_table)\n",
    "\n",
    "# 打印结果\n",
    "print(f'\\nChi-squared Statistic = {chi2:.4g}, p-value = {p:.4g}')\n",
    "print(f'Degrees of freedom = {dof}')\n",
    "print('Expected frequencies:')\n",
    "print(expected)\n"
   ]
  },
  {
   "cell_type": "markdown",
   "id": "aa764b99",
   "metadata": {},
   "source": [
    "#### fisher exact 检验"
   ]
  },
  {
   "cell_type": "code",
   "execution_count": null,
   "id": "7c8fbe0a",
   "metadata": {},
   "outputs": [],
   "source": [
    "from scipy.stats import fisher_exact\n",
    "\n",
    "# 创建列联表\n",
    "contingency_table = pd.crosstab(df['PTMARRY'], df['DX'])\n",
    "\n",
    "# 打印列联表\n",
    "print(\"Contingency Table:\")\n",
    "print(contingency_table)\n",
    "\n",
    "# # 进行 Fisher's Exact Test\n",
    "# odds_ratio, p_value = fisher_exact(contingency_table)\n",
    "\n",
    "# # 打印结果\n",
    "# print(f'\\nFisher\\'s Exact Test:')\n",
    "# print(f'Odds Ratio = {odds_ratio:.4g}, p-value = {p_value:.4g}')\n",
    "\n",
    "chi2, p, dof, expected = chi2_contingency(contingency_table)\n",
    "\n",
    "# 打印结果\n",
    "print(f'\\nChi-squared Statistic = {chi2:.4g}, p-value = {p:.4g}')\n",
    "print(f'Degrees of freedom = {dof}')\n",
    "print('Expected frequencies:')\n",
    "print(expected)"
   ]
  },
  {
   "cell_type": "code",
   "execution_count": null,
   "id": "ddab7d70",
   "metadata": {},
   "outputs": [],
   "source": [
    "# 根据组别进行分组并计算指标\n",
    "for feat in features:\n",
    "    print(f\"\\n检验指标：{feat}\")\n",
    "    \n",
    "    # 对每个组进行计算\n",
    "    for group in df['DX'].unique():\n",
    "        group_data = df[df['DX'] == group][feat]\n",
    "        \n",
    "        # 计算中位数\n",
    "        median_value = group_data.median()\n",
    "        \n",
    "        # 计算四分位数\n",
    "        Q1 = group_data.quantile(0.25)\n",
    "        Q3 = group_data.quantile(0.75)\n",
    "\n",
    "        # 打印结果\n",
    "        print(f'{group}: {median_value}({Q1}-{Q3})')"
   ]
  }
 ],
 "metadata": {
  "kernelspec": {
   "display_name": "base",
   "language": "python",
   "name": "python3"
  },
  "language_info": {
   "codemirror_mode": {
    "name": "ipython",
    "version": 3
   },
   "file_extension": ".py",
   "mimetype": "text/x-python",
   "name": "python",
   "nbconvert_exporter": "python",
   "pygments_lexer": "ipython3",
   "version": "3.7.0"
  }
 },
 "nbformat": 4,
 "nbformat_minor": 5
}
