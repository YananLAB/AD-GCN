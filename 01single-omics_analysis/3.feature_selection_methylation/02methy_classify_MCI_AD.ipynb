{
 "cells": [
  {
   "cell_type": "code",
   "execution_count": 24,
   "id": "72fe6c2b",
   "metadata": {},
   "outputs": [],
   "source": [
    "from sklearn import metrics\n",
    "from sklearn.preprocessing import StandardScaler\n",
    "import pandas as pd\n",
    "import numpy as np\n",
    "import matplotlib.pyplot as plt\n",
    "\n",
    "plt.rcParams['font.family'] = 'Arial'#Times New Roma\n",
    "plt.rcParams['font.size'] = 12"
   ]
  },
  {
   "cell_type": "code",
   "execution_count": null,
   "id": "93e2ee3d",
   "metadata": {},
   "outputs": [],
   "source": [
    "from sklearn.model_selection import train_test_split\n",
    "from sklearn.preprocessing import RobustScaler\n",
    "from sklearn.model_selection import GridSearchCV,cross_val_score,cross_validate,KFold\n",
    "from sklearn.metrics import confusion_matrix, classification_report\n",
    "from sklearn.metrics import precision_score, recall_score, f1_score, roc_curve, roc_auc_score, auc,precision_recall_curve,accuracy_score,make_scorer\n",
    "from sklearn.metrics import mean_squared_error, r2_score\n",
    "from sklearn.model_selection import StratifiedKFold\n",
    "# 使用以下分类模型\n",
    "from sklearn.ensemble import RandomForestClassifier\n",
    "from sklearn.svm import SVC\n",
    "from sklearn.decomposition import PCA\n",
    "from collections import Counter\n",
    "import warnings\n",
    "warnings.filterwarnings('ignore')"
   ]
  },
  {
   "cell_type": "markdown",
   "id": "46288c76",
   "metadata": {},
   "source": [
    "## 一、读取数据+数据预处理"
   ]
  },
  {
   "cell_type": "markdown",
   "id": "38c5448d",
   "metadata": {},
   "source": [
    "<!-- ## 一、读取数据+数据预处理 -->"
   ]
  },
  {
   "cell_type": "markdown",
   "id": "18d60e1c",
   "metadata": {},
   "source": [
    "### 1、甲基化数据质量控制"
   ]
  },
  {
   "cell_type": "code",
   "execution_count": null,
   "id": "23c5ba9b",
   "metadata": {},
   "outputs": [],
   "source": [
    "methy_MCI_AD = pd.read_excel('./specified_probes_AtoM.xlsx',sheet_name=\"unique\")"
   ]
  },
  {
   "cell_type": "code",
   "execution_count": 4,
   "id": "c36caf80",
   "metadata": {},
   "outputs": [
    {
     "data": {
      "text/plain": [
       "0    345\n",
       "1     35\n",
       "Name: status, dtype: int64"
      ]
     },
     "execution_count": 4,
     "metadata": {},
     "output_type": "execute_result"
    }
   ],
   "source": [
    "# 统计每个标签的数量\n",
    "status_counts = methy_MCI_AD['status'].value_counts()\n",
    "status_counts"
   ]
  },
  {
   "cell_type": "code",
   "execution_count": 5,
   "id": "ed6c83b2",
   "metadata": {},
   "outputs": [],
   "source": [
    "cg_MCI_AD=methy_MCI_AD.columns[2:]\n",
    "X_MCI_AD_original = methy_MCI_AD.iloc[:, 2:]\n",
    "y_MCI_AD = methy_MCI_AD[\"status\"]"
   ]
  },
  {
   "cell_type": "markdown",
   "id": "cf360fca",
   "metadata": {},
   "source": [
    "### 2、特征过滤（过滤法）"
   ]
  },
  {
   "cell_type": "markdown",
   "id": "fa01020a",
   "metadata": {},
   "source": [
    "#### （1）Fisher Score  过滤"
   ]
  },
  {
   "cell_type": "code",
   "execution_count": 10,
   "id": "a8bf74da",
   "metadata": {},
   "outputs": [],
   "source": [
    "#标签只能为0和1,特征空间任意，\n",
    "#X_data:n*m 的数值列表\n",
    "#y_data:m*1 的数值列表\n",
    "#返回每个特征的fisher score值的一个列表\n",
    "\n",
    "def binary_fisher_score(X_data,y_data):\n",
    "    if len(X_data) != len(y_data):\n",
    "        print('Sample does not match label')\n",
    "        exit()\n",
    "    df1 = pd.DataFrame(X_data)\n",
    "    df2 = pd.DataFrame(y_data, columns=['status'])\n",
    "    data = pd.concat([df1, df2], axis=1)  # 合并成为一个dataframe\n",
    "    \n",
    "    data0 = data[y_data == 0]#对status分类，分成包含0和1的两个dataframe\n",
    "    data1 = data[y_data == 1]\n",
    "    n = len(y_data)#标签长度\n",
    "    n1 = sum(y_data)#1类标签的个数\n",
    "    n0 = n - n1#0类标签的个数\n",
    "    lst = []#用于返回的列表\n",
    "    features_list = list(data.columns)[:-1]\n",
    "    for feature in features_list:\n",
    "        # 算关于data0\n",
    "        m0_feature_mean = data0[feature].mean()  # 0类标签在第m维上的均值\n",
    "        # 0类在第m维上的sw\n",
    "        m0_SW=sum((data0[feature] -m0_feature_mean )**2)\n",
    "        # 算关于data1\n",
    "        m1_feature_mean = data1[feature].mean()  # 1类标签在第m维上的均值\n",
    "        # 1类在第m维上的sw\n",
    "        m1_SW=sum((data1[feature] -m1_feature_mean )**2)\n",
    "        # 算关于data\n",
    "        m_all_feature_mean = data[feature].mean()  # 所有类标签在第m维上的均值\n",
    "\n",
    "        m0_SB = n0 / n * (m0_feature_mean - m_all_feature_mean) ** 2\n",
    "        m1_SB = n1 / n * (m1_feature_mean - m_all_feature_mean) ** 2\n",
    "        #计算SB\n",
    "        m_SB = m1_SB + m0_SB\n",
    "        #计算SW\n",
    "        m_SW = (m0_SW + m1_SW) / n\n",
    "        if m_SW == 0:\n",
    "            # 0/0类型也是返回nan\n",
    "            m_fisher_score = np.nan\n",
    "        else:\n",
    "            # 计算Fisher score\n",
    "            m_fisher_score = m_SB / m_SW\n",
    "        #Fisher score值添加进列表\n",
    "        lst.append(m_fisher_score)\n",
    "\n",
    "    return lst"
   ]
  },
  {
   "cell_type": "code",
   "execution_count": 11,
   "id": "0f0c2684",
   "metadata": {},
   "outputs": [],
   "source": [
    "# 计算Fisher score分数：类内方差最小，类间方差最大  942-->706个\n",
    "fisher_ret = binary_fisher_score(X_MCI_AD_original.values, y_MCI_AD.values)"
   ]
  },
  {
   "cell_type": "code",
   "execution_count": 12,
   "id": "6a208684",
   "metadata": {},
   "outputs": [
    {
     "name": "stdout",
     "output_type": "stream",
     "text": [
      "\n",
      "信息增益汇总统计信息：\n",
      " count    961.000000\n",
      "mean       0.011249\n",
      "std        0.007126\n",
      "min        0.000004\n",
      "25%        0.006005\n",
      "50%        0.010408\n",
      "75%        0.015070\n",
      "max        0.049380\n",
      "dtype: float64\n"
     ]
    },
    {
     "data": {
      "text/plain": [
       "'\\n信息增益汇总统计信息：\\n count    942.000000\\nmean       0.022943\\nstd        0.007282\\nmin        0.016724\\n25%        0.018308\\n50%        0.020537\\n75%        0.024850\\nmax        0.104499\\n'"
      ]
     },
     "execution_count": 12,
     "metadata": {},
     "output_type": "execute_result"
    }
   ],
   "source": [
    "summary = pd.Series(fisher_ret).describe()\n",
    "print(\"\\n信息增益汇总统计信息：\\n\",summary)  \n",
    "'''\n",
    "信息增益汇总统计信息：\n",
    " count    942.000000\n",
    "mean       0.022943\n",
    "std        0.007282\n",
    "min        0.016724\n",
    "25%        0.018308\n",
    "50%        0.020537\n",
    "75%        0.024850\n",
    "max        0.104499\n",
    "'''"
   ]
  },
  {
   "cell_type": "code",
   "execution_count": 13,
   "id": "d07d0637",
   "metadata": {},
   "outputs": [
    {
     "data": {
      "text/plain": [
       "720"
      ]
     },
     "execution_count": 13,
     "metadata": {},
     "output_type": "execute_result"
    }
   ],
   "source": [
    "# 找出大于阈值的索引  四分之一位数\n",
    "fr_indices = [i for i, value in enumerate(fisher_ret) if value > 0.006005]\n",
    "\n",
    "# 从另一个列表中提取这些索引对应的值\n",
    "fr_features = [cg_MCI_AD[i] for i in fr_indices]\n",
    "len(fr_features)"
   ]
  },
  {
   "cell_type": "code",
   "execution_count": 14,
   "id": "3bb5d6d8",
   "metadata": {},
   "outputs": [],
   "source": [
    "frfeatures = fr_features.insert(0,'status')\n",
    "data_frq1 = methy_MCI_AD[fr_features]\n",
    "X_frq1 = data_frq1.iloc[:,1:]\n",
    "y_frq1 = data_frq1[\"status\"]"
   ]
  },
  {
   "cell_type": "markdown",
   "id": "f24ab809",
   "metadata": {},
   "source": [
    "#### （2）信息增益过滤"
   ]
  },
  {
   "cell_type": "code",
   "execution_count": 15,
   "id": "31fa8f65",
   "metadata": {},
   "outputs": [],
   "source": [
    "# summary = features_sorted_by_info_gain.describe()\n",
    "# print(\"\\n信息增益汇总统计信息：\\n\",summary)"
   ]
  },
  {
   "cell_type": "code",
   "execution_count": 16,
   "id": "0073aca9",
   "metadata": {},
   "outputs": [],
   "source": [
    "'''\n",
    "将过滤四分位方差的特征进一步计算信息增益，降序排列后，选择特定阈值或特定个数的特征\n",
    "这里设置阈值为：所有特征信息增益的四分位数。\n",
    "剩下422个特征\n",
    "'''\n",
    "from sklearn.feature_selection import mutual_info_classif\n",
    "\n",
    "\n",
    "# 计算每个特征和标签之间的信息增益\n",
    "info_gain = mutual_info_classif(X_frq1, y_frq1)\n",
    "\n",
    "# 将特征根据信息增益排序\n",
    "features_sorted_by_info_gain = pd.Series(info_gain, index=X_frq1.columns).sort_values(ascending=False)\n",
    "\n",
    "# 设定信息增益的阈值，过滤特征\n",
    "ig_threshold = np.percentile(features_sorted_by_info_gain.var(),25)\n",
    "ig_features = features_sorted_by_info_gain[features_sorted_by_info_gain > ig_threshold].index"
   ]
  },
  {
   "cell_type": "code",
   "execution_count": 17,
   "id": "d49caa02",
   "metadata": {},
   "outputs": [
    {
     "name": "stdout",
     "output_type": "stream",
     "text": [
      "剩余特征数量： 422\n"
     ]
    }
   ],
   "source": [
    "print(\"剩余特征数量：\",len(ig_features))"
   ]
  },
  {
   "cell_type": "code",
   "execution_count": 18,
   "id": "8060cc8f",
   "metadata": {},
   "outputs": [],
   "source": [
    "keep_features_ = ig_features.insert(0,'status')\n",
    "data_igq1 = methy_MCI_AD[keep_features_]\n",
    "X_igq1 = data_igq1.iloc[:,1:]\n",
    "y_igq1 = data_igq1[\"status\"]"
   ]
  },
  {
   "cell_type": "code",
   "execution_count": 19,
   "id": "94de4c29",
   "metadata": {},
   "outputs": [
    {
     "data": {
      "text/plain": [
       "Counter({0: 345, 1: 35})"
      ]
     },
     "execution_count": 19,
     "metadata": {},
     "output_type": "execute_result"
    }
   ],
   "source": [
    "Counter(data_igq1.status)"
   ]
  },
  {
   "cell_type": "markdown",
   "id": "17b66a93",
   "metadata": {},
   "source": [
    "### 3、基于聚类的混合采样"
   ]
  },
  {
   "cell_type": "markdown",
   "id": "0a63f87e",
   "metadata": {},
   "source": [
    "#### （1）对少数类（AD）的过采样"
   ]
  },
  {
   "cell_type": "code",
   "execution_count": 20,
   "id": "cc7c30f6",
   "metadata": {},
   "outputs": [
    {
     "name": "stdout",
     "output_type": "stream",
     "text": [
      "Resampled dataset shape Counter({0: 345, 1: 105})\n"
     ]
    }
   ],
   "source": [
    "from collections import Counter\n",
    "from sklearn.datasets import make_classification\n",
    "from imblearn.over_sampling import BorderlineSMOTE\n",
    "\n",
    "#IR = 9.86 属于高不均衡数据\n",
    "\n",
    "sm = BorderlineSMOTE(\n",
    "    random_state=42,\n",
    "    kind=\"borderline-1\",\n",
    "    sampling_strategy={0: 345, 1: 105},# 令IR=3\n",
    "    k_neighbors=5, #确定邻居点的数量\n",
    "    m_neighbors=10) #指定在合成样本生成过程中从近邻点中选择多少个样本作为参考\n",
    "X_bdsmote, y_bdsmote = sm.fit_resample(X_igq1, y_igq1)\n",
    "print('Resampled dataset shape %s' % Counter(y_bdsmote))\n",
    "# 合并为一个新的dataframe\n",
    "y_bdsmote = pd.Series(y_bdsmote,name=\"status\")\n",
    "data_bdsmote = pd.concat([X_bdsmote, y_bdsmote], axis=1)"
   ]
  },
  {
   "cell_type": "markdown",
   "id": "2ebe83a1",
   "metadata": {},
   "source": [
    "#### （3）对多数类的欠采样"
   ]
  },
  {
   "cell_type": "code",
   "execution_count": 21,
   "id": "51619a6f",
   "metadata": {},
   "outputs": [],
   "source": [
    "from sklearn.neighbors import NearestNeighbors\n",
    "from imblearn.under_sampling import TomekLinks\n",
    "from collections import Counter\n",
    "\n",
    "def find_and_remove_danger_samples(X, y, k=5):\n",
    "    \"\"\"\n",
    "    找出多数类中的 'danger' 样本，并将其删除\n",
    "    \n",
    "    参数:\n",
    "    - X: 特征矩阵 (DataFrame 或 2D NumPy 数组)\n",
    "    - y: 标签 (Series 或 1D NumPy 数组)\n",
    "    - k: KNN 的 k 值\n",
    "    \n",
    "    返回:\n",
    "    - X_cleaned: 清理后的特征矩阵\n",
    "    - y_cleaned: 清理后的标签\n",
    "    \"\"\"\n",
    "    \n",
    "    # 将 X 和 y 转换为 NumPy 数组\n",
    "    X = np.array(X)\n",
    "    y = np.array(y)\n",
    "    \n",
    "    # 识别多数类\n",
    "    majority_class = max(set(y), key=list(y).count)\n",
    "    \n",
    "    # 初始化 KNN\n",
    "    neigh = NearestNeighbors(n_neighbors=k)\n",
    "    neigh.fit(X)\n",
    "    \n",
    "    danger_indices = []\n",
    "    \n",
    "    for idx, x in enumerate(X):\n",
    "        if y[idx] == majority_class:\n",
    "            # 找到最近邻居\n",
    "            neighbors = neigh.kneighbors([x], return_distance=False)\n",
    "            neighbor_labels = y[neighbors[0]]\n",
    "            \n",
    "            # 计算该样本的最近邻中少数类样本的数量\n",
    "            minority_count = np.sum(neighbor_labels != majority_class)\n",
    "            \n",
    "            # 判断是否为 'danger' 样本\n",
    "            if minority_count > k / 2:\n",
    "                danger_indices.append(idx)\n",
    "    \n",
    "    # 删除 'danger' 样本\n",
    "    X_cleaned = np.delete(X, danger_indices, axis=0)\n",
    "    y_cleaned = np.delete(y, danger_indices, axis=0)\n",
    "    \n",
    "    return X_cleaned, y_cleaned"
   ]
  },
  {
   "cell_type": "code",
   "execution_count": 22,
   "id": "54f4a6dd",
   "metadata": {},
   "outputs": [
    {
     "name": "stdout",
     "output_type": "stream",
     "text": [
      "Cleaned dataset shape: Counter({0: 173, 1: 105})\n"
     ]
    }
   ],
   "source": [
    "X_cleaned, y_cleaned = find_and_remove_danger_samples(X_bdsmote.values, data_bdsmote[\"status\"], k=20)\n",
    "print(f\"Cleaned dataset shape: {Counter(y_cleaned)}\")"
   ]
  },
  {
   "cell_type": "code",
   "execution_count": 23,
   "id": "8ff91155",
   "metadata": {},
   "outputs": [],
   "source": [
    "# 合并为一个新的dataframe\n",
    "# new_sample = [f'Sample{i+1}' for i in range(len(X_cleaned))]  \n",
    "X_bdknn = pd.DataFrame(X_cleaned,columns=X_bdsmote.columns)\n",
    "y_bdknn = pd.Series(y_cleaned,name=\"status\")\n",
    "data_bdknn = pd.concat([X_bdknn, y_bdknn], axis=1)"
   ]
  },
  {
   "cell_type": "markdown",
   "id": "7ed18b72",
   "metadata": {},
   "source": [
    "#### (3)画出降维后的结果"
   ]
  },
  {
   "cell_type": "code",
   "execution_count": null,
   "id": "24e15ca9",
   "metadata": {},
   "outputs": [
    {
     "data": {
      "image/png": "[encoded data removed]",
      "text/plain": [
       "<Figure size 700x350 with 2 Axes>"
      ]
     },
     "metadata": {},
     "output_type": "display_data"
    }
   ],
   "source": [
    "# from sklearn.decomposition import PCA\n",
    "# from matplotlib.colors import ListedColormap\n",
    "\n",
    "# pca = PCA(n_components=2)\n",
    "# X_igq1_pca = pca.fit_transform(X_igq1)\n",
    "# X_bdsmote_pca = pca.fit_transform(X_bdsmote)\n",
    "# X_bdknn_pca = pca.fit_transform(X_cleaned)\n",
    "\n",
    "# # 创建一个包含左右两个子图的图形\n",
    "# # fig, axes = plt.subplots(1, 3, figsize=(9,3))\n",
    "# fig, axes = plt.subplots(1, 2, figsize=(7,3.5))\n",
    "\n",
    "\n",
    "# # 左图：绘制原始数据的散点图\n",
    "# # 绘制类别 0 的点\n",
    "# axes[0].scatter(X_igq1_pca[y_igq1 == 0, 0], X_igq1_pca[y_igq1 == 0, 1], \n",
    "#                 label='MCI', alpha=1, s=25,edgecolors='w', linewidths=0.5, color='#79a679' )\n",
    "# # 绘制类别 1 的点\n",
    "# axes[0].scatter(X_igq1_pca[y_igq1 == 1, 0], X_igq1_pca[y_igq1 == 1, 1], \n",
    "#                 label='AD', alpha=1, s=25,edgecolors='w', linewidths=0.5, color='#e89292' )\n",
    "# axes[0].set_xlabel('PCA1', fontdict={'family':'Arial', 'size':14})\n",
    "# axes[0].set_ylabel('PAC2', fontdict={'family':'Arial', 'size':14})\n",
    "# axes[0].set_title('Filtered Probes', fontdict={'family':'Arial', 'size':14})\n",
    "# # 添加图例\n",
    "# axes[0].legend(handletextpad=0.5, prop={'family': 'Arial'}, borderpad=0.2,loc='upper right')\n",
    "\n",
    "# # 右图：绘制欠采样后数据的散点图\n",
    "# # 绘制类别 0 的点\n",
    "# axes[1].scatter(X_bdknn_pca[y_cleaned == 0, 0], X_bdknn_pca[y_cleaned == 0, 1], \n",
    "#                 label='MCI', alpha=1, s=25,edgecolors='w', linewidths=0.5, color='#79a679' )\n",
    "# # 绘制类别 1 的点\n",
    "# axes[1].scatter(X_bdknn_pca[y_cleaned == 1, 0], X_bdknn_pca[y_cleaned == 1, 1], \n",
    "#                 label='AD', alpha=1, s=25,edgecolors='w', linewidths=0.5, color='#e89292' )\n",
    "# axes[1].set_xlabel('PCA1', fontdict={'family':'Arial', 'size':14})\n",
    "# axes[1].set_ylabel('PCA2', fontdict={'family':'Arial', 'size':14})\n",
    "# axes[1].set_title('Mixed Sampling', fontdict={'family':'Arial', 'size':14})\n",
    "# # 添加图例\n",
    "# axes[1].legend(handletextpad=0.5, prop={'family': 'Arial'}, borderpad=0.2)\n",
    "\n",
    "\n",
    "# # 调整子图间距\n",
    "# plt.tight_layout()\n",
    "\n",
    "# # 显示图形\n",
    "# plt.show()\n"
   ]
  },
  {
   "cell_type": "markdown",
   "id": "285460fe",
   "metadata": {},
   "source": [
    "## 二、特征挑选——随机森林"
   ]
  },
  {
   "cell_type": "markdown",
   "id": "f7f342e7",
   "metadata": {},
   "source": [
    "### 1、基于Embedded Methods\n",
    "将特征选择嵌入到模型训练过程中，即在模型的训练过程中同时完成特征选择和模型训练。"
   ]
  },
  {
   "cell_type": "code",
   "execution_count": 29,
   "id": "8033a347",
   "metadata": {},
   "outputs": [],
   "source": [
    "#计算 G-mean 分数\n",
    "def g_mean_score(y_true, y_pred):\n",
    "    # 计算混淆矩阵\n",
    "    tn, fp, fn, tp = confusion_matrix(y_true, y_pred).ravel()\n",
    "    # 计算真正率\n",
    "    recall_pos = tp / (tp + fn)  # 对于正类\n",
    "    recall_neg = tn / (tn + fp)  # 对于负类\n",
    "    # 计算 G-mean\n",
    "    g_mean = np.sqrt(recall_pos * recall_neg)\n",
    "    \n",
    "    return g_mean"
   ]
  },
  {
   "cell_type": "code",
   "execution_count": 30,
   "id": "26beb820",
   "metadata": {},
   "outputs": [
    {
     "name": "stdout",
     "output_type": "stream",
     "text": [
      "auc_score =  0.9470486111111112\n",
      "accuracy =  0.9523809523809523\n",
      "prediction =  0.956043956043956\n",
      "recall =  0.9523809523809523\n",
      "f1_score =  0.9519327731092437\n"
     ]
    }
   ],
   "source": [
    "# 训练随机森林模型\n",
    "\n",
    "# # 分割数据集为训练集和测试集\n",
    "X_train, X_test, y_train, y_test = train_test_split(X_bdknn, y_bdknn, test_size=0.3, random_state=42) \n",
    "\n",
    "model_rf = RandomForestClassifier(n_estimators=100, random_state=42)\n",
    "model_rf.fit(X_train, y_train)\n",
    "\n",
    "y_predict_rf = model_rf.predict(X_test)\n",
    "y_score_rf = model_rf.predict_proba(X_test)[:,1]\n",
    "auc_rf = roc_auc_score(y_test,y_score_rf, multi_class='ovr')\n",
    "accuracy_rf = accuracy_score(y_test, y_predict_rf)\n",
    "precision_rf = precision_score(y_test, y_predict_rf, average='weighted')\n",
    "recall_rf = recall_score(y_test, y_predict_rf, average='weighted')\n",
    "f1_rf= f1_score(y_test, y_predict_rf, average='weighted')\n",
    "\n",
    "print('auc_score = ', auc_rf)\n",
    "print('accuracy = ', accuracy_rf)\n",
    "print('prediction = ', precision_rf)\n",
    "print('recall = ', recall_rf)\n",
    "print('f1_score = ', f1_rf)"
   ]
  },
  {
   "cell_type": "code",
   "execution_count": 31,
   "id": "9214c471",
   "metadata": {},
   "outputs": [],
   "source": [
    "# 选择特征重要性得分排名前50的特征\n",
    "top15_features_rf = ig_features[np.argsort(model_rf.feature_importances_)[::-1][:50]]\n",
    "# print(\"Selected features:\", top30_features_rf)"
   ]
  },
  {
   "cell_type": "markdown",
   "id": "eeab9ecf",
   "metadata": {},
   "source": [
    "## 三、SVM分类"
   ]
  },
  {
   "cell_type": "code",
   "execution_count": 32,
   "id": "46b8d440",
   "metadata": {},
   "outputs": [],
   "source": [
    "# 初始化 SVM 模型\n",
    "est_svm = SVC(kernel='rbf', probability=True)\n",
    "# 初始化 5 折交叉验证\n",
    "kf = StratifiedKFold(n_splits=10)\n",
    "\n",
    "# 交叉验证\n",
    "def cal_scores(X,y):\n",
    "    # 用于保存每个折叠的结果\n",
    "    auc_scores = []\n",
    "    accuracy_scores = []\n",
    "    precision_scores = []\n",
    "    recall_scores = []\n",
    "    f1_scores = []\n",
    "    g_means = []\n",
    "\n",
    "    for train_index, test_index in kf.split(X,y):\n",
    "        X_train, X_test = X.iloc[train_index], X.iloc[test_index]\n",
    "        y_train, y_test = y.iloc[train_index], y.iloc[test_index]\n",
    "\n",
    "        # 训练模型\n",
    "        est_svm.fit(X_train, y_train)\n",
    "\n",
    "        # 预测\n",
    "        y_predict_svm = est_svm.predict(X_test)\n",
    "        y_score_svm = est_svm.predict_proba(X_test)[:, 1]\n",
    "\n",
    "        # 计算各项指标\n",
    "        auc_svm = roc_auc_score(y_test, y_score_svm)\n",
    "        accuracy_svm = accuracy_score(y_test, y_predict_svm)\n",
    "        precision_svm = precision_score(y_test, y_predict_svm)\n",
    "        recall_svm = recall_score(y_test, y_predict_svm)\n",
    "        f1_svm = f1_score(y_test, y_predict_svm)\n",
    "        gmean_svm = g_mean_score(y_test, y_predict_svm)\n",
    "\n",
    "        # 保存结果\n",
    "        auc_scores.append(auc_svm)\n",
    "        accuracy_scores.append(accuracy_svm)\n",
    "        precision_scores.append(precision_svm)\n",
    "        recall_scores.append(recall_svm)\n",
    "        f1_scores.append(f1_svm)\n",
    "        g_means.append(gmean_svm)\n",
    "\n",
    "    # 计算平均值\n",
    "    mean_auc = np.mean(auc_scores)\n",
    "    mean_accuracy = np.mean(accuracy_scores)\n",
    "    mean_precision = np.mean(precision_scores)\n",
    "    mean_recall = np.mean(recall_scores)\n",
    "    mean_f1 = np.mean(f1_scores)\n",
    "    mean_g = np.mean(g_means)\n",
    "    \n",
    "    return mean_accuracy,mean_precision,mean_f1,mean_g"
   ]
  },
  {
   "cell_type": "code",
   "execution_count": 33,
   "id": "a62bbf72",
   "metadata": {},
   "outputs": [],
   "source": [
    "# 带入使用\n",
    "X_rf = data_bdknn.iloc[:,:-1][top15_features_rf]\n",
    "y = data_bdknn['status']\n",
    "\n",
    "# 存储结果的列表 rf\n",
    "num_features_rf = []\n",
    "Accuracy_scores_rf = []\n",
    "Precision_scores_rf = []\n",
    "F1_scores_rf = []\n",
    "Gmean_scores_rf = []\n",
    "\n",
    "# 遍历特征列表，进行交叉验证\n",
    "for i in range(1, len(top15_features_rf) + 1):\n",
    "    # 选择前i个特征\n",
    "    selected_features = top15_features_rf[:i]\n",
    "    X_subset = X_rf[selected_features]  # 提取子集特征\n",
    "    \n",
    "    # 进行五折交叉验证 \n",
    "    mean_accuracy,mean_precision,mean_f1,mean_g = cal_scores(X_subset,y)\n",
    "    \n",
    "    num_features_rf.append(i)\n",
    "    Accuracy_scores_rf.append(mean_accuracy)\n",
    "    Precision_scores_rf.append(mean_precision)\n",
    "    F1_scores_rf.append(mean_f1)\n",
    "    Gmean_scores_rf.append(mean_g)"
   ]
  },
  {
   "cell_type": "code",
   "execution_count": 56,
   "id": "56c3f261",
   "metadata": {},
   "outputs": [],
   "source": [
    "plt.rcParams['font.size'] = 16"
   ]
  },
  {
   "cell_type": "code",
   "execution_count": null,
   "id": "d37757b9",
   "metadata": {},
   "outputs": [
    {
     "data": {
      "image/png": "[encoded data removed]",
      "text/plain": [
       "<Figure size 400x350 with 1 Axes>"
      ]
     },
     "metadata": {},
     "output_type": "display_data"
    }
   ],
   "source": [
    "# 绘制ACC值随特征数量变化的曲线\n",
    "plt.figure(figsize=(4,3.5))\n",
    "           \n",
    "plt.plot(num_features_rf, Accuracy_scores_rf, marker='x', linestyle='-',label=\"Accuracy\",color='#46BDDD')\n",
    "plt.plot(num_features_rf, Precision_scores_rf, marker='o', linestyle='-',label=\"Precision\",color='#FDB762')\n",
    "plt.plot(num_features_rf, F1_scores_rf, marker='4', linestyle='-',label=\"F1-scores\",color='#48B098')\n",
    "plt.plot(num_features_rf, Gmean_scores_rf, marker='v', linestyle='-',label=\"G-mean\",color='#FB9A99')\n",
    "\n",
    "plt.plot([10, 10], [0.65, Accuracy_scores_rf[9]], color='black', linestyle='--', linewidth=1)\n",
    "\n",
    "plt.xlabel('Number of Features',fontdict={'family':'Arial','size':16}) #Times New Roman\n",
    "plt.ylabel('Scores',fontdict={'family':'Arial', 'size':16}) \n",
    "plt.title('Classification (MCI vs. AD)',fontdict={'family':'Arial', 'size':16})\n",
    "plt.ylim(0.65,1)\n",
    "plt.legend(handletextpad=0.5, prop={'family': 'Arial'}, framealpha=0,loc='lower right')\n",
    "\n",
    "plt.show()"
   ]
  },
  {
   "cell_type": "code",
   "execution_count": 131,
   "id": "8abdccbe",
   "metadata": {},
   "outputs": [
    {
     "name": "stdout",
     "output_type": "stream",
     "text": [
      "Mean Accuracy = 0.8893\n",
      "Mean Precision = 0.8695\n",
      "Mean F1 Score = 0.8484\n",
      "Mean G-mean = 0.8743\n"
     ]
    }
   ],
   "source": [
    "# 特征数量取10\n",
    "X_top10 = data_bdknn.iloc[:,:-1][top15_features_rf].iloc[:,:10]\n",
    "y = data_bdknn[\"status\"]\n",
    "mean_accuracy,mean_precision,mean_f1,mean_g = cal_scores(X_top10,y)\n",
    "\n",
    "# 输出结果\n",
    "print(f'Mean Accuracy = {mean_accuracy:.4f}')\n",
    "print(f'Mean Precision = {mean_precision:.4f}')\n",
    "print(f'Mean F1 Score = {mean_f1:.4f}')\n",
    "print(f'Mean G-mean = {mean_g:.4f}')"
   ]
  },
  {
   "cell_type": "code",
   "execution_count": 53,
   "id": "c53d06c4",
   "metadata": {},
   "outputs": [
    {
     "data": {
      "image/png": "[encoded data removed]",
      "text/plain": [
       "<Figure size 250x300 with 1 Axes>"
      ]
     },
     "metadata": {},
     "output_type": "display_data"
    }
   ],
   "source": [
    "import matplotlib.pyplot as plt\n",
    "\n",
    "# Data\n",
    "metrics = ['Accuracy', 'Precision', 'F1-scores', 'G-mean']\n",
    "values = [0.8893, 0.8695, 0.8484, 0.8743]\n",
    "colors = ['#c77979', '#50627c', '#bf8040', '#6b8e23']  # Warm muted colors\n",
    "\n",
    "# Create the bar chart\n",
    "plt.figure(figsize=(2.5, 3))\n",
    "bars = plt.bar(metrics, values, color=colors)\n",
    "\n",
    "plt.xticks(rotation=30)\n",
    "\n",
    "# Add text for labels, title and custom x-axis tick labels, etc.\n",
    "plt.xlabel('',fontsize=12)\n",
    "plt.ylabel('Scores',fontsize=12)\n",
    "plt.title('Top10 Probes(MCI vs. AD)',fontsize=12)\n",
    "plt.ylim(0.5,1)  # Adjust y-axis to better fit the range of the data\n",
    "\n",
    "# Adding the text labels on the bars\n",
    "for bar in bars:\n",
    "    yval = bar.get_height()\n",
    "    plt.text(bar.get_x() + bar.get_width()/2, yval, round(yval, 2), ha='center', va='bottom')\n",
    "\n",
    "plt.show()\n"
   ]
  },
  {
   "cell_type": "code",
   "execution_count": null,
   "id": "2f257b03",
   "metadata": {},
   "outputs": [],
   "source": []
  }
 ],
 "metadata": {
  "kernelspec": {
   "display_name": "Python 3 (ipykernel)",
   "language": "python",
   "name": "python3"
  },
  "language_info": {
   "codemirror_mode": {
    "name": "ipython",
    "version": 3
   },
   "file_extension": ".py",
   "mimetype": "text/x-python",
   "name": "python",
   "nbconvert_exporter": "python",
   "pygments_lexer": "ipython3",
   "version": "3.9.13"
  }
 },
 "nbformat": 4,
 "nbformat_minor": 5
}
