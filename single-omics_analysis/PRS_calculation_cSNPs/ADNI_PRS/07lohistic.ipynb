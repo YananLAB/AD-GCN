{
 "cells": [
  {
   "cell_type": "code",
   "execution_count": 1,
   "id": "c7685b50",
   "metadata": {},
   "outputs": [],
   "source": [
    "import numpy as np\n",
    "import pandas as pd\n",
    "from sklearn.decomposition import PCA\n",
    "from sklearn.model_selection import train_test_split, cross_val_score\n",
    "from sklearn.preprocessing import RobustScaler,StandardScaler\n",
    "from sklearn.model_selection import cross_val_score, cross_val_predict, StratifiedKFold\n",
    "import matplotlib.pyplot as plt\n",
    "from sklearn.model_selection import GridSearchCV,cross_validate,KFold\n",
    "from sklearn.metrics import confusion_matrix, classification_report\n",
    "from sklearn.metrics import roc_auc_score, accuracy_score, precision_score, recall_score, f1_score\n",
    "from sklearn.metrics import precision_score, recall_score, f1_score, roc_curve, roc_auc_score, auc,precision_recall_curve,accuracy_score\n",
    "from sklearn.feature_selection import SelectFromModel\n",
    "from sklearn.model_selection import StratifiedKFold\n",
    "\n",
    "# 使用以下分类模型\n",
    "# from sklearn.neighbors import KNeighborsClassifier\n",
    "from sklearn.linear_model import LogisticRegression\n",
    "# from sklearn.svm import SVC\n",
    "# from sklearn.ensemble import ExtraTreesClassifier\n",
    "# from sklearn.ensemble import RandomForestClassifier\n",
    "# from sklearn.ensemble import AdaBoostClassifier\n",
    "# from sklearn.tree import DecisionTreeClassifier\n",
    "# from xgboost import XGBClassifier\n",
    "# from lightgbm import LGBMClassifier"
   ]
  },
  {
   "cell_type": "code",
   "execution_count": 2,
   "id": "322b874a",
   "metadata": {},
   "outputs": [],
   "source": [
    "plt.rcParams['font.family'] = 'Arial'\n",
    "plt.rcParams['font.size'] = 12"
   ]
  },
  {
   "cell_type": "code",
   "execution_count": 5,
   "id": "c972093c",
   "metadata": {},
   "outputs": [],
   "source": [
    "cn_ad_data = pd.read_excel('./adni.prs.clinic.xlsx', sheet_name='cn-ad')\n",
    "cn_mci_data = pd.read_excel('./adni.prs.clinic.xlsx', sheet_name='cn-mci')\n",
    "mci_ad_data = pd.read_excel('./adni.prs.clinic.xlsx', sheet_name='mci-ad')"
   ]
  },
  {
   "cell_type": "code",
   "execution_count": 7,
   "id": "383291eb",
   "metadata": {},
   "outputs": [],
   "source": [
    "features_prsice=['PRSice.prs', 'PTGENDER', 'AGE', 'PTEDUCAT','PTMARRY']\n",
    "features_ldpred=['Ldpred.prs', 'PTGENDER', 'AGE', 'PTEDUCAT','PTMARRY']\n",
    "features_prscs=['PRSCS.prs', 'PTGENDER', 'AGE', 'PTEDUCAT','PTMARRY']\n",
    "features_lasso=['Lasso.prs','PTGENDER', 'AGE', 'PTEDUCAT','PTMARRY']\n",
    "features_cov=['PTGENDER', 'AGE', 'PTEDUCAT','PTMARRY']"
   ]
  },
  {
   "cell_type": "code",
   "execution_count": 8,
   "id": "78a4c0b4",
   "metadata": {},
   "outputs": [],
   "source": [
    "# CN_AD 组\n",
    "X_CN_AD_prsice = cn_ad_data[features_prsice]\n",
    "X_CN_AD_prsice = StandardScaler().fit_transform(X_CN_AD_prsice)\n",
    "y_CN_AD_prsice = cn_ad_data[\"status\"]\n",
    "\n",
    "X_CN_AD_ldpred = cn_ad_data[features_ldpred]\n",
    "X_CN_AD_ldpred = StandardScaler().fit_transform(X_CN_AD_ldpred)\n",
    "y_CN_AD_ldpred = cn_ad_data[\"status\"]\n",
    "\n",
    "X_CN_AD_prscs = cn_ad_data[features_prscs]\n",
    "X_CN_AD_prscs = StandardScaler().fit_transform(X_CN_AD_prscs)\n",
    "y_CN_AD_prscs = cn_ad_data[\"status\"]\n",
    "\n",
    "X_CN_AD_lasso = cn_ad_data[features_lasso]\n",
    "X_CN_AD_lasso = StandardScaler().fit_transform(X_CN_AD_lasso)\n",
    "y_CN_AD_lasso = cn_ad_data[\"status\"]\n",
    "\n",
    "X_CN_AD_cov = cn_ad_data[features_cov]\n",
    "X_CN_AD_cov = StandardScaler().fit_transform(X_CN_AD_cov)\n",
    "y_CN_AD_cov = cn_ad_data[\"status\"]"
   ]
  },
  {
   "cell_type": "code",
   "execution_count": 9,
   "id": "68c5a6c6",
   "metadata": {},
   "outputs": [],
   "source": [
    "# CN_MCI 组\n",
    "X_CN_MCI_prsice = cn_mci_data[features_prsice]\n",
    "X_CN_MCI_prsice = StandardScaler().fit_transform(X_CN_MCI_prsice)\n",
    "y_CN_MCI_prsice = cn_mci_data[\"status\"]\n",
    "\n",
    "X_CN_MCI_ldpred = cn_mci_data[features_ldpred]\n",
    "X_CN_MCI_ldpred = StandardScaler().fit_transform(X_CN_MCI_ldpred)\n",
    "y_CN_MCI_ldpred = cn_mci_data[\"status\"]\n",
    "\n",
    "X_CN_MCI_prscs = cn_mci_data[features_prscs]\n",
    "X_CN_MCI_prscs = StandardScaler().fit_transform(X_CN_MCI_prscs)\n",
    "y_CN_MCI_prscs = cn_mci_data[\"status\"]\n",
    "\n",
    "X_CN_MCI_lasso = cn_mci_data[features_lasso]\n",
    "X_CN_MCI_lasso = StandardScaler().fit_transform(X_CN_MCI_lasso)\n",
    "y_CN_MCI_lasso = cn_mci_data[\"status\"]\n",
    "\n",
    "X_CN_MCI_cov = cn_mci_data[features_cov]\n",
    "X_CN_MCI_cov = StandardScaler().fit_transform(X_CN_MCI_cov)\n",
    "y_CN_MCI_cov = cn_mci_data[\"status\"]"
   ]
  },
  {
   "cell_type": "code",
   "execution_count": 10,
   "id": "0f346214",
   "metadata": {},
   "outputs": [],
   "source": [
    "# MCI_AD 组\n",
    "X_MCI_AD_prsice = mci_ad_data[features_prsice]\n",
    "X_MCI_AD_prsice = StandardScaler().fit_transform(X_MCI_AD_prsice)\n",
    "y_MCI_AD_prsice = mci_ad_data[\"status\"]\n",
    "\n",
    "X_MCI_AD_ldpred = mci_ad_data[features_ldpred]\n",
    "X_MCI_AD_ldpred = StandardScaler().fit_transform(X_MCI_AD_ldpred)\n",
    "y_MCI_AD_ldpred = mci_ad_data[\"status\"]\n",
    "\n",
    "X_MCI_AD_prscs = mci_ad_data[features_prscs]\n",
    "X_MCI_AD_prscs = StandardScaler().fit_transform(X_MCI_AD_prscs)\n",
    "y_MCI_AD_prscs = mci_ad_data[\"status\"]\n",
    "\n",
    "X_MCI_AD_lasso = mci_ad_data[features_lasso]\n",
    "X_MCI_AD_lasso = StandardScaler().fit_transform(X_MCI_AD_lasso)\n",
    "y_MCI_AD_lasso = mci_ad_data[\"status\"]\n",
    "\n",
    "X_MCI_AD_cov = mci_ad_data[features_cov]\n",
    "X_MCI_AD_cov = StandardScaler().fit_transform(X_MCI_AD_cov)\n",
    "y_MCI_AD_cov = mci_ad_data[\"status\"]"
   ]
  },
  {
   "cell_type": "markdown",
   "id": "d471fd02",
   "metadata": {},
   "source": [
    "#### 弹性网络分类效果"
   ]
  },
  {
   "cell_type": "code",
   "execution_count": 18,
   "id": "08fb6c45",
   "metadata": {},
   "outputs": [],
   "source": [
    "# X_train, X_test, y_train, y_test = train_test_split(X_CN_AD, y_CN_AD, test_size=0.3, random_state=42)"
   ]
  },
  {
   "cell_type": "code",
   "execution_count": 31,
   "id": "5b8c2e0b",
   "metadata": {},
   "outputs": [],
   "source": [
    "# 定义支持向量机分类器\n",
    "# est_svm = SVC(kernel='rbf', probability=True)\n",
    "log = LogisticRegression()\n",
    "\n",
    "# 定义五折交叉验证\n",
    "cv = StratifiedKFold(n_splits=5)\n",
    "\n",
    "# 初始化存储每折评分结果的列表\n",
    "# Auc_scores = []\n",
    "# Accuracy_scores = []\n",
    "# Precision_scores = []\n",
    "# Recall_scores = []\n",
    "# F1_scores = []\n",
    "\n",
    "# X_CN_MCI_prsice y_CN_MCI_prsice\n",
    "# X_CN_MCI_ldpred y_CN_MCI_ldpred\n",
    "# X_CN_MCI_prscs  y_CN_MCI_prscs\n",
    "# X_CN_MCI_lasso  y_CN_MCI_lasso\n",
    "\n",
    "# 开始交叉验证\n",
    "def cal_k5_auc(X,y):\n",
    "    Auc_scores = []\n",
    "    fold = 1\n",
    "    \n",
    "    for train_idx, test_idx in cv.split(X, y):\n",
    "        X_train, X_test = X[train_idx], X[test_idx]\n",
    "        y_train, y_test = y[train_idx], y[test_idx]\n",
    "\n",
    "        # 训练模型\n",
    "        log.fit(X_train, y_train)\n",
    "\n",
    "        # 对测试数据进行预测\n",
    "        y_pred = log.predict(X_test)\n",
    "        y_score = log.predict_proba(X_test)[:, 1]\n",
    "\n",
    "        # 计算评分指标\n",
    "        auc = roc_auc_score(y_test, y_score)\n",
    "        accuracy = accuracy_score(y_test, y_pred)\n",
    "        precision = precision_score(y_test, y_pred)\n",
    "        recall = recall_score(y_test, y_pred)\n",
    "        f1 = f1_score(y_test, y_pred)\n",
    "\n",
    "        # 保存评分结果\n",
    "        Auc_scores.append(auc)\n",
    "#         Accuracy_scores.append(accuracy)\n",
    "#         Precision_scores.append(precision)\n",
    "#         Recall_scores.append(recall)\n",
    "#         F1_scores.append(f1)\n",
    "\n",
    "#         # 输出每一折的评分结果\n",
    "#         print(f'Fold {fold} results:')\n",
    "#         print(f'auc_score = {auc}')\n",
    "#         print(f'accuracy = {accuracy}')\n",
    "#         print(f'precision = {precision}')\n",
    "#         print(f'recall = {recall}')\n",
    "#         print(f'f1_score = {f1}')\n",
    "#         print('----------------------------')\n",
    "\n",
    "        fold += 1\n",
    "\n",
    "    # 计算并输出平均评分结果\n",
    "#     print('Average results:')\n",
    "#     print(np.mean(Auc_scores))#'auc_score = ', \n",
    "    return np.mean(Auc_scores)  # Auc_scores\n",
    "# print('accuracy = ', np.mean(Accuracy_scores))\n",
    "# print('precision = ', np.mean(Precision_scores))\n",
    "# print('recall = ', np.mean(Recall_scores))\n",
    "# print('f1_score = ', np.mean(F1_scores))\n"
   ]
  },
  {
   "cell_type": "code",
   "execution_count": 32,
   "id": "1cb7be6b",
   "metadata": {},
   "outputs": [
    {
     "name": "stdout",
     "output_type": "stream",
     "text": [
      "0.5918429867528489\n",
      "0.5983908162062986\n",
      "0.6512296116749987\n",
      "0.5928310525341278\n",
      "0.6044707030921241\n"
     ]
    }
   ],
   "source": [
    "# X_CN_MCI_prsice, y_CN_MCI_prsice\n",
    "# X_CN_MCI_ldpred, y_CN_MCI_ldpred\n",
    "# X_CN_MCI_prscs, y_CN_MCI_prscs\n",
    "# X_CN_MCI_lasso, y_CN_MCI_lasso\n",
    "\n",
    "Auc_scores1 = cal_k5_auc(X_CN_MCI_cov, y_CN_MCI_cov)\n",
    "Auc_scores2 = cal_k5_auc(X_CN_MCI_prsice, y_CN_MCI_prsice)\n",
    "Auc_scores3 = cal_k5_auc(X_CN_MCI_ldpred, y_CN_MCI_ldpred)\n",
    "Auc_scores4 = cal_k5_auc(X_CN_MCI_prscs, y_CN_MCI_prscs)\n",
    "Auc_scores5 = cal_k5_auc(X_CN_MCI_lasso, y_CN_MCI_lasso)\n",
    "\n",
    "print(Auc_scores1)\n",
    "print(Auc_scores2)\n",
    "print(Auc_scores3)\n",
    "print(Auc_scores4)\n",
    "print(Auc_scores5)"
   ]
  },
  {
   "cell_type": "code",
   "execution_count": 33,
   "id": "2e479d41",
   "metadata": {},
   "outputs": [
    {
     "name": "stdout",
     "output_type": "stream",
     "text": [
      "0.5186494109839057\n",
      "0.6158785465405674\n",
      "0.7872075659532106\n",
      "0.538991206238593\n",
      "0.7170233947237431\n"
     ]
    }
   ],
   "source": [
    "Auc_scores1 = cal_k5_auc(X_CN_AD_cov, y_CN_AD_cov)\n",
    "Auc_scores2 = cal_k5_auc(X_CN_AD_prsice, y_CN_AD_prsice)\n",
    "Auc_scores3 = cal_k5_auc(X_CN_AD_ldpred, y_CN_AD_ldpred)\n",
    "Auc_scores4 = cal_k5_auc(X_CN_AD_prscs, y_CN_AD_prscs)\n",
    "Auc_scores5 = cal_k5_auc(X_CN_AD_lasso, y_CN_AD_lasso)\n",
    "\n",
    "print(Auc_scores1)\n",
    "print(Auc_scores2)\n",
    "print(Auc_scores3)\n",
    "print(Auc_scores4)\n",
    "print(Auc_scores5)"
   ]
  },
  {
   "cell_type": "code",
   "execution_count": 34,
   "id": "1b6d9d35",
   "metadata": {},
   "outputs": [
    {
     "name": "stdout",
     "output_type": "stream",
     "text": [
      "0.5443064182194617\n",
      "0.6053830227743271\n",
      "0.6853002070393375\n",
      "0.6248447204968943\n",
      "0.5884057971014492\n"
     ]
    }
   ],
   "source": [
    "Auc_scores1 = cal_k5_auc(X_MCI_AD_cov, y_MCI_AD_cov)\n",
    "Auc_scores2 = cal_k5_auc(X_MCI_AD_prsice, y_MCI_AD_prsice)\n",
    "Auc_scores3 = cal_k5_auc(X_MCI_AD_ldpred, y_MCI_AD_ldpred)\n",
    "Auc_scores4 = cal_k5_auc(X_MCI_AD_prscs, y_MCI_AD_prscs)\n",
    "Auc_scores5 = cal_k5_auc(X_MCI_AD_lasso, y_MCI_AD_lasso)\n",
    "\n",
    "print(Auc_scores1)\n",
    "print(Auc_scores2)\n",
    "print(Auc_scores3)\n",
    "print(Auc_scores4)\n",
    "print(Auc_scores5)"
   ]
  },
  {
   "cell_type": "code",
   "execution_count": null,
   "id": "8e0d740e",
   "metadata": {},
   "outputs": [],
   "source": []
  },
  {
   "cell_type": "code",
   "execution_count": null,
   "id": "c25e650a",
   "metadata": {},
   "outputs": [],
   "source": []
  }
 ],
 "metadata": {
  "kernelspec": {
   "display_name": "Python 3 (ipykernel)",
   "language": "python",
   "name": "python3"
  },
  "language_info": {
   "codemirror_mode": {
    "name": "ipython",
    "version": 3
   },
   "file_extension": ".py",
   "mimetype": "text/x-python",
   "name": "python",
   "nbconvert_exporter": "python",
   "pygments_lexer": "ipython3",
   "version": "3.9.13"
  }
 },
 "nbformat": 4,
 "nbformat_minor": 5
}
