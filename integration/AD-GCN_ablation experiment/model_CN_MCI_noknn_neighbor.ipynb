{
 "cells": [
  {
   "cell_type": "code",
   "execution_count": 1,
   "id": "e56ec4bb",
   "metadata": {},
   "outputs": [],
   "source": [
    "import warnings\n",
    "warnings.filterwarnings(\"ignore\")\n",
    "import torch\n",
    "import numpy as np\n",
    "import pandas as pd\n",
    "import matplotlib.pyplot as plt\n",
    "import torch.nn as nn\n",
    "from sklearn.neighbors import KNeighborsClassifier\n",
    "from sklearn.metrics import pairwise_distances\n",
    "from torch.nn import Linear\n",
    "import torch.nn.functional as F\n",
    "from torch_geometric.nn import ChebConv\n",
    "from collections import Counter\n",
    "from sklearn.preprocessing import StandardScaler\n",
    "import seaborn as sns"
   ]
  },
  {
   "cell_type": "code",
   "execution_count": 2,
   "id": "3fc604bc",
   "metadata": {},
   "outputs": [],
   "source": [
    "'''读取数据'''\n",
    "data_path = '../concatData.xlsx'\n",
    "CN_MCI_Data = pd.read_excel(data_path,sheet_name=\"CN_MCI\")"
   ]
  },
  {
   "cell_type": "markdown",
   "id": "5791aaf2",
   "metadata": {},
   "source": [
    "## 0、数据均衡"
   ]
  },
  {
   "cell_type": "code",
   "execution_count": 3,
   "id": "e939d722",
   "metadata": {},
   "outputs": [],
   "source": [
    "from sklearn.neighbors import NearestNeighbors\n",
    "\n",
    "'''过采样方法'''\n",
    "def find_and_remove_danger_samples(X, y, k=5): \n",
    "    X = np.array(X)\n",
    "    y = np.array(y)\n",
    "    majority_class = max(set(y), key=list(y).count)\n",
    "    neigh = NearestNeighbors(n_neighbors=k)\n",
    "    neigh.fit(X)\n",
    "    danger_indices = []\n",
    "    for idx, x in enumerate(X):\n",
    "        if y[idx] == majority_class:\n",
    "            neighbors = neigh.kneighbors([x], return_distance=False)\n",
    "            neighbor_labels = y[neighbors[0]]\n",
    "            minority_count = np.sum(neighbor_labels != majority_class)\n",
    "            if minority_count > k / 2:\n",
    "                danger_indices.append(idx)\n",
    "    X_cleaned = np.delete(X, danger_indices, axis=0)\n",
    "    y_cleaned = np.delete(y, danger_indices, axis=0)\n",
    "    \n",
    "    return X_cleaned, y_cleaned"
   ]
  },
  {
   "cell_type": "code",
   "execution_count": 4,
   "id": "ef21c593",
   "metadata": {},
   "outputs": [
    {
     "name": "stdout",
     "output_type": "stream",
     "text": [
      "原始 dataset shape Counter({1: 345, 0: 209})\n",
      "过采样 dataset shape Counter({1: 345, 0: 250})\n",
      "欠采样 dataset shape: Counter({0: 250, 1: 240})\n"
     ]
    }
   ],
   "source": [
    "from collections import Counter\n",
    "from sklearn.datasets import make_classification\n",
    "from imblearn.over_sampling import BorderlineSMOTE\n",
    "\n",
    "cg_X = CN_MCI_Data[['PTGENDER', 'PTMARRY', 'AGE','PTEDUCAT', \n",
    "                  'cov_prs',\n",
    "                  'cg17750572', 'cg01452847', 'cg13348062', 'cg18627235', 'cg15452204', \n",
    "                  'cg01821149', 'cg00884606', 'cg03354992', 'cg09173768', 'cg14515364',\n",
    "                   'CDRSB', 'ADAS11', 'ADAS13', 'ADASQ4', 'MMSE',\n",
    "                   'RAVLTimmediate', 'RAVLTlearning', 'RAVLTforgetting',\n",
    "                   'RAVLTpercforgetting', 'LDELTOTAL', 'TRABSCOR', 'FAQ']]\n",
    "cg_y = CN_MCI_Data['status']\n",
    "print('原始 dataset shape %s' % Counter(cg_y))\n",
    "\n",
    "\n",
    "'''过采样'''\n",
    "sm = BorderlineSMOTE(\n",
    "    random_state=42,\n",
    "    kind=\"borderline-1\",\n",
    "    sampling_strategy={0: 250, 1: 345 },\n",
    "    k_neighbors=5, #确定邻居点的数量\n",
    "    m_neighbors=10) #指定在合成样本生成过程中从近邻点中选择多少个样本作为参考\n",
    "X_bdsmote, y_bdsmote = sm.fit_resample(cg_X, cg_y)\n",
    "print('过采样 dataset shape %s' % Counter(y_bdsmote))\n",
    "# 合并为一个新的dataframe\n",
    "y_bdsmote = pd.Series(y_bdsmote,name=\"status\")\n",
    "data_bdsmote = pd.concat([X_bdsmote, y_bdsmote], axis=1)\n",
    "\n",
    "\n",
    "'''欠采样'''\n",
    "X_cleaned, y_cleaned = find_and_remove_danger_samples(X_bdsmote.values, data_bdsmote[\"status\"], k=100)\n",
    "print(f\"欠采样 dataset shape: {Counter(y_cleaned)}\")\n",
    "# 合并为一个新的dataframe\n",
    "X_bdknn = pd.DataFrame(X_cleaned,columns=X_bdsmote.columns)\n",
    "y_bdknn = pd.Series(y_cleaned,name=\"status\")\n",
    "data_bdknn = pd.concat([X_bdknn, y_bdknn], axis=1)"
   ]
  },
  {
   "cell_type": "code",
   "execution_count": 5,
   "id": "2f3d2191",
   "metadata": {},
   "outputs": [],
   "source": [
    "from sklearn.preprocessing import StandardScaler\n",
    "\n",
    "# # 标准化\n",
    "standard_scaler = StandardScaler()\n",
    "standard_scaler.fit(X_bdknn)\n",
    "X_bdknn = standard_scaler.transform(X_bdknn)\n",
    "X_sample = pd.DataFrame(X_bdknn,columns=['PTGENDER', 'PTMARRY', 'AGE','PTEDUCAT','cov_prs',\n",
    "                                          'cg17750572', 'cg01452847', 'cg13348062', 'cg18627235', 'cg15452204', \n",
    "                                          'cg01821149', 'cg00884606', 'cg03354992', 'cg09173768', 'cg14515364',\n",
    "                                           'CDRSB', 'ADAS11', 'ADAS13', 'ADASQ4', 'MMSE',\n",
    "                                           'RAVLTimmediate', 'RAVLTlearning', 'RAVLTforgetting',\n",
    "                                           'RAVLTpercforgetting', 'LDELTOTAL', 'TRABSCOR', 'FAQ'])\n",
    "X_data = X_sample[['PTGENDER', 'PTMARRY', 'AGE','PTEDUCAT','cov_prs',\n",
    "                      'cg17750572', 'cg01452847', 'cg13348062', 'cg18627235', 'cg15452204', \n",
    "                      'cg01821149', 'cg00884606', 'cg03354992', 'cg09173768', 'cg14515364']]\n",
    "X_cognitions = X_sample[['CDRSB', 'ADAS11', 'ADAS13', 'ADASQ4', 'MMSE',\n",
    "                       'RAVLTimmediate', 'RAVLTlearning', 'RAVLTforgetting',\n",
    "                       'RAVLTpercforgetting', 'LDELTOTAL', 'TRABSCOR', 'FAQ']]\n",
    "y_data = y_bdknn"
   ]
  },
  {
   "cell_type": "markdown",
   "id": "57fc51fb",
   "metadata": {},
   "source": [
    "## 1、构建邻接矩阵"
   ]
  },
  {
   "cell_type": "markdown",
   "id": "d65930a4",
   "metadata": {},
   "source": [
    "### （0）根据三类特征构建邻接矩阵"
   ]
  },
  {
   "cell_type": "code",
   "execution_count": 6,
   "id": "943baa0d",
   "metadata": {},
   "outputs": [],
   "source": [
    "'''根据三类特征数据计算相邻矩阵'''\n",
    "\n",
    "# 计算皮尔逊相关系数矩阵\n",
    "corr = np.corrcoef(X_data, rowvar=True)\n",
    "corr = corr.tolist()\n",
    "\n",
    "# 构建 clinic_prs_methy_edge\n",
    "matrix_clinic_prs_methy = np.zeros_like(corr)  # 初始化为零矩阵，形状与 corr 相同\n",
    "\n",
    "for i in range(len(corr)):\n",
    "    for j in range(len(corr[i])):\n",
    "        if i != j:  # 排除对角线元素\n",
    "            current_value = corr[i][j]\n",
    "            if current_value > 0.5 or current_value <= -0.5:  # 只保留相似度大于 0.5 的样本对\n",
    "                matrix_clinic_prs_methy[i][j] = 1  # 将满足条件的元素设为 1"
   ]
  },
  {
   "cell_type": "markdown",
   "id": "2fd8a2dd",
   "metadata": {},
   "source": [
    "### （1）权重矩阵"
   ]
  },
  {
   "cell_type": "code",
   "execution_count": 7,
   "id": "1ad6c760",
   "metadata": {},
   "outputs": [],
   "source": [
    "# 合并两种带边的节点矩阵\n",
    "node_matrix  = matrix_clinic_prs_methy\n",
    "\n",
    "'''根据12种认知评分数据计算相邻矩阵的权重（用于第二次卷积SAGE）'''\n",
    "# 计算皮尔逊相关系数矩阵\n",
    "cognitive_corr = np.corrcoef(X_cognitions, rowvar=True)\n",
    "cognitive_corr = cognitive_corr.tolist()\n",
    "\n",
    "# 根据认知评分增强的权重矩阵(将联合矩阵的权重赋为这个)\n",
    "cog_weighted_matrix = node_matrix * cognitive_corr"
   ]
  },
  {
   "cell_type": "markdown",
   "id": "c034ea35",
   "metadata": {},
   "source": [
    "### （3）数据处理"
   ]
  },
  {
   "cell_type": "code",
   "execution_count": 8,
   "id": "1b444a4e",
   "metadata": {},
   "outputs": [],
   "source": [
    "import torch\n",
    "import torch.nn.functional as F\n",
    "from torch_geometric.nn import GCNConv\n",
    "from torch_geometric.data import Data\n",
    "\n",
    "# 归一化邻接矩阵\n",
    "def normalize_adj(adj):\n",
    "    adj = adj + np.eye(adj.shape[0])  # 增加自连接\n",
    "    rowsum = np.array(adj.sum(1))\n",
    "    d_inv = np.power(rowsum, -0.5).flatten()\n",
    "    d_inv[np.isinf(d_inv)] = 0.\n",
    "    d_mat_inv = np.diag(d_inv)\n",
    "    return d_mat_inv.dot(adj).dot(d_mat_inv)"
   ]
  },
  {
   "cell_type": "code",
   "execution_count": 9,
   "id": "cec57bff",
   "metadata": {},
   "outputs": [],
   "source": [
    "X_features = np.array(X_data)\n",
    "X_features = torch.from_numpy(X_features)\n",
    "X_nodes = X_features.to(torch.float)\n",
    "\n",
    "y_status = y_data.astype(int)\n",
    "y_status = torch.from_numpy(y_status.values)\n",
    "y_status = y_status.to(torch.long)\n",
    "\n",
    "# 转换为PyTorch张量\n",
    "cog_weighted_matrix = normalize_adj(cog_weighted_matrix)\n",
    "cog_weighted_matrix = torch.tensor(cog_weighted_matrix, dtype=torch.float)\n",
    "\n",
    "# 将邻接矩阵转换为稀疏表示\n",
    "cog_edge_index = (cog_weighted_matrix > 0).nonzero(as_tuple=False).t()\n",
    "cog_edge_weight = cog_weighted_matrix[cog_edge_index[0], cog_edge_index[1]]\n",
    "\n",
    "# 创建PyTorch Geometric的数据对象\n",
    "data = Data(x=X_nodes, y=y_status, edge_index=cog_edge_index, edge_attr=cog_edge_weight)"
   ]
  },
  {
   "cell_type": "code",
   "execution_count": 10,
   "id": "ae9e6a38",
   "metadata": {},
   "outputs": [
    {
     "data": {
      "text/plain": [
       "Data(x=[490, 15], edge_index=[2, 7348], edge_attr=[7348], y=[490])"
      ]
     },
     "execution_count": 10,
     "metadata": {},
     "output_type": "execute_result"
    }
   ],
   "source": [
    "data"
   ]
  },
  {
   "cell_type": "markdown",
   "id": "3fc423c0",
   "metadata": {},
   "source": [
    "## 2、GCN+SAGE 神经网络"
   ]
  },
  {
   "cell_type": "code",
   "execution_count": 11,
   "id": "bd4db181",
   "metadata": {
    "scrolled": true
   },
   "outputs": [
    {
     "name": "stdout",
     "output_type": "stream",
     "text": [
      "{'MCC': 0.7335155457429191, 'Accuracy': 0.8673469387755102, 'Precision': 0.8677223397720292}\n",
      "{'MCC': 0.6083449942418495, 'Accuracy': 0.7959183673469388, 'Precision': 0.813912661838929}\n",
      "{'MCC': 0.7937710437710438, 'Accuracy': 0.8979591836734694, 'Precision': 0.8979591836734694}\n",
      "{'MCC': 0.6954347826512214, 'Accuracy': 0.8469387755102041, 'Precision': 0.8486224489795917}\n",
      "{'MCC': 0.7665135157089951, 'Accuracy': 0.8877551020408163, 'Precision': 0.8879585507220167}\n"
     ]
    }
   ],
   "source": [
    "from sklearn.model_selection import KFold\n",
    "import torch\n",
    "import torch.nn as nn\n",
    "import torch.nn.functional as F\n",
    "from torch_geometric.nn import GCNConv, SAGEConv\n",
    "from torch_geometric.data import Data\n",
    "from sklearn.metrics import accuracy_score, precision_score, recall_score, f1_score, matthews_corrcoef, confusion_matrix\n",
    "\n",
    "class AD_GCN(nn.Module):\n",
    "    def __init__(self):\n",
    "        super().__init__()\n",
    "        self.conv1 = GCNConv(15, 8)  # 假设输入特征为15\n",
    "        self.bn1 = nn.BatchNorm1d(8)\n",
    "        self.conv2 = SAGEConv(8, 3)\n",
    "        self.bn2 = nn.BatchNorm1d(3)\n",
    "        self.fc = nn.Linear(3, 1)  # 二分类输出层\n",
    "    \n",
    "    def forward(self, x, edge_index):\n",
    "        x = F.relu(self.bn1(self.conv1(x, edge_index)))\n",
    "        x = F.dropout(x, p=0.5, training=self.training)\n",
    "        x = self.conv2(x, edge_index)\n",
    "        x = self.bn2(x)\n",
    "        return self.fc(x)  # 使用 BCEWithLogitsLoss，去掉 sigmoid\n",
    "\n",
    "\n",
    "\n",
    "# 准备节点的索引进行交叉验证\n",
    "node_indices = list(range(data.num_nodes))\n",
    "kfold = KFold(n_splits=5, shuffle=True, random_state=42)\n",
    "\n",
    "for fold, (train_idx, test_idx) in enumerate(kfold.split(node_indices)):\n",
    "    model = AD_GCN()  # 为每个折叠重新创建模型\n",
    "    optimizer = torch.optim.Adam(model.parameters(), lr=0.01, weight_decay=5e-4)\n",
    "    criterion = torch.nn.BCEWithLogitsLoss()  # 使用 BCEWithLogitsLoss\n",
    "    \n",
    "    best_loss = float('inf')  # 初始化为正无穷大\n",
    "    best_out = None  # 初始化为None\n",
    "    best_metrics = {}\n",
    "\n",
    "    for epoch in range(1, 201):\n",
    "        model.train()\n",
    "        optimizer.zero_grad()\n",
    "        out = model(data.x, data.edge_index)  # 使用整个图\n",
    "        loss = criterion(out[train_idx], data.y[train_idx].unsqueeze(1).float())\n",
    "        loss.backward()\n",
    "        optimizer.step()\n",
    "\n",
    "        model.eval()\n",
    "        with torch.no_grad():\n",
    "            out = model(data.x, data.edge_index)\n",
    "            pred = pred = (torch.sigmoid(out[test_idx]) > 0.5).long()  # 使用 threshold 转换为类别标签\n",
    "            accuracy = accuracy_score(data.y[test_idx].cpu().numpy(), pred.cpu().numpy())\n",
    "            precision = precision_score(data.y[test_idx].cpu(), pred.cpu(),average='weighted')\n",
    "            mcc = matthews_corrcoef(data.y[test_idx].cpu(), pred.cpu())\n",
    " \n",
    "        if loss.item() < best_loss:  # 更新最佳损失和指标\n",
    "                best_loss = loss.item()\n",
    "                best_metrics = {'MCC': mcc, 'Accuracy': accuracy, 'Precision': precision}\n",
    " \n",
    "        # 打印最佳迭代结果\n",
    "        if epoch % 200 == 0:  # 每20个epoch打印一次\n",
    "            print(f'{best_metrics}')"
   ]
  },
  {
   "cell_type": "code",
   "execution_count": 37,
   "id": "57afd633",
   "metadata": {},
   "outputs": [
    {
     "name": "stdout",
     "output_type": "stream",
     "text": [
      "{'MCC': [0.8434032060389335, 0.8731534676229477, 0.9096846334879913, 0.8786764705882353, 0.819688599970537], 'Accuracy': [0.9253731343283582, 0.9393939393939394, 0.9545454545454546, 0.9393939393939394, 0.9090909090909091], 'Precision': [0.9274969028375907, 0.9421328671328671, 0.9594155844155844, 0.9393939393939394, 0.9105990783410137]}\n"
     ]
    }
   ],
   "source": [
    "# 初始化字典，每个指标都对应一个空列表\n",
    "results = {\n",
    "    \"MCC\": [],\n",
    "    \"Accuracy\": [],\n",
    "    \"Precision\": []\n",
    "}\n",
    "\n",
    "# 原始数据\n",
    "CN_MCI_folds_data_weights = [\n",
    "    {'MCC': 0.7335155457429191, 'Accuracy': 0.8673469387755102, 'Precision': 0.8677223397720292},\n",
    "    {'MCC': 0.6083449942418495, 'Accuracy': 0.7959183673469388, 'Precision': 0.813912661838929},\n",
    "    {'MCC': 0.7937710437710438, 'Accuracy': 0.8979591836734694, 'Precision': 0.8979591836734694},\n",
    "    {'MCC': 0.6954347826512214, 'Accuracy': 0.8469387755102041, 'Precision': 0.8486224489795917},\n",
    "    {'MCC': 0.7665135157089951, 'Accuracy': 0.8877551020408163, 'Precision': 0.8879585507220167}\n",
    "]\n",
    "\n",
    "# 遍历每一折的数据\n",
    "for fold_data in CN_AD_folds_data_weights:\n",
    "    results['MCC'].append(fold_data['MCC'])\n",
    "    results['Accuracy'].append(fold_data['Accuracy'])\n",
    "    results['Precision'].append(fold_data['Precision'])\n",
    "\n",
    "# 输出结果，确保数据已正确添加\n",
    "print(results)\n",
    "\n",
    "\n",
    "# 邻接矩阵消融\n",
    "# 'MCC': [0.8434032060389335, 0.8731534676229477, 0.9096846334879913, 0.8786764705882353, 0.819688599970537]"
   ]
  }
 ],
 "metadata": {
  "kernelspec": {
   "display_name": "Python 3 (ipykernel)",
   "language": "python",
   "name": "python3"
  },
  "language_info": {
   "codemirror_mode": {
    "name": "ipython",
    "version": 3
   },
   "file_extension": ".py",
   "mimetype": "text/x-python",
   "name": "python",
   "nbconvert_exporter": "python",
   "pygments_lexer": "ipython3",
   "version": "3.9.13"
  }
 },
 "nbformat": 4,
 "nbformat_minor": 5
}
