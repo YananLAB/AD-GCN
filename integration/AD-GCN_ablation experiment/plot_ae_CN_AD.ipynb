{
 "cells": [
  {
   "cell_type": "code",
   "execution_count": 1,
   "id": "b5e94805",
   "metadata": {},
   "outputs": [],
   "source": [
    "import matplotlib.pyplot as plt\n",
    "import pandas as pd\n",
    "import seaborn as sns"
   ]
  },
  {
   "cell_type": "code",
   "execution_count": 2,
   "id": "6d383fc3",
   "metadata": {},
   "outputs": [],
   "source": [
    "plt.rcParams['font.family'] = [\"Arial\"]\n",
    "plt.rcParams['font.size'] = 14"
   ]
  },
  {
   "cell_type": "code",
   "execution_count": 3,
   "id": "4d7b8cb7",
   "metadata": {},
   "outputs": [],
   "source": [
    "CN_AD_folds_data_neighbor = [\n",
    "    {'MCC': 0.6823729747055391, 'Accuracy': 0.8507462686567164, 'Precision': 0.8518920548771295},\n",
    "    {'MCC': 0.7163279717599775, 'Accuracy': 0.8636363636363636, 'Precision': 0.8702408702408704},\n",
    "    {'MCC': 0.704550312668966, 'Accuracy': 0.8484848484848485, 'Precision': 0.866750453847228},\n",
    "    {'MCC': 0.7343344667793078, 'Accuracy': 0.8636363636363636, 'Precision': 0.8716222049555383},\n",
    "    {'MCC': 0.6375355777548621, 'Accuracy': 0.8181818181818182, 'Precision': 0.8193548387096774}\n",
    "]"
   ]
  },
  {
   "cell_type": "code",
   "execution_count": 4,
   "id": "aca7e130",
   "metadata": {},
   "outputs": [],
   "source": [
    "CN_AD_folds_data_weights = [\n",
    "    {'MCC': 0.8434032060389335, 'Accuracy': 0.9253731343283582, 'Precision': 0.9274969028375907},\n",
    "    {'MCC': 0.8731534676229477, 'Accuracy': 0.9393939393939394, 'Precision': 0.9421328671328671},\n",
    "    {'MCC': 0.9096846334879913, 'Accuracy': 0.9545454545454546, 'Precision': 0.9594155844155844},\n",
    "    {'MCC': 0.8786764705882353, 'Accuracy': 0.9393939393939394, 'Precision': 0.9393939393939394},\n",
    "    {'MCC': 0.819688599970537, 'Accuracy': 0.9090909090909091, 'Precision': 0.9105990783410137}\n",
    "]"
   ]
  },
  {
   "cell_type": "code",
   "execution_count": 18,
   "id": "5a110fe1",
   "metadata": {},
   "outputs": [],
   "source": [
    "CN_AD_folds_data = [\n",
    "    {'MCC': 0.8742806866361467, 'Accuracy': 0.9402985074626866, 'Precision': 0.9411373365729492},\n",
    "    {'MCC': 0.8731534676229477, 'Accuracy': 0.9393939393939394, 'Precision': 0.9421328671328671},\n",
    "    {'MCC': 0.9096846334879913, 'Accuracy': 0.9545454545454546, 'Precision': 0.9594155844155844},\n",
    "    {'MCC': 0.8985972192062409, 'Accuracy': 0.9342424242424242, 'Precision': 0.9345636084345762},\n",
    "    {'MCC': 0.8488746876271654, 'Accuracy': 0.9342424242424242, 'Precision': 0.9346323529411764}\n",
    "]"
   ]
  },
  {
   "cell_type": "code",
   "execution_count": 31,
   "id": "c63856be",
   "metadata": {},
   "outputs": [
    {
     "data": {
      "text/plain": [
       "0.8809181389160985"
      ]
     },
     "execution_count": 31,
     "metadata": {},
     "output_type": "execute_result"
    }
   ],
   "source": [
    "# 计算MCC的均值\n",
    "mcc_values = [item['MCC'] for item in CN_AD_folds_data]\n",
    "mcc_mean = sum(mcc_values) / len(mcc_values)\n",
    "\n",
    "mcc_mean"
   ]
  },
  {
   "cell_type": "code",
   "execution_count": null,
   "id": "dd0c6549",
   "metadata": {},
   "outputs": [],
   "source": [
    "69.50%、86.49%、88.09%"
   ]
  },
  {
   "cell_type": "code",
   "execution_count": null,
   "id": "9696db10",
   "metadata": {},
   "outputs": [],
   "source": []
  },
  {
   "cell_type": "code",
   "execution_count": 28,
   "id": "28598b51",
   "metadata": {},
   "outputs": [
    {
     "data": {
      "image/png": "[encoded data removed]",
      "text/plain": [
       "<Figure size 960x400 with 3 Axes>"
      ]
     },
     "metadata": {},
     "output_type": "display_data"
    }
   ],
   "source": [
    "import pandas as pd\n",
    "import seaborn as sns\n",
    "import matplotlib.pyplot as plt\n",
    "\n",
    "# 数据准备\n",
    "neighbor_df = pd.DataFrame(CN_AD_folds_data_neighbor)\n",
    "weight_df = pd.DataFrame(CN_AD_folds_data_weights)\n",
    "# GCNs_df = pd.DataFrame(CN_AD_folds_data_2GCN)\n",
    "CN_AD_df = pd.DataFrame(CN_AD_folds_data)\n",
    "\n",
    "# 为数据添加组标签\n",
    "neighbor_df['Group'] = 'strategy1'\n",
    "weight_df['Group'] = 'strategy2'\n",
    "# GCNs_df['Group'] = 'strategy 3'\n",
    "CN_AD_df['Group'] = 'strategy3'\n",
    "\n",
    "# 合并数据集\n",
    "combined_df = pd.concat([neighbor_df, weight_df, CN_AD_df])\n",
    "\n",
    "# 转换数据为长格式，便于绘图\n",
    "combined_long = combined_df.melt(id_vars=[\"Group\"], var_name=\"Metric\", value_name=\"Score\")\n",
    "\n",
    "# 设置图形样式\n",
    "sns.set(style=\"whitegrid\")\n",
    "\n",
    "# 使用 FacetGrid 按 Metric 分组绘制图形\n",
    "g = sns.FacetGrid(combined_long, col=\"Metric\", height=4, aspect=0.8, col_wrap=3)\n",
    "g.map_dataframe(sns.boxplot, x='Group', y='Score', palette=['lightblue', 'lightgreen', 'lightcoral'])#,'lavender'\n",
    "g.map_dataframe(sns.stripplot, x='Group', y='Score', color='black', jitter=True, size=5)\n",
    "\n",
    "# 设置图形标题和标签\n",
    "g.set_titles(\"{col_name}\")\n",
    "g.set_axis_labels(\"\", \"Scores\")\n",
    "for ax in g.axes.flat:\n",
    "    # 设置刻度字体大小\n",
    "    ax.tick_params(axis='both', which='major', labelsize=14)\n",
    "    ax.set_xlabel(\"\")\n",
    "    ax.set_title(ax.get_title(), fontsize=14)\n",
    "    ax.xaxis.grid(True)  \n",
    "    #ax.yaxis.grid(True)# 添加水平网格线\n",
    "    ax.set_xlabel(ax.get_xlabel(), fontsize=14)\n",
    "    ax.set_xticklabels(ax.get_xticklabels(), rotation=0)\n",
    "\n",
    "# # 添加自定义图例\n",
    "# legend_elements = [\n",
    "#     Patch(facecolor='lightblue', edgecolor='black', label='strategy1'),\n",
    "#     Patch(facecolor='lightgreen', edgecolor='black', label='strategy2'),\n",
    "#     Patch(facecolor='lightcoral', edgecolor='black', label='strategy3')\n",
    "# ]\n",
    "# plt.legend(handles=legend_elements, title=\"strategy\", loc='upper center', bbox_to_anchor=(0.5, -0.05), ncol=3, fontsize=12)\n",
    "\n",
    "plt.tight_layout()\n",
    "plt.show()\n"
   ]
  },
  {
   "cell_type": "code",
   "execution_count": null,
   "id": "dd3091b3",
   "metadata": {},
   "outputs": [],
   "source": []
  }
 ],
 "metadata": {
  "kernelspec": {
   "display_name": "Python 3 (ipykernel)",
   "language": "python",
   "name": "python3"
  },
  "language_info": {
   "codemirror_mode": {
    "name": "ipython",
    "version": 3
   },
   "file_extension": ".py",
   "mimetype": "text/x-python",
   "name": "python",
   "nbconvert_exporter": "python",
   "pygments_lexer": "ipython3",
   "version": "3.9.13"
  }
 },
 "nbformat": 4,
 "nbformat_minor": 5
}
