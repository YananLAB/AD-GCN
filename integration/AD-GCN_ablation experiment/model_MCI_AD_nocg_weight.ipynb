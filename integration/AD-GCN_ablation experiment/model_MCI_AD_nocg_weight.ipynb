{
 "cells": [
  {
   "cell_type": "code",
   "execution_count": 1,
   "id": "e56ec4bb",
   "metadata": {},
   "outputs": [],
   "source": [
    "import warnings\n",
    "warnings.filterwarnings(\"ignore\")\n",
    "import torch\n",
    "import numpy as np\n",
    "import pandas as pd\n",
    "import matplotlib.pyplot as plt\n",
    "import torch.nn as nn\n",
    "from sklearn.neighbors import KNeighborsClassifier\n",
    "from sklearn.metrics import pairwise_distances\n",
    "from torch.nn import Linear\n",
    "import torch.nn.functional as F\n",
    "from torch_geometric.nn import ChebConv\n",
    "from collections import Counter\n",
    "from sklearn.preprocessing import StandardScaler\n",
    "import seaborn as sns"
   ]
  },
  {
   "cell_type": "code",
   "execution_count": 2,
   "id": "3fc604bc",
   "metadata": {},
   "outputs": [],
   "source": [
    "'''读取数据'''\n",
    "data_path = '../concatData.xlsx'\n",
    "MCI_AD_Data = pd.read_excel(data_path,sheet_name=\"MCI_AD\")"
   ]
  },
  {
   "cell_type": "markdown",
   "id": "5791aaf2",
   "metadata": {},
   "source": [
    "## 0、数据均衡"
   ]
  },
  {
   "cell_type": "code",
   "execution_count": 3,
   "id": "e939d722",
   "metadata": {},
   "outputs": [],
   "source": [
    "from sklearn.neighbors import NearestNeighbors\n",
    "\n",
    "'''过采样方法'''\n",
    "def find_and_remove_danger_samples(X, y, k=5): \n",
    "    X = np.array(X)\n",
    "    y = np.array(y)\n",
    "    majority_class = max(set(y), key=list(y).count)\n",
    "    neigh = NearestNeighbors(n_neighbors=k)\n",
    "    neigh.fit(X)\n",
    "    danger_indices = []\n",
    "    for idx, x in enumerate(X):\n",
    "        if y[idx] == majority_class:\n",
    "            neighbors = neigh.kneighbors([x], return_distance=False)\n",
    "            neighbor_labels = y[neighbors[0]]\n",
    "            minority_count = np.sum(neighbor_labels != majority_class)\n",
    "            if minority_count > k / 2:\n",
    "                danger_indices.append(idx)\n",
    "    X_cleaned = np.delete(X, danger_indices, axis=0)\n",
    "    y_cleaned = np.delete(y, danger_indices, axis=0)\n",
    "    \n",
    "    return X_cleaned, y_cleaned"
   ]
  },
  {
   "cell_type": "code",
   "execution_count": 4,
   "id": "ef21c593",
   "metadata": {},
   "outputs": [
    {
     "name": "stdout",
     "output_type": "stream",
     "text": [
      "原始 dataset shape Counter({0: 345, 1: 35})\n",
      "过采样 dataset shape Counter({0: 345, 1: 200})\n",
      "欠采样 dataset shape: Counter({0: 306, 1: 200})\n"
     ]
    }
   ],
   "source": [
    "from collections import Counter\n",
    "from sklearn.datasets import make_classification\n",
    "from imblearn.over_sampling import BorderlineSMOTE\n",
    "\n",
    "cg_X = MCI_AD_Data[['PTGENDER', 'PTMARRY', 'AGE','PTEDUCAT', \n",
    "                  'cov_prs',\n",
    "                  'cg14718065','cg09440270', 'cg06980531', 'cg04143909', 'cg08026735', 'cg16664778',\n",
    "                  'cg05313129', 'cg02168442', 'cg22832802', 'cg15802263',\n",
    "                   'CDRSB', 'ADAS11', 'ADAS13', 'ADASQ4', 'MMSE',\n",
    "                   'RAVLTimmediate', 'RAVLTlearning', 'RAVLTforgetting',\n",
    "                   'RAVLTpercforgetting', 'LDELTOTAL', 'TRABSCOR', 'FAQ']]\n",
    "cg_y = MCI_AD_Data['status']\n",
    "print('原始 dataset shape %s' % Counter(cg_y))\n",
    "\n",
    "\n",
    "'''过采样'''\n",
    "sm = BorderlineSMOTE(\n",
    "    random_state=42,\n",
    "    kind=\"borderline-1\",\n",
    "    sampling_strategy={0: 345, 1: 200 },\n",
    "    k_neighbors=5, #确定邻居点的数量\n",
    "    m_neighbors=10) #指定在合成样本生成过程中从近邻点中选择多少个样本作为参考\n",
    "X_bdsmote, y_bdsmote = sm.fit_resample(cg_X, cg_y)\n",
    "print('过采样 dataset shape %s' % Counter(y_bdsmote))\n",
    "# 合并为一个新的dataframe\n",
    "y_bdsmote = pd.Series(y_bdsmote,name=\"status\")\n",
    "data_bdsmote = pd.concat([X_bdsmote, y_bdsmote], axis=1)\n",
    "\n",
    "\n",
    "'''欠采样'''\n",
    "X_cleaned, y_cleaned = find_and_remove_danger_samples(X_bdsmote.values, data_bdsmote[\"status\"], k=100)\n",
    "print(f\"欠采样 dataset shape: {Counter(y_cleaned)}\")\n",
    "# 合并为一个新的dataframe\n",
    "X_bdknn = pd.DataFrame(X_cleaned,columns=X_bdsmote.columns)\n",
    "y_bdknn = pd.Series(y_cleaned,name=\"status\")\n",
    "data_bdknn = pd.concat([X_bdknn, y_bdknn], axis=1)"
   ]
  },
  {
   "cell_type": "code",
   "execution_count": 5,
   "id": "2f3d2191",
   "metadata": {},
   "outputs": [],
   "source": [
    "from sklearn.preprocessing import StandardScaler\n",
    "\n",
    "# # 标准化\n",
    "standard_scaler = StandardScaler()\n",
    "standard_scaler.fit(X_bdknn)\n",
    "X_bdknn = standard_scaler.transform(X_bdknn)\n",
    "X_sample = pd.DataFrame(X_bdknn,columns=['PTGENDER', 'PTMARRY', 'AGE','PTEDUCAT', \n",
    "                                          'cov_prs',\n",
    "                                          'cg14718065','cg09440270', 'cg06980531', 'cg04143909', 'cg08026735', 'cg16664778',\n",
    "                                          'cg05313129', 'cg02168442', 'cg22832802', 'cg15802263',\n",
    "                                           'CDRSB', 'ADAS11', 'ADAS13', 'ADASQ4', 'MMSE',\n",
    "                                           'RAVLTimmediate', 'RAVLTlearning', 'RAVLTforgetting',\n",
    "                                           'RAVLTpercforgetting', 'LDELTOTAL', 'TRABSCOR', 'FAQ'])\n",
    "y_sample = y_bdknn"
   ]
  },
  {
   "cell_type": "code",
   "execution_count": 6,
   "id": "d21eb77f",
   "metadata": {},
   "outputs": [],
   "source": [
    "X_data = X_sample[['PTGENDER', 'PTMARRY', 'AGE','PTEDUCAT','cov_prs',\n",
    "                  'cg14718065','cg09440270', 'cg06980531', 'cg04143909', 'cg08026735', 'cg16664778',\n",
    "                  'cg05313129', 'cg02168442', 'cg22832802', 'cg15802263']]\n",
    "X_cognitions = X_sample[['CDRSB', 'ADAS11', 'ADAS13', 'ADASQ4', 'MMSE',\n",
    "                       'RAVLTimmediate', 'RAVLTlearning', 'RAVLTforgetting',\n",
    "                       'RAVLTpercforgetting', 'LDELTOTAL', 'TRABSCOR', 'FAQ']]\n",
    "y_data = y_sample"
   ]
  },
  {
   "cell_type": "markdown",
   "id": "57fc51fb",
   "metadata": {},
   "source": [
    "## 1、构建邻接矩阵"
   ]
  },
  {
   "cell_type": "markdown",
   "id": "d65930a4",
   "metadata": {},
   "source": [
    "### （0）根据三类特征构建邻接矩阵"
   ]
  },
  {
   "cell_type": "code",
   "execution_count": 7,
   "id": "943baa0d",
   "metadata": {},
   "outputs": [],
   "source": [
    "'''根据三类特征数据计算相邻矩阵'''\n",
    "\n",
    "# 计算皮尔逊相关系数矩阵\n",
    "corr = np.corrcoef(X_data, rowvar=True)\n",
    "corr = corr.tolist()\n",
    "\n",
    "# 构建 clinic_prs_methy_edge\n",
    "matrix_clinic_prs_methy = np.zeros_like(corr)  # 初始化为零矩阵，形状与 corr 相同\n",
    "\n",
    "for i in range(len(corr)):\n",
    "    for j in range(len(corr[i])):\n",
    "        if i != j:  # 排除对角线元素\n",
    "            current_value = corr[i][j]\n",
    "            if current_value > 0.5 or current_value <= -0.5:  # 只保留相似度大于 0.5 的样本对\n",
    "                matrix_clinic_prs_methy[i][j] = 1  # 将满足条件的元素设为 1"
   ]
  },
  {
   "cell_type": "markdown",
   "id": "838520d4",
   "metadata": {},
   "source": [
    "### （1）根据KNN构建邻接矩阵"
   ]
  },
  {
   "cell_type": "code",
   "execution_count": 8,
   "id": "4fdf4841",
   "metadata": {},
   "outputs": [],
   "source": [
    "# 使用 k-Nearest Neighbors 算法计算近邻\n",
    "knn_model = KNeighborsClassifier(n_neighbors=2 ,p=5, weights='uniform')\n",
    "knn_model.fit(X_data, y_data)  \n",
    "knn_matrix = knn_model.kneighbors_graph(X_data).toarray()"
   ]
  },
  {
   "cell_type": "markdown",
   "id": "2fd8a2dd",
   "metadata": {},
   "source": [
    "### （2）权重矩阵"
   ]
  },
  {
   "cell_type": "code",
   "execution_count": 9,
   "id": "1ad6c760",
   "metadata": {},
   "outputs": [],
   "source": [
    "# 合并两种带边的节点矩阵\n",
    "node_matrix  = matrix_clinic_prs_methy + knn_matrix\n",
    "node_matrix[node_matrix == 2] = 1  ## 将结果中为 2 的元素替换为 1\n",
    "\n",
    "# 创建一个与 node_matrix 大小相同，且所有元素都为 1 的矩阵\n",
    "ones_matrix = np.ones_like(node_matrix)\n",
    "\n",
    "# 输入矩阵(将联合矩阵的权重赋为这个)\n",
    "cog_weighted_matrix = node_matrix * ones_matrix\n",
    "\n",
    "# 自连接逻辑\n",
    "# np.fill_diagonal(node_matrix, 1)"
   ]
  },
  {
   "cell_type": "markdown",
   "id": "c034ea35",
   "metadata": {},
   "source": [
    "### （3）数据处理"
   ]
  },
  {
   "cell_type": "code",
   "execution_count": 10,
   "id": "c2291d43",
   "metadata": {},
   "outputs": [],
   "source": [
    "import torch\n",
    "import torch.nn.functional as F\n",
    "from torch_geometric.nn import GCNConv\n",
    "from torch_geometric.data import Data"
   ]
  },
  {
   "cell_type": "code",
   "execution_count": 11,
   "id": "68babf8d",
   "metadata": {},
   "outputs": [],
   "source": [
    "X_features = np.array(X_data)\n",
    "X_features = torch.from_numpy(X_features)\n",
    "X_nodes = X_features.to(torch.float)\n",
    "\n",
    "y_status = y_data.astype(int)\n",
    "y_status = torch.from_numpy(y_status.values)\n",
    "y_status = y_status.to(torch.long)\n"
   ]
  },
  {
   "cell_type": "code",
   "execution_count": 12,
   "id": "cec57bff",
   "metadata": {},
   "outputs": [
    {
     "name": "stdout",
     "output_type": "stream",
     "text": [
      "Data(x=[506, 15], edge_index=[2, 24498], edge_attr=[24498], y=[506])\n"
     ]
    }
   ],
   "source": [
    "# 将 NumPy 数组转换为 PyTorch 张量\n",
    "node_matrix = torch.from_numpy(node_matrix)\n",
    "\n",
    "# 提取等于1的边\n",
    "edge_index = torch.nonzero(node_matrix == 1, as_tuple=False).t().contiguous()\n",
    "\n",
    "# 假设所有边的权重都是1\n",
    "edge_weight = torch.ones((edge_index.size(1),), dtype=torch.float)\n",
    "\n",
    "# 假设 X_data 和 y_data 已经定义并转换为合适的 PyTorch 张量\n",
    "# X_nodes = torch.from_numpy(X_data).to(torch.float)\n",
    "# y_status = torch.from_numpy(y_data.astype(int)).to(torch.long)\n",
    "\n",
    "# 创建 PyTorch Geometric 的数据对象\n",
    "data = Data(x=X_nodes, y=y_status, edge_index=edge_index, edge_attr=edge_weight)\n",
    "\n",
    "print(data)"
   ]
  },
  {
   "cell_type": "markdown",
   "id": "3fc423c0",
   "metadata": {},
   "source": [
    "## 2、GCN+SAGE 神经网络"
   ]
  },
  {
   "cell_type": "code",
   "execution_count": 13,
   "id": "bd4db181",
   "metadata": {
    "scrolled": true
   },
   "outputs": [
    {
     "name": "stdout",
     "output_type": "stream",
     "text": [
      "{'MCC': 0.6060598571656328, 'Accuracy': 0.803921568627451, 'Precision': 0.8064146890263502}\n",
      "{'MCC': 0.33679239361247176, 'Accuracy': 0.6831683168316832, 'Precision': 0.6969529882770361}\n",
      "{'MCC': 0.5419871253027571, 'Accuracy': 0.7821782178217822, 'Precision': 0.7812009772405812}\n",
      "{'MCC': 0.5685851736753468, 'Accuracy': 0.7821782178217822, 'Precision': 0.8152858764137283}\n",
      "{'MCC': 0.6511926915987009, 'Accuracy': 0.8316831683168316, 'Precision': 0.8311426676166377}\n"
     ]
    }
   ],
   "source": [
    "from sklearn.model_selection import KFold\n",
    "import torch\n",
    "import torch.nn as nn\n",
    "import torch.nn.functional as F\n",
    "from torch_geometric.nn import GCNConv, SAGEConv\n",
    "from torch_geometric.data import Data\n",
    "from sklearn.metrics import accuracy_score, precision_score, recall_score, f1_score, matthews_corrcoef, confusion_matrix\n",
    "\n",
    "class AD_GCN(nn.Module):\n",
    "    def __init__(self):\n",
    "        super().__init__()\n",
    "        self.conv1 = GCNConv(15, 8)  # 假设输入特征为15\n",
    "        self.bn1 = nn.BatchNorm1d(8)\n",
    "        self.conv2 = SAGEConv(8, 3)\n",
    "        self.bn2 = nn.BatchNorm1d(3)\n",
    "        self.fc = nn.Linear(3, 1)  # 二分类输出层\n",
    "    \n",
    "    def forward(self, x, edge_index):\n",
    "        x = F.relu(self.bn1(self.conv1(x, edge_index)))\n",
    "        x = F.dropout(x, p=0.5, training=self.training)\n",
    "        x = self.conv2(x, edge_index)\n",
    "        x = self.bn2(x)\n",
    "        return self.fc(x)  # 使用 BCEWithLogitsLoss，去掉 sigmoid\n",
    "\n",
    "# 准备节点的索引进行交叉验证\n",
    "node_indices = list(range(data.num_nodes))\n",
    "kfold = KFold(n_splits=5, shuffle=True, random_state=42)\n",
    "\n",
    "for fold, (train_idx, test_idx) in enumerate(kfold.split(node_indices)):\n",
    "    model = AD_GCN()  # 为每个折叠重新创建模型\n",
    "    optimizer = torch.optim.Adam(model.parameters(), lr=0.01, weight_decay=5e-4)\n",
    "    criterion = torch.nn.BCEWithLogitsLoss()  # 使用 BCEWithLogitsLoss\n",
    "    \n",
    "    best_loss = float('inf')  # 初始化为正无穷大\n",
    "    best_out = None  # 初始化为None\n",
    "    best_metrics = {}\n",
    "\n",
    "    for epoch in range(1, 201):\n",
    "        model.train()\n",
    "        optimizer.zero_grad()\n",
    "        out = model(data.x, data.edge_index)  # 使用整个图\n",
    "        loss = criterion(out[train_idx], data.y[train_idx].unsqueeze(1).float())\n",
    "        loss.backward()\n",
    "        optimizer.step()\n",
    "\n",
    "        model.eval()\n",
    "        with torch.no_grad():\n",
    "            out = model(data.x, data.edge_index)\n",
    "            pred = pred = (torch.sigmoid(out[test_idx]) > 0.5).long()  # 使用 threshold 转换为类别标签\n",
    "            accuracy = accuracy_score(data.y[test_idx].cpu().numpy(), pred.cpu().numpy())\n",
    "            precision = precision_score(data.y[test_idx].cpu(), pred.cpu(),average='weighted')\n",
    "            mcc = matthews_corrcoef(data.y[test_idx].cpu(), pred.cpu())\n",
    " \n",
    "        if loss.item() < best_loss:  # 更新最佳损失和指标\n",
    "                best_loss = loss.item()\n",
    "                best_metrics = {'MCC': mcc, 'Accuracy': accuracy, 'Precision': precision}\n",
    " \n",
    "        # 打印最佳迭代结果\n",
    "        if epoch % 200 == 0:  # 每20个epoch打印一次\n",
    "#             print(f'Fold:{fold}, Epoch: {epoch:03d}, Loss: {best_loss:.3f}, Best Metrics: {best_metrics}')\n",
    "            print(f'{best_metrics}')"
   ]
  },
  {
   "cell_type": "code",
   "execution_count": 39,
   "id": "57afd633",
   "metadata": {},
   "outputs": [
    {
     "name": "stdout",
     "output_type": "stream",
     "text": [
      "{'MCC': [0.6823729747055391, 0.7163279717599775, 0.704550312668966, 0.7343344667793078, 0.6375355777548621], 'Accuracy': [0.8507462686567164, 0.8636363636363636, 0.8484848484848485, 0.8636363636363636, 0.8181818181818182], 'Precision': [0.8518920548771295, 0.8702408702408704, 0.866750453847228, 0.8716222049555383, 0.8193548387096774]}\n"
     ]
    }
   ],
   "source": [
    "# 初始化字典，每个指标都对应一个空列表\n",
    "results = {\n",
    "    \"MCC\": [],\n",
    "    \"Accuracy\": [],\n",
    "    \"Precision\": []\n",
    "}\n",
    "\n",
    "# 原始数据\n",
    "MCI_AD_folds_data_neighbor = [\n",
    "    {'MCC': 0.6060598571656328, 'Accuracy': 0.803921568627451, 'Precision': 0.8064146890263502},\n",
    "    {'MCC': 0.33679239361247176, 'Accuracy': 0.6831683168316832, 'Precision': 0.6969529882770361},\n",
    "    {'MCC': 0.5419871253027571, 'Accuracy': 0.7821782178217822, 'Precision': 0.7812009772405812},\n",
    "    {'MCC': 0.5685851736753468, 'Accuracy': 0.7821782178217822, 'Precision': 0.8152858764137283},\n",
    "    {'MCC': 0.6511926915987009, 'Accuracy': 0.8316831683168316, 'Precision': 0.8311426676166377}\n",
    "]\n",
    "\n",
    "# 遍历每一折的数据\n",
    "for fold_data in MCI_AD_folds_data_neighbor:\n",
    "    results['MCC'].append(fold_data['MCC'])\n",
    "    results['Accuracy'].append(fold_data['Accuracy'])\n",
    "    results['Precision'].append(fold_data['Precision'])\n",
    "\n",
    "# 输出结果，确保数据已正确添加\n",
    "print(results)\n"
   ]
  },
  {
   "cell_type": "code",
   "execution_count": 40,
   "id": "0df810a2",
   "metadata": {},
   "outputs": [
    {
     "data": {
      "image/png": "[encoded data removed]",
      "text/plain": [
       "<Figure size 400x200 with 1 Axes>"
      ]
     },
     "metadata": {},
     "output_type": "display_data"
    }
   ],
   "source": [
    "import matplotlib.pyplot as plt\n",
    "import numpy as np\n",
    " \n",
    "#! 解决不显示的问题：中文设置为宋体格式\n",
    "plt.rcParams['font.family'] = [\"Arial\"]\n",
    "plt.rcParams['font.size'] = 12\n",
    "\n",
    "\n",
    "# 创建 DataFrame\n",
    "df_metrics = pd.DataFrame(results)\n",
    "labels = df_metrics.columns\n",
    "all_data = [df_metrics[col].values for col in df_metrics]\n",
    "\n",
    "# 创建图形和轴对象\n",
    "fig, ax = plt.subplots(figsize=(4, 2))\n",
    "\n",
    "# 绘制带缺口的箱形图\n",
    "bplot_notch = ax.boxplot(\n",
    "    all_data,             # 使用准备好的数据列表\n",
    "    notch=False,           # 带有缺口\n",
    "    widths=0.3,           # 箱宽度\n",
    "    labels=labels,        # 设置标签为列名\n",
    "    patch_artist=True,    # 填充颜色\n",
    "    medianprops={'linestyle': '-', 'color': 'red', 'linewidth': 1},\n",
    "    showfliers=True,      # 显示离群点\n",
    "    flierprops={'marker': '^', 'markersize': 6.75, 'markeredgewidth': 0.75, 'markerfacecolor': '#ee5500', 'markeredgecolor': 'black'},\n",
    "    whiskerprops={'linestyle': '--', 'linewidth': 1.2, 'color': '#480656'},\n",
    "    capprops={'linestyle': '-', 'linewidth': 1.5, 'color': '#480656'}\n",
    ")\n",
    "\n",
    "# 设置标题\n",
    "ax.set_title(\"\")\n",
    "\n",
    "# 为箱形图填充颜色\n",
    "colors = ['pink', 'lightblue', 'lightgreen']\n",
    "for patch, color in zip(bplot_notch['boxes'], colors):\n",
    "    patch.set_facecolor(color)\n",
    "\n",
    "# 添加水平网格线并设置轴标签\n",
    "ax.yaxis.grid(True)\n",
    "ax.set_xlabel(\"Metrics\")\n",
    "ax.set_ylabel(\"Scores\")\n",
    "\n",
    "plt.show()"
   ]
  },
  {
   "cell_type": "code",
   "execution_count": null,
   "id": "a1966fdb",
   "metadata": {},
   "outputs": [],
   "source": [
    "Epoch: 199, Loss: 0.1115, MCC: 0.9404, Acc: 0.8857, Precision: 0.9400, Recall: 0.9475, F1: 0.9400, CM: [[52  6], [ 0 42]]"
   ]
  }
 ],
 "metadata": {
  "kernelspec": {
   "display_name": "Python 3 (ipykernel)",
   "language": "python",
   "name": "python3"
  },
  "language_info": {
   "codemirror_mode": {
    "name": "ipython",
    "version": 3
   },
   "file_extension": ".py",
   "mimetype": "text/x-python",
   "name": "python",
   "nbconvert_exporter": "python",
   "pygments_lexer": "ipython3",
   "version": "3.9.13"
  }
 },
 "nbformat": 4,
 "nbformat_minor": 5
}
