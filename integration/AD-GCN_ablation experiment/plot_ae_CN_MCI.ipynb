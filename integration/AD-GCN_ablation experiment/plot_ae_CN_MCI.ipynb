{
 "cells": [
  {
   "cell_type": "code",
   "execution_count": 8,
   "id": "b5e94805",
   "metadata": {},
   "outputs": [],
   "source": [
    "import matplotlib.pyplot as plt\n",
    "import pandas as pd\n",
    "import seaborn as sns"
   ]
  },
  {
   "cell_type": "code",
   "execution_count": 9,
   "id": "6d383fc3",
   "metadata": {},
   "outputs": [],
   "source": [
    "plt.rcParams['font.family'] = [\"Arial\"]\n",
    "plt.rcParams['font.size'] = 14"
   ]
  },
  {
   "cell_type": "code",
   "execution_count": 4,
   "id": "aca7e130",
   "metadata": {},
   "outputs": [],
   "source": [
    "CN_MCI_folds_data_neighbor = [\n",
    "    {'MCC': 0.27379454926624736, 'Accuracy': 0.6326530612244898, 'Precision': 0.6411414880417576},\n",
    "    {'MCC': 0.1883272994474559, 'Accuracy': 0.5918367346938775, 'Precision': 0.5998763141620285},\n",
    "    {'MCC': 0.08518493278575826, 'Accuracy': 0.5510204081632653, 'Precision': 0.5475017593244194},\n",
    "    {'MCC': 0.13714844455739905, 'Accuracy': 0.5714285714285714, 'Precision': 0.5707956199759479},\n",
    "    {'MCC': 0.31914250088975643, 'Accuracy': 0.673469387755102, 'Precision': 0.6711958467597565}\n",
    "]"
   ]
  },
  {
   "cell_type": "code",
   "execution_count": 5,
   "id": "5a110fe1",
   "metadata": {},
   "outputs": [],
   "source": [
    "CN_MCI_folds_data_weights = [\n",
    "    {'MCC': 0.7335155457429191, 'Accuracy': 0.8673469387755102, 'Precision': 0.8677223397720292},\n",
    "    {'MCC': 0.6083449942418495, 'Accuracy': 0.7959183673469388, 'Precision': 0.813912661838929},\n",
    "    {'MCC': 0.7937710437710438, 'Accuracy': 0.8979591836734694, 'Precision': 0.8979591836734694},\n",
    "    {'MCC': 0.6954347826512214, 'Accuracy': 0.8469387755102041, 'Precision': 0.8486224489795917},\n",
    "    {'MCC': 0.7665135157089951, 'Accuracy': 0.8877551020408163, 'Precision': 0.8879585507220167}\n",
    "]"
   ]
  },
  {
   "cell_type": "code",
   "execution_count": 13,
   "id": "c63856be",
   "metadata": {},
   "outputs": [],
   "source": [
    "CN_MCI_folds_data = [\n",
    "    {\"MCC\": 0.7743485348273336, \"Accuracy\": 0.8877551020408163, \"Precision\": 0.8886661807580176},\n",
    "    {\"MCC\": 0.6629847260093013, \"Accuracy\": 0.826530612244898, \"Precision\": 0.8373466726977622},\n",
    "    {\"MCC\": 0.8561241929692257, \"Accuracy\": 0.9285714285714286, \"Precision\": 0.92890086852351},\n",
    "    {\"MCC\": 0.7989153108051731, \"Accuracy\": 0.8979591836734694, \"Precision\": 0.9009561271317039},\n",
    "    {\"MCC\": 0.7022402003404311, \"Accuracy\": 0.8571428571428571, \"Precision\": 0.8573988735279058}\n",
    "]"
   ]
  },
  {
   "cell_type": "code",
   "execution_count": 17,
   "id": "b770e147",
   "metadata": {},
   "outputs": [
    {
     "data": {
      "text/plain": [
       "0.758922592990293"
      ]
     },
     "execution_count": 17,
     "metadata": {},
     "output_type": "execute_result"
    }
   ],
   "source": [
    "# 计算MCC的均值\n",
    "mcc_values = [item['MCC'] for item in CN_MCI_folds_data]\n",
    "mcc_mean = sum(mcc_values) / len(mcc_values)\n",
    "\n",
    "mcc_mean\n",
    "\n",
    "#20.1%\n",
    "#71.95%\n",
    "#75.89%"
   ]
  },
  {
   "cell_type": "code",
   "execution_count": null,
   "id": "2ecff48e",
   "metadata": {},
   "outputs": [],
   "source": []
  },
  {
   "cell_type": "code",
   "execution_count": null,
   "id": "01133115",
   "metadata": {},
   "outputs": [],
   "source": []
  },
  {
   "cell_type": "code",
   "execution_count": 7,
   "id": "292a21d3",
   "metadata": {
    "collapsed": true
   },
   "outputs": [
    {
     "ename": "NameError",
     "evalue": "name 'pd' is not defined",
     "output_type": "error",
     "traceback": [
      "\u001b[0;31m---------------------------------------------------------------------------\u001b[0m",
      "\u001b[0;31mNameError\u001b[0m                                 Traceback (most recent call last)",
      "Cell \u001b[0;32mIn[7], line 2\u001b[0m\n\u001b[1;32m      1\u001b[0m \u001b[38;5;66;03m# 数据准备\u001b[39;00m\n\u001b[0;32m----> 2\u001b[0m neighbor_df \u001b[38;5;241m=\u001b[39m \u001b[43mpd\u001b[49m\u001b[38;5;241m.\u001b[39mDataFrame(CN_MCI_folds_data_neighbor)\n\u001b[1;32m      3\u001b[0m weight_df \u001b[38;5;241m=\u001b[39m pd\u001b[38;5;241m.\u001b[39mDataFrame(CN_MCI_folds_data_weights)\n\u001b[1;32m      4\u001b[0m CN_MCI_df \u001b[38;5;241m=\u001b[39m pd\u001b[38;5;241m.\u001b[39mDataFrame(CN_MCI_folds_data)\n",
      "\u001b[0;31mNameError\u001b[0m: name 'pd' is not defined"
     ]
    }
   ],
   "source": [
    "# 数据准备\n",
    "neighbor_df = pd.DataFrame(CN_MCI_folds_data_neighbor)\n",
    "weight_df = pd.DataFrame(CN_MCI_folds_data_weights)\n",
    "CN_MCI_df = pd.DataFrame(CN_MCI_folds_data)\n",
    "\n",
    "# 转换数据为长格式，便于绘图\n",
    "neighbor_long = neighbor_df.melt(var_name=\"Metric\", value_name=\"Score\")\n",
    "weight_long = weight_df.melt(var_name=\"Metric\", value_name=\"Score\")\n",
    "CN_MCI_long = CN_MCI_df.melt( var_name=\"Metric\", value_name=\"Score\")\n",
    "\n",
    "# 设置图形样式\n",
    "sns.set(style=\"whitegrid\")\n",
    "\n",
    "# 创建图形和轴对象\n",
    "fig, axes = plt.subplots(1, 4, figsize=(12, 3), sharex=True)\n",
    "\n",
    "# 绘制箱形图和散点图\n",
    "sns.boxplot(data=neighbor_long, x='Metric', y='Score', ax=axes[0], color='lightblue')\n",
    "sns.stripplot(data=neighbor_long, x='Metric', y='Score', ax=axes[0], color='black', jitter=True, size=5)\n",
    "\n",
    "sns.boxplot(data=weight_long, x='Metric', y='Score', ax=axes[1], color='lightgreen')\n",
    "sns.stripplot(data=weight_long, x='Metric', y='Score', ax=axes[1], color='black', jitter=True, size=5)\n",
    "\n",
    "sns.boxplot(data=GCNs_long, x='Metric', y='Score', ax=axes[2], color='lightcoral')\n",
    "sns.stripplot(data=GCNs_long, x='Metric', y='Score', ax=axes[2], color='black', jitter=True, size=5)\n",
    "\n",
    "sns.boxplot(data=CN_AD_long, x='Metric', y='Score', ax=axes[3], color='lightcoral')\n",
    "sns.stripplot(data=CN_AD_long, x='Metric', y='Score', ax=axes[3], color='black', jitter=True, size=5)\n",
    "\n",
    "# 设置标题\n",
    "axes[0].set_title(\"sim+cog_weights+GCN+SAGE\")\n",
    "axes[1].set_title(\"sim+knn+GCN+SAGE\")\n",
    "# axes[2].set_title(\"sim+knn+cog_weights+2GCN\")\n",
    "axes[3].set_title(\"sim+knn+cog_weights+GCN+SAGE\")\n",
    "\n",
    "# 设置轴标签\n",
    "for ax in axes:\n",
    "    ax.set_xlabel(\"Metrics\")\n",
    "    ax.set_ylabel(\"Scores\")\n",
    "    ax.yaxis.grid(True)  # 添加水平网格线\n",
    "\n",
    "plt.tight_layout()\n",
    "plt.show()\n"
   ]
  },
  {
   "cell_type": "code",
   "execution_count": 14,
   "id": "28598b51",
   "metadata": {},
   "outputs": [
    {
     "data": {
      "image/png": "[encoded data removed]",
      "text/plain": [
       "<Figure size 960x400 with 3 Axes>"
      ]
     },
     "metadata": {},
     "output_type": "display_data"
    }
   ],
   "source": [
    "import pandas as pd\n",
    "import seaborn as sns\n",
    "import matplotlib.pyplot as plt\n",
    "\n",
    "# 数据准备\n",
    "neighbor_df = pd.DataFrame(CN_MCI_folds_data_neighbor)\n",
    "weight_df = pd.DataFrame(CN_MCI_folds_data_weights)\n",
    "CN_MCI_df = pd.DataFrame(CN_MCI_folds_data)\n",
    "\n",
    "# 为数据添加组标签\n",
    "neighbor_df['Group'] = 'strategy1'\n",
    "weight_df['Group'] = 'strategy2'\n",
    "# GCNs_df['Group'] = 'strategy 3'\n",
    "CN_MCI_df['Group'] = 'strategy3'\n",
    "\n",
    "# 合并数据集\n",
    "combined_df = pd.concat([neighbor_df, weight_df, CN_MCI_df])\n",
    "\n",
    "# 转换数据为长格式，便于绘图\n",
    "combined_long = combined_df.melt(id_vars=[\"Group\"], var_name=\"Metric\", value_name=\"Score\")\n",
    "\n",
    "# 设置图形样式\n",
    "sns.set(style=\"whitegrid\")\n",
    "\n",
    "# 使用 FacetGrid 按 Metric 分组绘制图形\n",
    "g = sns.FacetGrid(combined_long, col=\"Metric\", height=4, aspect=0.8, col_wrap=3)\n",
    "g.map_dataframe(sns.boxplot, x='Group', y='Score', palette=['lightblue', 'lightgreen', 'lightcoral'])#,'lavender'\n",
    "g.map_dataframe(sns.stripplot, x='Group', y='Score', color='black', jitter=True, size=5)\n",
    "\n",
    "# 设置图形标题和标签\n",
    "g.set_titles(\"{col_name}\")\n",
    "g.set_axis_labels(\"\", \"Scores\")\n",
    "for ax in g.axes.flat:\n",
    "    # 设置刻度字体大小\n",
    "    ax.tick_params(axis='both', which='major', labelsize=14)\n",
    "    ax.set_xlabel(\"\")\n",
    "    ax.set_title(ax.get_title(), fontsize=14)\n",
    "    ax.xaxis.grid(True)  \n",
    "    #ax.yaxis.grid(True)# 添加水平网格线\n",
    "    ax.set_xlabel(ax.get_xlabel(), fontsize=14)\n",
    "    ax.set_xticklabels(ax.get_xticklabels(), rotation=0)\n",
    "\n",
    "plt.tight_layout()\n",
    "plt.show()\n"
   ]
  },
  {
   "cell_type": "code",
   "execution_count": null,
   "id": "dd3091b3",
   "metadata": {},
   "outputs": [],
   "source": []
  }
 ],
 "metadata": {
  "kernelspec": {
   "display_name": "Python 3 (ipykernel)",
   "language": "python",
   "name": "python3"
  },
  "language_info": {
   "codemirror_mode": {
    "name": "ipython",
    "version": 3
   },
   "file_extension": ".py",
   "mimetype": "text/x-python",
   "name": "python",
   "nbconvert_exporter": "python",
   "pygments_lexer": "ipython3",
   "version": "3.9.13"
  }
 },
 "nbformat": 4,
 "nbformat_minor": 5
}
