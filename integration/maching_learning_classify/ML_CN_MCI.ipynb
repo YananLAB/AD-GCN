{
 "cells": [
  {
   "cell_type": "code",
   "execution_count": 1,
   "id": "83258784",
   "metadata": {},
   "outputs": [],
   "source": [
    "import numpy as np\n",
    "import pandas as pd\n",
    "from collections import Counter\n",
    "import matplotlib.pyplot as plt\n",
    "import seaborn as sns\n",
    "from sklearn.preprocessing import StandardScaler\n",
    "import warnings\n",
    "from sklearn.exceptions import ConvergenceWarning"
   ]
  },
  {
   "cell_type": "code",
   "execution_count": 2,
   "id": "2f7b97cf",
   "metadata": {},
   "outputs": [],
   "source": [
    "'''读取数据'''\n",
    "data_path = './concatData.xlsx'\n",
    "CN_MCI_Data = pd.read_excel(data_path,sheet_name=\"CN_MCI\")"
   ]
  },
  {
   "cell_type": "code",
   "execution_count": 3,
   "id": "1dd88267",
   "metadata": {},
   "outputs": [
    {
     "data": {
      "text/plain": [
       "Index(['IID', 'DX', 'status', 'APOE4', 'PTGENDER', 'PTMARRY', 'AGE',\n",
       "       'PTEDUCAT', 'CDRSB', 'ADAS11', 'ADAS13', 'ADASQ4', 'MMSE',\n",
       "       'RAVLTimmediate', 'RAVLTlearning', 'RAVLTforgetting',\n",
       "       'RAVLTpercforgetting', 'LDELTOTAL', 'TRABSCOR', 'FAQ', 'cg17750572',\n",
       "       'cg01452847', 'cg13348062', 'cg18627235', 'cg15452204', 'cg01821149',\n",
       "       'cg00884606', 'cg03354992', 'cg09173768', 'cg14515364', 'std.PRS',\n",
       "       'cov_prs'],\n",
       "      dtype='object')"
      ]
     },
     "execution_count": 3,
     "metadata": {},
     "output_type": "execute_result"
    }
   ],
   "source": [
    "CN_MCI_Data.columns"
   ]
  },
  {
   "cell_type": "code",
   "execution_count": 12,
   "id": "42575708",
   "metadata": {},
   "outputs": [
    {
     "data": {
      "text/plain": [
       "Counter({0: 209, 1: 345})"
      ]
     },
     "execution_count": 12,
     "metadata": {},
     "output_type": "execute_result"
    }
   ],
   "source": [
    "Counter(CN_MCI_Data['status'])  "
   ]
  },
  {
   "cell_type": "markdown",
   "id": "65d7e4d9",
   "metadata": {},
   "source": [
    "### 1、串联拼接"
   ]
  },
  {
   "cell_type": "code",
   "execution_count": 144,
   "id": "44a7a745",
   "metadata": {},
   "outputs": [],
   "source": [
    "from sklearn.preprocessing import StandardScaler\n",
    "from sklearn.model_selection import cross_val_score, cross_validate, StratifiedKFold\n",
    "from sklearn.metrics import roc_auc_score, make_scorer, accuracy_score, precision_score, recall_score, f1_score\n",
    "from sklearn.metrics import matthews_corrcoef\n",
    "from sklearn.neighbors import KNeighborsClassifier\n",
    "from sklearn.linear_model import LogisticRegression\n",
    "from sklearn.naive_bayes import GaussianNB,BernoulliNB\n",
    "from sklearn.svm import SVC\n",
    "from sklearn.tree import DecisionTreeClassifier\n",
    "from sklearn.ensemble import RandomForestClassifier, GradientBoostingClassifier, AdaBoostClassifier\n",
    "from xgboost import XGBClassifier\n",
    "import warnings\n",
    "from sklearn.exceptions import ConvergenceWarning\n",
    "\n",
    "# 忽略所有的 ConvergenceWarning\n",
    "warnings.filterwarnings(\"ignore\", category=ConvergenceWarning)\n",
    "\n",
    "# 假设你的数据已经准备好\n",
    "# X = 特征矩阵\n",
    "# y = 标签\n",
    "\n",
    "# 定义模型\n",
    "models = {\n",
    "    'KNN': KNeighborsClassifier(n_neighbors=15),\n",
    "    'Ridge': LogisticRegression(penalty='l2', solver='liblinear'),\n",
    "    'Bayes': GaussianNB(),\n",
    "    'SVM': SVC(probability=True),\n",
    "    'RF': RandomForestClassifier(),\n",
    "    'AdaBoost': AdaBoostClassifier(),\n",
    "    'XGBoost': XGBClassifier(),\n",
    "    'GDBT': GradientBoostingClassifier()\n",
    "}\n",
    "\n",
    "# 定义评分标准\n",
    "scoring = {\n",
    "    'MCC': make_scorer(matthews_corrcoef),\n",
    "    'Accuracy': make_scorer(accuracy_score),\n",
    "    'Precision': make_scorer(precision_score),\n",
    "    'Recall': make_scorer(recall_score),\n",
    "    'F1': make_scorer(f1_score)\n",
    "}\n",
    "\n",
    "# 交叉验证\n",
    "cv = StratifiedKFold(n_splits=5, shuffle=True,random_state=23)"
   ]
  },
  {
   "cell_type": "code",
   "execution_count": 145,
   "id": "1e64ef37",
   "metadata": {},
   "outputs": [],
   "source": [
    "from sklearn.neighbors import NearestNeighbors\n",
    "\n",
    "def find_and_remove_danger_samples(X, y, k=5): \n",
    "    X = np.array(X)\n",
    "    y = np.array(y)\n",
    "    majority_class = max(set(y), key=list(y).count)\n",
    "    neigh = NearestNeighbors(n_neighbors=k)\n",
    "    neigh.fit(X)\n",
    "    danger_indices = []\n",
    "    for idx, x in enumerate(X):\n",
    "        if y[idx] == majority_class:\n",
    "            neighbors = neigh.kneighbors([x], return_distance=False)\n",
    "            neighbor_labels = y[neighbors[0]]\n",
    "            minority_count = np.sum(neighbor_labels != majority_class)\n",
    "            if minority_count > k / 2:\n",
    "                danger_indices.append(idx)\n",
    "    X_cleaned = np.delete(X, danger_indices, axis=0)\n",
    "    y_cleaned = np.delete(y, danger_indices, axis=0)\n",
    "    \n",
    "    return X_cleaned, y_cleaned"
   ]
  },
  {
   "cell_type": "markdown",
   "id": "5c2f8ef9",
   "metadata": {},
   "source": [
    "#### （1）临床数据"
   ]
  },
  {
   "cell_type": "code",
   "execution_count": 162,
   "id": "dd6add40",
   "metadata": {},
   "outputs": [
    {
     "name": "stdout",
     "output_type": "stream",
     "text": [
      "Original dataset shape Counter({1: 345, 0: 209})\n",
      "过采样 dataset shape Counter({1: 345, 0: 240})\n",
      "欠采样 dataset shape: Counter({1: 296, 0: 240})\n"
     ]
    }
   ],
   "source": [
    "from collections import Counter\n",
    "from sklearn.datasets import make_classification\n",
    "from imblearn.over_sampling import BorderlineSMOTE\n",
    "\n",
    "clinic_X = CN_MCI_Data[['PTGENDER', 'PTMARRY', 'AGE','PTEDUCAT']]\n",
    "clinic_y = CN_MCI_Data['status']\n",
    "\n",
    "print('Original dataset shape %s' % Counter(clinic_y))\n",
    "\n",
    "\n",
    "'''过采样'''\n",
    "sm0 = BorderlineSMOTE(\n",
    "    random_state=42,\n",
    "    kind=\"borderline-1\",\n",
    "    sampling_strategy={0: 240, 1: 345 },\n",
    "    k_neighbors=5, #确定邻居点的数量\n",
    "    m_neighbors=10) #指定在合成样本生成过程中从近邻点中选择多少个样本作为参考\n",
    "X_bdsmote0, y_bdsmote0 = sm0.fit_resample(clinic_X, clinic_y)\n",
    "print('过采样 dataset shape %s' % Counter(y_bdsmote0))\n",
    "# 合并为一个新的dataframe\n",
    "y_bdsmote0 = pd.Series(y_bdsmote0,name=\"status\")\n",
    "data_bdsmote0 = pd.concat([X_bdsmote0, y_bdsmote0], axis=1)\n",
    "\n",
    "\n",
    "'''欠采样'''\n",
    "X_cleaned0, y_cleaned0 = find_and_remove_danger_samples(X_bdsmote0.values, data_bdsmote0[\"status\"], k=100)\n",
    "print(f\"欠采样 dataset shape: {Counter(y_cleaned0)}\")\n",
    "# 合并为一个新的dataframe\n",
    "X_bdknn0 = pd.DataFrame(X_cleaned0,columns=X_bdsmote0.columns)\n",
    "y_bdknn0 = pd.Series(y_cleaned0,name=\"status\")\n",
    "data_bdknn0 = pd.concat([X_bdknn0, y_bdknn0], axis=1)"
   ]
  },
  {
   "cell_type": "code",
   "execution_count": 163,
   "id": "dc781c0d",
   "metadata": {},
   "outputs": [],
   "source": [
    "clinic_ret = {}\n",
    "\n",
    "# 标准化\n",
    "standard_scaler0 = StandardScaler()\n",
    "standard_scaler0.fit(X_bdknn0)\n",
    "X_bdknn0 = standard_scaler0.transform(X_bdknn0)\n",
    "X1 = pd.DataFrame(X_bdknn0,columns=[['PTGENDER', 'PTMARRY', 'AGE','PTEDUCAT']])\n",
    "\n",
    "\n",
    "for name, model in models.items():    \n",
    "    scores = cross_validate(model , X1, y_bdknn0, cv=cv, scoring=scoring)\n",
    "    clinic_ret[name] = {\n",
    "        'MCC': np.mean(scores['test_MCC']),\n",
    "        'Accuracy': np.mean(scores['test_Accuracy']),\n",
    "        'Precision': np.mean(scores['test_Precision']),\n",
    "        'Recall': np.mean(scores['test_Recall']),\n",
    "        'F1': np.mean(scores['test_F1'])\n",
    "    }\n",
    "\n",
    "# 输出结果\n",
    "df_clinic = pd.DataFrame(clinic_ret).T\n",
    "# print(df_clinic)"
   ]
  },
  {
   "cell_type": "markdown",
   "id": "306e33a2",
   "metadata": {},
   "source": [
    "#### （2）临床数据+std.PRS"
   ]
  },
  {
   "cell_type": "code",
   "execution_count": 174,
   "id": "d77a780e",
   "metadata": {},
   "outputs": [
    {
     "name": "stdout",
     "output_type": "stream",
     "text": [
      "Original dataset shape Counter({1: 345, 0: 209})\n",
      "过采样 dataset shape Counter({0: 345, 1: 345})\n",
      "欠采样 dataset shape: Counter({1: 345, 0: 293})\n"
     ]
    }
   ],
   "source": [
    "from collections import Counter\n",
    "from sklearn.datasets import make_classification\n",
    "from imblearn.over_sampling import BorderlineSMOTE\n",
    "\n",
    "# 标准化数据\n",
    "prs_X = CN_MCI_Data[['PTGENDER', 'PTMARRY', 'AGE','PTEDUCAT', \n",
    "                  'cov_prs']]\n",
    "prs_y = CN_MCI_Data['status']\n",
    "print('Original dataset shape %s' % Counter(prs_y))\n",
    "\n",
    "\n",
    "'''过采样'''\n",
    "sm1 = BorderlineSMOTE(\n",
    "    random_state=42,\n",
    "    kind=\"borderline-1\",\n",
    "    sampling_strategy={0: 345, 1: 345 },\n",
    "    k_neighbors=5, #确定邻居点的数量\n",
    "    m_neighbors=10) #指定在合成样本生成过程中从近邻点中选择多少个样本作为参考\n",
    "X_bdsmote1, y_bdsmote1 = sm1.fit_resample(prs_X, prs_y)\n",
    "print('过采样 dataset shape %s' % Counter(y_bdsmote1))\n",
    "# 合并为一个新的dataframe\n",
    "y_bdsmote1 = pd.Series(y_bdsmote1,name=\"status\")\n",
    "data_bdsmote1 = pd.concat([X_bdsmote1, y_bdsmote1], axis=1)\n",
    "\n",
    "\n",
    "'''欠采样'''\n",
    "X_cleaned1, y_cleaned1 = find_and_remove_danger_samples(X_bdsmote1.values, data_bdsmote1[\"status\"], k=100)\n",
    "print(f\"欠采样 dataset shape: {Counter(y_cleaned1)}\")\n",
    "# 合并为一个新的dataframe\n",
    "X_bdknn1 = pd.DataFrame(X_cleaned1,columns=X_bdsmote1.columns)\n",
    "y_bdknn1 = pd.Series(y_cleaned1,name=\"status\")\n",
    "data_bdknn1 = pd.concat([X_bdknn1, y_bdknn1], axis=1)"
   ]
  },
  {
   "cell_type": "code",
   "execution_count": 175,
   "id": "586294ea",
   "metadata": {},
   "outputs": [],
   "source": [
    "clinic_prs_ret = {}\n",
    "\n",
    "# 标准化\n",
    "standard_scaler1 = StandardScaler()\n",
    "standard_scaler1.fit(X_bdknn1)\n",
    "X_bdknn1 = standard_scaler1.transform(X_bdknn1)\n",
    "X2 = pd.DataFrame(X_bdknn1,columns=[['PTGENDER', 'PTMARRY', 'AGE','PTEDUCAT', \n",
    "                  'cov_prs']])\n",
    "\n",
    "\n",
    "for name, model in models.items():    \n",
    "    scores = cross_validate(model , X2, y_bdknn1, cv=cv, scoring=scoring)\n",
    "    clinic_prs_ret[name] = {\n",
    "        'MCC': np.mean(scores['test_MCC']),\n",
    "        'Accuracy': np.mean(scores['test_Accuracy']),\n",
    "        'Precision': np.mean(scores['test_Precision']),\n",
    "        'Recall': np.mean(scores['test_Recall']),\n",
    "        'F1': np.mean(scores['test_F1'])\n",
    "    }\n",
    "\n",
    "# 输出结果\n",
    "df_clinic_prs = pd.DataFrame(clinic_prs_ret).T\n",
    "# print(df_clinic_prs)"
   ]
  },
  {
   "cell_type": "markdown",
   "id": "acedefe4",
   "metadata": {},
   "source": [
    "#### （3）临床数据+std.PRS+甲基化"
   ]
  },
  {
   "cell_type": "code",
   "execution_count": 176,
   "id": "7942863a",
   "metadata": {},
   "outputs": [
    {
     "name": "stdout",
     "output_type": "stream",
     "text": [
      "过采样 dataset shape Counter({0: 345, 1: 345})\n",
      "欠采样 dataset shape: Counter({1: 345, 0: 295})\n"
     ]
    }
   ],
   "source": [
    "cg_X = CN_MCI_Data[['PTGENDER', 'PTMARRY', 'AGE','PTEDUCAT', \n",
    "                  'cov_prs',\n",
    "                  'cg17750572', 'cg01452847', 'cg13348062', 'cg18627235', 'cg15452204', \n",
    "                  'cg01821149', 'cg00884606', 'cg03354992', 'cg09173768', 'cg14515364']]\n",
    "cg_y = CN_MCI_Data['status']\n",
    "'''过采样'''\n",
    "sm2 = BorderlineSMOTE(\n",
    "    random_state=42,\n",
    "    kind=\"borderline-1\",\n",
    "    sampling_strategy={0: 345, 1: 345 },\n",
    "    k_neighbors=5, #确定邻居点的数量\n",
    "    m_neighbors=10) #指定在合成样本生成过程中从近邻点中选择多少个样本作为参考\n",
    "X_bdsmote2, y_bdsmote2 = sm2.fit_resample(cg_X, cg_y)\n",
    "print('过采样 dataset shape %s' % Counter(y_bdsmote2))\n",
    "# 合并为一个新的dataframe\n",
    "y_bdsmote2 = pd.Series(y_bdsmote2,name=\"status\")\n",
    "data_bdsmote2 = pd.concat([X_bdsmote2, y_bdsmote2], axis=1)\n",
    "\n",
    "\n",
    "'''欠采样'''\n",
    "X_cleaned2, y_cleaned2 = find_and_remove_danger_samples(X_bdsmote2.values, data_bdsmote2[\"status\"], k=100)\n",
    "print(f\"欠采样 dataset shape: {Counter(y_cleaned2)}\")\n",
    "# 合并为一个新的dataframe\n",
    "X_bdknn2 = pd.DataFrame(X_cleaned2,columns=X_bdsmote2.columns)\n",
    "y_bdknn2 = pd.Series(y_cleaned2,name=\"status\")\n",
    "data_bdknn2 = pd.concat([X_bdknn2, y_bdknn2], axis=1)"
   ]
  },
  {
   "cell_type": "code",
   "execution_count": 177,
   "id": "97d2c187",
   "metadata": {},
   "outputs": [],
   "source": [
    "clinic_prs_methy_ret = {}\n",
    "\n",
    "# # 标准化\n",
    "standard_scaler3 = StandardScaler()\n",
    "standard_scaler3.fit(X_bdknn2)\n",
    "cg_bdknn_X = standard_scaler3.transform(X_bdknn2)\n",
    "X3 = pd.DataFrame(cg_bdknn_X,columns=['PTGENDER', 'PTMARRY', 'AGE','PTEDUCAT', \n",
    "                  'cov_prs',\n",
    "                  'cg17750572', 'cg01452847', 'cg13348062', 'cg18627235', 'cg15452204', \n",
    "                  'cg01821149', 'cg00884606', 'cg03354992', 'cg09173768', 'cg14515364'])\n",
    "y3 = y_bdknn2\n",
    "\n",
    "\n",
    "for name, model in models.items():\n",
    "    scores = cross_validate(model, X3, y3, cv=cv, scoring=scoring)\n",
    "    clinic_prs_methy_ret[name] = {\n",
    "        'MCC': np.mean(scores['test_MCC']),\n",
    "        'Accuracy': np.mean(scores['test_Accuracy']),\n",
    "        'Precision': np.mean(scores['test_Precision']),\n",
    "        'Recall': np.mean(scores['test_Recall']),\n",
    "        'F1': np.mean(scores['test_F1'])\n",
    "    }\n",
    "\n",
    "# 输出结果\n",
    "df_clinic_prs_methy = pd.DataFrame(clinic_prs_methy_ret).T\n",
    "# print(df_clinic_prs_methy)"
   ]
  },
  {
   "cell_type": "markdown",
   "id": "497c81ed",
   "metadata": {},
   "source": [
    "#### （4）验证集结果"
   ]
  },
  {
   "cell_type": "code",
   "execution_count": 178,
   "id": "541f6185",
   "metadata": {},
   "outputs": [
    {
     "name": "stdout",
     "output_type": "stream",
     "text": [
      "               MCC  Accuracy  Precision    Recall        F1\n",
      "KNN       0.155528  0.582122   0.622700  0.621695  0.621346\n",
      "Ridge     0.193935  0.608186   0.620533  0.750113  0.678802\n",
      "Bayes     0.192472  0.608238   0.623280  0.753446  0.680169\n",
      "SVM       0.176599  0.600692   0.614328  0.753220  0.675267\n",
      "RF        0.257588  0.632572   0.663514  0.682316  0.669414\n",
      "AdaBoost  0.295793  0.649290   0.690882  0.669153  0.677270\n",
      "XGBoost   0.285372  0.645569   0.680810  0.675480  0.676381\n",
      "GDBT      0.295018  0.649394   0.691707  0.665593  0.676674\n",
      "               MCC  Accuracy  Precision    Recall        F1\n",
      "KNN       0.289013  0.636331   0.709296  0.559420  0.625120\n",
      "Ridge     0.263195  0.634781   0.657241  0.684058  0.669262\n",
      "Bayes     0.318155  0.653654   0.716507  0.597101  0.651148\n",
      "SVM       0.332853  0.659929   0.727724  0.594203  0.654146\n",
      "RF        0.465398  0.731964   0.771964  0.715942  0.742737\n",
      "AdaBoost  0.403490  0.697515   0.756446  0.649275  0.698532\n",
      "XGBoost   0.449432  0.722613   0.769446  0.698551  0.731186\n",
      "GDBT      0.411445  0.702202   0.756789  0.663768  0.706209\n",
      "               MCC  Accuracy  Precision    Recall        F1\n",
      "KNN       0.466523  0.721875   0.815808  0.628986  0.708412\n",
      "Ridge     0.487270  0.745313   0.759610  0.771014  0.765143\n",
      "Bayes     0.474836  0.737500   0.758728  0.753623  0.754340\n",
      "SVM       0.542903  0.770312   0.807659  0.753623  0.778976\n",
      "RF        0.579399  0.787500   0.834177  0.756522  0.792869\n",
      "AdaBoost  0.532007  0.765625   0.789861  0.771014  0.778865\n",
      "XGBoost   0.599306  0.798438   0.832993  0.785507  0.807336\n",
      "GDBT      0.592743  0.795312   0.831592  0.779710  0.803993\n"
     ]
    }
   ],
   "source": [
    "print(df_clinic)\n",
    "print(df_clinic_prs)\n",
    "print(df_clinic_prs_methy)"
   ]
  },
  {
   "cell_type": "markdown",
   "id": "2e13b3ed",
   "metadata": {},
   "source": [
    "### 2、转换拼接"
   ]
  },
  {
   "cell_type": "code",
   "execution_count": 199,
   "id": "c6073cbd",
   "metadata": {},
   "outputs": [],
   "source": [
    "'''PCA降维'''\n",
    "from sklearn.decomposition import PCA\n",
    "\n",
    "models_trans = {\n",
    "    'KNN': KNeighborsClassifier(n_neighbors=15),\n",
    "    'Ridge': LogisticRegression(penalty='l2', solver='liblinear'),\n",
    "    'Bayes': GaussianNB(),\n",
    "    'SVM': SVC(probability=True),\n",
    "    'RF': RandomForestClassifier(),\n",
    "    'AdaBoost': AdaBoostClassifier(),\n",
    "    'XGBoost': XGBClassifier(),\n",
    "    'GDBT': GradientBoostingClassifier()\n",
    "}"
   ]
  },
  {
   "cell_type": "markdown",
   "id": "6444bb10",
   "metadata": {},
   "source": [
    "#### （0）clinic"
   ]
  },
  {
   "cell_type": "code",
   "execution_count": 200,
   "id": "d8bf1523",
   "metadata": {},
   "outputs": [],
   "source": [
    "trans_clinic_ret = {}\n",
    "\n",
    "ft0_X = X1[['PTGENDER', 'PTMARRY', 'AGE','PTEDUCAT']]\n",
    "ft0_y = data_bdknn0['status']\n",
    "\n",
    "pca0 = PCA(n_components=3)   \n",
    "pca0_X = pca0.fit_transform(ft0_X)\n",
    "\n",
    "for name, model in models_trans.items():\n",
    "    scores = cross_validate(model, pca0_X, ft0_y, cv=cv, scoring=scoring)\n",
    "    trans_clinic_ret[name] = {\n",
    "        'MCC': np.mean(scores['test_MCC']),\n",
    "        'Accuracy': np.mean(scores['test_Accuracy']),\n",
    "        'Precision': np.mean(scores['test_Precision']),\n",
    "        'Recall': np.mean(scores['test_Recall']),\n",
    "        'F1': np.mean(scores['test_F1'])\n",
    "    }\n",
    "\n",
    "# 输出结果\n",
    "df_trans_clinic = pd.DataFrame(trans_clinic_ret).T\n",
    "# print(df_trans_clinic)"
   ]
  },
  {
   "cell_type": "markdown",
   "id": "a491f152",
   "metadata": {},
   "source": [
    "#### （1）clinic+prs_pca"
   ]
  },
  {
   "cell_type": "code",
   "execution_count": 201,
   "id": "fe36188c",
   "metadata": {},
   "outputs": [],
   "source": [
    "trans_clinic_prs_ret = {}\n",
    "\n",
    "ft1_X = X2[['PTGENDER', 'PTMARRY', 'AGE','PTEDUCAT','cov_prs']]\n",
    "ft1_y = data_bdknn1['status']\n",
    "\n",
    "pca1 = PCA(n_components=4)\n",
    "pca1_X = pca1.fit_transform(ft1_X)\n",
    "pca1_X = pd.DataFrame(pca1_X)\n",
    "\n",
    "\n",
    "for name, model in models_trans.items():\n",
    "    scores = cross_validate(model, pca1_X, ft1_y, cv=cv, scoring=scoring)\n",
    "    trans_clinic_prs_ret[name] = {\n",
    "        'MCC': np.mean(scores['test_MCC']),\n",
    "        'Accuracy': np.mean(scores['test_Accuracy']),\n",
    "        'Precision': np.mean(scores['test_Precision']),\n",
    "        'Recall': np.mean(scores['test_Recall']),\n",
    "        'F1': np.mean(scores['test_F1'])\n",
    "    }\n",
    "\n",
    "# 输出结果\n",
    "df_trans_clinic_prs = pd.DataFrame(trans_clinic_prs_ret).T\n",
    "# print(df_trans_clinic_prs)"
   ]
  },
  {
   "cell_type": "markdown",
   "id": "f47f784e",
   "metadata": {},
   "source": [
    "#### （2）clinic+prs+methy_pca"
   ]
  },
  {
   "cell_type": "code",
   "execution_count": 202,
   "id": "4e7c2ab2",
   "metadata": {},
   "outputs": [],
   "source": [
    "trans_clinic_prs_methy_ret = {}\n",
    "\n",
    "ft21_X = X3[['PTGENDER', 'PTMARRY', 'AGE','PTEDUCAT','cov_prs']]\n",
    "ft22_X = X3[['cg17750572', 'cg01452847', 'cg13348062', 'cg18627235', 'cg15452204', \n",
    "                  'cg01821149', 'cg00884606', 'cg03354992', 'cg09173768', 'cg14515364']]\n",
    "\n",
    "ft2_y = data_bdknn2['status']\n",
    "\n",
    "pca21_X = pca1.fit_transform(ft21_X)\n",
    "pca21_X = pd.DataFrame(pca21_X,columns=[f'PCA1_{i+1}' for i in range(pca21_X.shape[1])])\n",
    "\n",
    "pca2 = PCA(n_components=5)  \n",
    "pca22_X = pca2.fit_transform(ft22_X)\n",
    "pca22_X = pd.DataFrame(pca22_X,columns=[f'PCA3_{i+1}' for i in range(pca22_X.shape[1])])\n",
    "\n",
    "combined_pca2 =pd.concat([pca21_X, pca22_X],axis=1)\n",
    "\n",
    "\n",
    "for name, model in models.items():\n",
    "    scores = cross_validate(model, combined_pca2, ft2_y, cv=cv, scoring=scoring)\n",
    "    trans_clinic_prs_methy_ret[name] = {\n",
    "        'MCC': np.mean(scores['test_MCC']),\n",
    "        'Accuracy': np.mean(scores['test_Accuracy']),\n",
    "        'Precision': np.mean(scores['test_Precision']),\n",
    "        'Recall': np.mean(scores['test_Recall']),\n",
    "        'F1': np.mean(scores['test_F1'])\n",
    "}\n",
    "\n",
    "# 输出结果\n",
    "df_trans_clinic_prs_methy = pd.DataFrame(trans_clinic_prs_methy_ret).T\n",
    "# print(df_trans_clinic_prs_methy)"
   ]
  },
  {
   "cell_type": "markdown",
   "id": "ae1d5a35",
   "metadata": {},
   "source": [
    "#### （4）输出验证集结果"
   ]
  },
  {
   "cell_type": "code",
   "execution_count": 203,
   "id": "ddec0f7b",
   "metadata": {},
   "outputs": [
    {
     "name": "stdout",
     "output_type": "stream",
     "text": [
      "               MCC  Accuracy  Precision    Recall        F1\n",
      "KNN       0.132459  0.572793   0.609804  0.631808  0.620392\n",
      "Ridge     0.055138  0.554102   0.567459  0.817571  0.668802\n",
      "Bayes     0.067959  0.557892   0.571576  0.807401  0.667823\n",
      "SVM       0.215820  0.619401   0.620348  0.804068  0.700033\n",
      "RF        0.176931  0.593285   0.631437  0.648475  0.635913\n",
      "AdaBoost  0.073587  0.542870   0.583597  0.597853  0.589005\n",
      "XGBoost   0.200034  0.606421   0.639338  0.668983  0.652493\n",
      "GDBT      0.084247  0.544791   0.590655  0.571073  0.578603\n",
      "               MCC  Accuracy  Precision    Recall        F1\n",
      "KNN       0.265534  0.626981   0.689568  0.568116  0.622640\n",
      "Ridge     0.205404  0.608145   0.623059  0.695652  0.656953\n",
      "Bayes     0.215680  0.611257   0.637359  0.655072  0.645701\n",
      "SVM       0.277628  0.633268   0.694602  0.579710  0.630702\n",
      "RF        0.368796  0.684843   0.716646  0.689855  0.702285\n",
      "AdaBoost  0.276259  0.637906   0.675443  0.637681  0.654723\n",
      "XGBoost   0.374950  0.688017   0.720037  0.695652  0.706603\n",
      "GDBT      0.287886  0.642594   0.687375  0.626087  0.654447\n",
      "               MCC  Accuracy  Precision    Recall        F1\n",
      "KNN       0.430927  0.707812   0.783456  0.637681  0.701606\n",
      "Ridge     0.442245  0.723437   0.734807  0.762319  0.748185\n",
      "Bayes     0.453241  0.728125   0.746465  0.750725  0.748232\n",
      "SVM       0.535617  0.765625   0.808733  0.739130  0.771243\n",
      "RF        0.522669  0.760938   0.792288  0.756522  0.772982\n",
      "AdaBoost  0.500082  0.750000   0.778175  0.750725  0.763325\n",
      "XGBoost   0.525296  0.762500   0.794345  0.756522  0.774461\n",
      "GDBT      0.450595  0.725000   0.758814  0.718841  0.737617\n"
     ]
    }
   ],
   "source": [
    "print(df_trans_clinic)\n",
    "print(df_trans_clinic_prs)\n",
    "print(df_trans_clinic_prs_methy)"
   ]
  },
  {
   "cell_type": "markdown",
   "id": "fd84e5b3",
   "metadata": {},
   "source": [
    "### 3、模型拼接"
   ]
  },
  {
   "cell_type": "code",
   "execution_count": 204,
   "id": "b2eb2e16",
   "metadata": {},
   "outputs": [],
   "source": [
    "'''集成学习：投票分类'''\n",
    "from sklearn.model_selection import KFold\n",
    "from sklearn.ensemble import RandomForestClassifier, VotingClassifier\n",
    "from sklearn.metrics import log_loss, confusion_matrix, roc_auc_score, accuracy_score, precision_score, recall_score, f1_score\n",
    "from sklearn.ensemble import VotingClassifier\n",
    "from sklearn.metrics import confusion_matrix\n",
    "\n",
    "# 定义基学习器 DecisionTreeClassifier\n",
    "classifiers = {\n",
    "    'KNN': KNeighborsClassifier(),\n",
    "    'LR':  LogisticRegression(),\n",
    "    'NaiveBayes': GaussianNB(),\n",
    "    'SVM': SVC(probability=True),\n",
    "    'RF': RandomForestClassifier(),\n",
    "}\n",
    "\n",
    "def find_bestModel(X,Y):\n",
    "    '''寻找最佳模型'''\n",
    "    best_model = None\n",
    "    best_score = -np.inf  # 负对数损失的最小值是负无穷大\n",
    "    best_model_name = ''\n",
    "    \n",
    "    for name, clf in classifiers.items():\n",
    "        # 使用五折交叉验证\n",
    "        kf = StratifiedKFold(n_splits=5)\n",
    "        fold_scores = []\n",
    "        for train_index, test_index in kf.split(X,Y):\n",
    "            X_train, X_test = X.iloc[train_index], X.iloc[test_index]\n",
    "            y_train, y_test = Y[train_index], Y[test_index]\n",
    "            clf.fit(X_train, y_train)\n",
    "            y_pred_proba = clf.predict_proba(X_test)\n",
    "            fold_scores.append(-log_loss(y_test, y_pred_proba))  # 负对数损失\n",
    "        \n",
    "        mean_score = np.mean(fold_scores)\n",
    "\n",
    "        if mean_score > best_score:\n",
    "            best_score = mean_score\n",
    "            best_model = clf\n",
    "            best_model_name = name\n",
    "\n",
    "    return best_model_name"
   ]
  },
  {
   "cell_type": "code",
   "execution_count": 205,
   "id": "27b565b5",
   "metadata": {},
   "outputs": [
    {
     "name": "stdout",
     "output_type": "stream",
     "text": [
      "ft1 model: GaussianNB()\n",
      "ft1 model: RandomForestClassifier()\n",
      "ft2 model: RandomForestClassifier()\n",
      "ft2 model: RandomForestClassifier()\n"
     ]
    },
    {
     "data": {
      "text/html": [
       "<style>#sk-container-id-1 {color: black;background-color: white;}#sk-container-id-1 pre{padding: 0;}#sk-container-id-1 div.sk-toggleable {background-color: white;}#sk-container-id-1 label.sk-toggleable__label {cursor: pointer;display: block;width: 100%;margin-bottom: 0;padding: 0.3em;box-sizing: border-box;text-align: center;}#sk-container-id-1 label.sk-toggleable__label-arrow:before {content: \"▸\";float: left;margin-right: 0.25em;color: #696969;}#sk-container-id-1 label.sk-toggleable__label-arrow:hover:before {color: black;}#sk-container-id-1 div.sk-estimator:hover label.sk-toggleable__label-arrow:before {color: black;}#sk-container-id-1 div.sk-toggleable__content {max-height: 0;max-width: 0;overflow: hidden;text-align: left;background-color: #f0f8ff;}#sk-container-id-1 div.sk-toggleable__content pre {margin: 0.2em;color: black;border-radius: 0.25em;background-color: #f0f8ff;}#sk-container-id-1 input.sk-toggleable__control:checked~div.sk-toggleable__content {max-height: 200px;max-width: 100%;overflow: auto;}#sk-container-id-1 input.sk-toggleable__control:checked~label.sk-toggleable__label-arrow:before {content: \"▾\";}#sk-container-id-1 div.sk-estimator input.sk-toggleable__control:checked~label.sk-toggleable__label {background-color: #d4ebff;}#sk-container-id-1 div.sk-label input.sk-toggleable__control:checked~label.sk-toggleable__label {background-color: #d4ebff;}#sk-container-id-1 input.sk-hidden--visually {border: 0;clip: rect(1px 1px 1px 1px);clip: rect(1px, 1px, 1px, 1px);height: 1px;margin: -1px;overflow: hidden;padding: 0;position: absolute;width: 1px;}#sk-container-id-1 div.sk-estimator {font-family: monospace;background-color: #f0f8ff;border: 1px dotted black;border-radius: 0.25em;box-sizing: border-box;margin-bottom: 0.5em;}#sk-container-id-1 div.sk-estimator:hover {background-color: #d4ebff;}#sk-container-id-1 div.sk-parallel-item::after {content: \"\";width: 100%;border-bottom: 1px solid gray;flex-grow: 1;}#sk-container-id-1 div.sk-label:hover label.sk-toggleable__label {background-color: #d4ebff;}#sk-container-id-1 div.sk-serial::before {content: \"\";position: absolute;border-left: 1px solid gray;box-sizing: border-box;top: 0;bottom: 0;left: 50%;z-index: 0;}#sk-container-id-1 div.sk-serial {display: flex;flex-direction: column;align-items: center;background-color: white;padding-right: 0.2em;padding-left: 0.2em;position: relative;}#sk-container-id-1 div.sk-item {position: relative;z-index: 1;}#sk-container-id-1 div.sk-parallel {display: flex;align-items: stretch;justify-content: center;background-color: white;position: relative;}#sk-container-id-1 div.sk-item::before, #sk-container-id-1 div.sk-parallel-item::before {content: \"\";position: absolute;border-left: 1px solid gray;box-sizing: border-box;top: 0;bottom: 0;left: 50%;z-index: -1;}#sk-container-id-1 div.sk-parallel-item {display: flex;flex-direction: column;z-index: 1;position: relative;background-color: white;}#sk-container-id-1 div.sk-parallel-item:first-child::after {align-self: flex-end;width: 50%;}#sk-container-id-1 div.sk-parallel-item:last-child::after {align-self: flex-start;width: 50%;}#sk-container-id-1 div.sk-parallel-item:only-child::after {width: 0;}#sk-container-id-1 div.sk-dashed-wrapped {border: 1px dashed gray;margin: 0 0.4em 0.5em 0.4em;box-sizing: border-box;padding-bottom: 0.4em;background-color: white;}#sk-container-id-1 div.sk-label label {font-family: monospace;font-weight: bold;display: inline-block;line-height: 1.2em;}#sk-container-id-1 div.sk-label-container {text-align: center;}#sk-container-id-1 div.sk-container {/* jupyter's `normalize.less` sets `[hidden] { display: none; }` but bootstrap.min.css set `[hidden] { display: none !important; }` so we also need the `!important` here to be able to override the default hidden behavior on the sphinx rendered scikit-learn.org. See: https://github.com/scikit-learn/scikit-learn/issues/21755 */display: inline-block !important;position: relative;}#sk-container-id-1 div.sk-text-repr-fallback {display: none;}</style><div id=\"sk-container-id-1\" class=\"sk-top-container\"><div class=\"sk-text-repr-fallback\"><pre>RandomForestClassifier()</pre><b>In a Jupyter environment, please rerun this cell to show the HTML representation or trust the notebook. <br />On GitHub, the HTML representation is unable to render, please try loading this page with nbviewer.org.</b></div><div class=\"sk-container\" hidden><div class=\"sk-item\"><div class=\"sk-estimator sk-toggleable\"><input class=\"sk-toggleable__control sk-hidden--visually\" id=\"sk-estimator-id-1\" type=\"checkbox\" checked><label for=\"sk-estimator-id-1\" class=\"sk-toggleable__label sk-toggleable__label-arrow\">RandomForestClassifier</label><div class=\"sk-toggleable__content\"><pre>RandomForestClassifier()</pre></div></div></div></div></div>"
      ],
      "text/plain": [
       "RandomForestClassifier()"
      ]
     },
     "execution_count": 205,
     "metadata": {},
     "output_type": "execute_result"
    }
   ],
   "source": [
    "# 找到最佳子模型\n",
    "ft0_model_name = find_bestModel(ft0_X,ft0_y)\n",
    "ft0_model = classifiers[ft0_model_name]\n",
    "print(\"ft1 model:\",ft0_model)\n",
    "ft1_model_name = find_bestModel(ft1_X,ft1_y)\n",
    "ft1_model = classifiers[ft1_model_name]\n",
    "print(\"ft1 model:\",ft1_model)\n",
    "\n",
    "ft21_model_name = find_bestModel(ft21_X,ft2_y)\n",
    "ft21_model = classifiers[ft21_model_name]\n",
    "print(\"ft2 model:\",ft21_model)\n",
    "ft22_model_name = find_bestModel(ft22_X,ft2_y)\n",
    "ft22_model = classifiers[ft22_model_name]\n",
    "print(\"ft2 model:\",ft22_model)\n",
    "\n",
    "# 训练模型\n",
    "ft0_model.fit(ft0_X, ft0_y)\n",
    "ft1_model.fit(ft1_X, ft1_y)\n",
    "\n",
    "ft21_model.fit(ft21_X, ft2_y)\n",
    "ft22_model.fit(ft22_X, ft2_y)"
   ]
  },
  {
   "cell_type": "code",
   "execution_count": 206,
   "id": "633bb249",
   "metadata": {},
   "outputs": [
    {
     "name": "stdout",
     "output_type": "stream",
     "text": [
      "Fold 1 Confusion Matrix:\n",
      "[[27 21]\n",
      " [15 45]]\n",
      "----------------------------------------\n",
      "Fold 2 Confusion Matrix:\n",
      "[[19 29]\n",
      " [16 43]]\n",
      "----------------------------------------\n",
      "Fold 3 Confusion Matrix:\n",
      "[[24 24]\n",
      " [16 43]]\n",
      "----------------------------------------\n",
      "Fold 4 Confusion Matrix:\n",
      "[[14 34]\n",
      " [15 44]]\n",
      "----------------------------------------\n",
      "Fold 5 Confusion Matrix:\n",
      "[[16 32]\n",
      " [ 9 50]]\n",
      "----------------------------------------\n",
      "Average MCC: 0.1881\n",
      "Average Accuracy: 0.6062\n",
      "Average Precision: 0.6189\n",
      "Average Recall: 0.7602\n",
      "Average F1 Score: 0.6810\n"
     ]
    }
   ],
   "source": [
    "'''第一：仅计算 ft0 最佳子模型'''\n",
    "\n",
    "# 创建五折交叉验证器\n",
    "ft0_skf = StratifiedKFold(n_splits=5, shuffle=True, random_state=42)\n",
    "\n",
    "# 初始化用于保存各折结果的列表\n",
    "ft0_confusion_matrices = []\n",
    "ft0_mccs = []\n",
    "ft0_accuracies = []\n",
    "ft0_precisions = []\n",
    "ft0_recalls = []\n",
    "ft0_f1_scores = []\n",
    "\n",
    "\n",
    "# 执行五折交叉验证\n",
    "for fold, (train_index, test_index) in enumerate(ft0_skf.split(ft0_X, ft0_y)):\n",
    "    # 分割数据集\n",
    "    X_train, X_test = ft0_X.iloc[train_index], ft0_X.iloc[test_index]\n",
    "    y_train, y_test = ft0_y[train_index], ft0_y[test_index]\n",
    "\n",
    "    # 训练模型\n",
    "    ft0_model.fit(X_train, y_train)\n",
    "    \n",
    "    # 预测结果\n",
    "    y_pred = ft0_model.predict(X_test)\n",
    "#     y_pred_proba = ft0_model.predict_proba(X_test)[:, 1]  # 预测概率，用于计算AUC\n",
    "\n",
    "    # 计算混淆矩阵\n",
    "    cm = confusion_matrix(y_test, y_pred)\n",
    "    ft0_confusion_matrices.append(cm)\n",
    "    \n",
    "    # 计算各项指标\n",
    "    ft0_mccs.append(matthews_corrcoef(y_test, y_pred))\n",
    "    ft0_accuracies.append(accuracy_score(y_test, y_pred))\n",
    "    ft0_precisions.append(precision_score(y_test, y_pred))\n",
    "    ft0_recalls.append(recall_score(y_test, y_pred))\n",
    "    ft0_f1_scores.append(f1_score(y_test, y_pred))\n",
    "    \n",
    "    \n",
    "    # 输出当前折的混淆矩阵\n",
    "    print(f\"Fold {fold + 1} Confusion Matrix:\")\n",
    "    print(cm)\n",
    "    print(\"-\" * 40)\n",
    "\n",
    "    \n",
    "# 计算并输出所有折的平均值\n",
    "print(f\"Average MCC: {np.mean(ft0_mccs):.4f}\")\n",
    "print(f\"Average Accuracy: {np.mean(ft0_accuracies):.4f}\")\n",
    "print(f\"Average Precision: {np.mean(ft0_precisions):.4f}\")\n",
    "print(f\"Average Recall: {np.mean(ft0_recalls):.4f}\")\n",
    "print(f\"Average F1 Score: {np.mean(ft0_f1_scores):.4f}\")"
   ]
  },
  {
   "cell_type": "code",
   "execution_count": 207,
   "id": "da5467f7",
   "metadata": {},
   "outputs": [
    {
     "name": "stdout",
     "output_type": "stream",
     "text": [
      "Fold 1 Confusion Matrix:\n",
      "[[43 16]\n",
      " [16 53]]\n",
      "----------------------------------------\n",
      "Fold 2 Confusion Matrix:\n",
      "[[38 21]\n",
      " [23 46]]\n",
      "----------------------------------------\n",
      "Fold 3 Confusion Matrix:\n",
      "[[47 12]\n",
      " [25 44]]\n",
      "----------------------------------------\n",
      "Fold 4 Confusion Matrix:\n",
      "[[41 17]\n",
      " [28 41]]\n",
      "----------------------------------------\n",
      "Fold 5 Confusion Matrix:\n",
      "[[42 16]\n",
      " [16 53]]\n",
      "----------------------------------------\n",
      "Average MCC: 0.4074\n",
      "Average Accuracy: 0.7022\n",
      "Average Precision: 0.7431\n",
      "Average Recall: 0.6870\n",
      "Average F1 Score: 0.7125\n"
     ]
    }
   ],
   "source": [
    "'''第二：仅计算 ft1 最佳子模型'''\n",
    "\n",
    "# 创建五折交叉验证器\n",
    "ft1_skf = StratifiedKFold(n_splits=5, shuffle=True, random_state=42)\n",
    "\n",
    "# 初始化用于保存各折结果的列表\n",
    "ft1_confusion_matrices = []\n",
    "ft1_mccs = []\n",
    "ft1_accuracies = []\n",
    "ft1_precisions = []\n",
    "ft1_recalls = []\n",
    "ft1_f1_scores = []\n",
    "\n",
    "\n",
    "# 执行五折交叉验证\n",
    "for fold, (train_index, test_index) in enumerate(ft1_skf.split(ft1_X, ft1_y)):\n",
    "    # 分割数据集\n",
    "    X_train, X_test = ft1_X.iloc[train_index], ft1_X.iloc[test_index]\n",
    "    y_train, y_test = ft1_y[train_index], ft1_y[test_index]\n",
    "\n",
    "    # 训练模型\n",
    "    ft1_model.fit(X_train, y_train)\n",
    "    \n",
    "    # 预测结果\n",
    "    y_pred = ft1_model.predict(X_test)\n",
    "    \n",
    "    # 计算混淆矩阵\n",
    "    cm = confusion_matrix(y_test, y_pred)\n",
    "    ft1_confusion_matrices.append(cm)\n",
    "    \n",
    "    # 计算各项指标\n",
    "    ft1_mccs.append(matthews_corrcoef(y_test, y_pred))\n",
    "    ft1_accuracies.append(accuracy_score(y_test, y_pred))\n",
    "    ft1_precisions.append(precision_score(y_test, y_pred))\n",
    "    ft1_recalls.append(recall_score(y_test, y_pred))\n",
    "    ft1_f1_scores.append(f1_score(y_test, y_pred))\n",
    "    \n",
    "    \n",
    "    # 输出当前折的混淆矩阵\n",
    "    print(f\"Fold {fold + 1} Confusion Matrix:\")\n",
    "    print(cm)\n",
    "    print(\"-\" * 40)\n",
    "\n",
    "    \n",
    "# 计算并输出所有折的平均值\n",
    "print(f\"Average MCC: {np.mean(ft1_mccs):.4f}\")\n",
    "print(f\"Average Accuracy: {np.mean(ft1_accuracies):.4f}\")\n",
    "print(f\"Average Precision: {np.mean(ft1_precisions):.4f}\")\n",
    "print(f\"Average Recall: {np.mean(ft1_recalls):.4f}\")\n",
    "print(f\"Average F1 Score: {np.mean(ft1_f1_scores):.4f}\")"
   ]
  },
  {
   "cell_type": "code",
   "execution_count": 208,
   "id": "4caca193",
   "metadata": {},
   "outputs": [
    {
     "name": "stdout",
     "output_type": "stream",
     "text": [
      "Fold 1 Confusion Matrix:\n",
      "[[51  8]\n",
      " [21 48]]\n",
      "----------------------------------------\n",
      "Fold 2 Confusion Matrix:\n",
      "[[44 15]\n",
      " [15 54]]\n",
      "----------------------------------------\n",
      "Fold 3 Confusion Matrix:\n",
      "[[49 10]\n",
      " [18 51]]\n",
      "----------------------------------------\n",
      "Fold 4 Confusion Matrix:\n",
      "[[48 11]\n",
      " [17 52]]\n",
      "----------------------------------------\n",
      "Fold 5 Confusion Matrix:\n",
      "[[46 13]\n",
      " [ 9 60]]\n",
      "----------------------------------------\n",
      "Average MCC: 0.5758\n",
      "Average Accuracy: 0.7859\n",
      "Average Precision: 0.7859\n",
      "Average Recall: 0.7681\n",
      "Average F1 Score: 0.7936\n"
     ]
    }
   ],
   "source": [
    "'''第三：集成两个子模型'''\n",
    "# 创建集成模型（软投票）\n",
    "ensemble_model = VotingClassifier(estimators=[\n",
    "    ('model_1', ft21_model),\n",
    "    ('model_2', ft21_model)\n",
    "], voting='soft')\n",
    "\n",
    "# 进行五折交叉验证并输出每一折的混淆矩阵\n",
    "vt_skf = StratifiedKFold(n_splits=5, shuffle=True, random_state=42)\n",
    "fold = 1\n",
    "\n",
    "# 存储各折的评价指标\n",
    "vt_mcc_scores = []\n",
    "vt_accuracy_scores = []\n",
    "vt_precision_scores = []\n",
    "vt_recall_scores = []\n",
    "vt_f1_scores = []\n",
    "vt_confusion_matrix = []\n",
    "\n",
    "for train_index, test_index in vt_skf.split(np.hstack((ft21_X, ft22_X)),ft2_y):\n",
    "    X_train, X_test = np.hstack((ft21_X, ft22_X))[train_index], np.hstack((ft21_X, ft22_X))[test_index]\n",
    "    y_train, y_test = ft2_y[train_index], ft2_y[test_index]\n",
    "    \n",
    "    # 训练和预测\n",
    "    ensemble_model.fit(X_train, y_train)\n",
    "    y_pred = ensemble_model.predict(X_test)\n",
    "    \n",
    "    # 计算混淆矩阵\n",
    "    cm = confusion_matrix(y_test, y_pred)\n",
    "    # 输出当前折的混淆矩阵\n",
    "    print(f\"Fold {fold} Confusion Matrix:\")\n",
    "    print(cm)\n",
    "    print(\"-\" * 40)\n",
    "    \n",
    "    # 计算并存储评价指标\n",
    "    vt_confusion_matrix.append(cm)\n",
    "    vt_mcc_scores.append(matthews_corrcoef(y_test, y_pred))\n",
    "    vt_accuracy_scores.append(accuracy_score(y_test, y_pred))\n",
    "    vt_precision_scores.append(precision_score(y_test, y_pred))\n",
    "    vt_recall_scores.append(recall_score(y_test, y_pred))\n",
    "    vt_f1_scores.append(f1_score(y_test, y_pred))\n",
    "    \n",
    "    fold += 1\n",
    "\n",
    "\n",
    "# 计算并输出所有折的平均值\n",
    "print(f\"Average MCC: {np.mean(vt_mcc_scores):.4f}\")\n",
    "print(f\"Average Accuracy: {np.mean(vt_accuracy_scores):.4f}\")\n",
    "print(f\"Average Precision: {np.mean(vt_accuracy_scores):.4f}\")\n",
    "print(f\"Average Recall: {np.mean(vt_recall_scores):.4f}\")\n",
    "print(f\"Average F1 Score: {np.mean(vt_f1_scores):.4f}\")"
   ]
  },
  {
   "cell_type": "raw",
   "id": "9ce1d91c",
   "metadata": {},
   "source": [
    "# C\n",
    "Average MCC: 0.1881\n",
    "Average Accuracy: 0.6062\n",
    "Average Precision: 0.6189\n",
    "Average Recall: 0.7602\n",
    "Average F1 Score: 0.6810\n",
    "\n",
    "# C+P\n",
    "Average MCC: 0.4074\n",
    "Average Accuracy: 0.7022\n",
    "Average Precision: 0.7431\n",
    "Average Recall: 0.6870\n",
    "Average F1 Score: 0.7125\n",
    "# C+P+M\n",
    "Average MCC: 0.5758\n",
    "Average Accuracy: 0.7859\n",
    "Average Precision: 0.7859\n",
    "Average Recall: 0.7681\n",
    "Average F1 Score: 0.7936"
   ]
  },
  {
   "cell_type": "code",
   "execution_count": 22,
   "id": "962670a0",
   "metadata": {},
   "outputs": [],
   "source": [
    "# # 转换为两个列表\n",
    "# metrics_1 = val_com_clinic_prs_ret\n",
    "# metrics_2 = val_com_clinic_prs_methy_ret\n",
    "# results_cp = [metrics_1['AUC'], metrics_1['Accuracy'], metrics_1['Precision'], metrics_1['Recall'], metrics_1['F1']]\n",
    "# results_cpm = [metrics_2['AUC'], metrics_2['Accuracy'], metrics_2['Precision'], metrics_2['Recall'], metrics_2['F1']]\n"
   ]
  },
  {
   "cell_type": "markdown",
   "id": "78ab04b5",
   "metadata": {},
   "source": [
    "#### （3）整体绘制"
   ]
  },
  {
   "cell_type": "code",
   "execution_count": 25,
   "id": "87010511",
   "metadata": {},
   "outputs": [
    {
     "data": {
      "image/png": "[encoded data removed]",
      "text/plain": [
       "<Figure size 190x630 with 3 Axes>"
      ]
     },
     "metadata": {},
     "output_type": "display_data"
    }
   ],
   "source": [
    "import matplotlib.pyplot as plt\n",
    "import numpy as np\n",
    "import seaborn as sns\n",
    "from sklearn.metrics import confusion_matrix, ConfusionMatrixDisplay\n",
    "\n",
    "\n",
    "class_names = ['CN', 'MCI']\n",
    "\n",
    "# 要绘制的混淆矩阵\n",
    "# cm0 = ft0_confusion_matrices[4]\n",
    "# cm1 = ft1_confusion_matrices[4]\n",
    "# cm2 = vt_confusion_matrix[4]\n",
    "\n",
    "cm0 = [[16,32],[9,50]]\n",
    "cm1 = [[42,16],[16,53]]\n",
    "cm2 = [[46,13],[9,60]]\n",
    "\n",
    "\n",
    "# fig, axs = plt.subplots(1, 3, figsize=(6, 2.2))  # (1, 3) 布局\n",
    "fig, axs = plt.subplots(3, 1, figsize=(1.9, 6.3))  \n",
    "plt.rcParams.update({'font.family': 'Arial', 'font.size': 12})\n",
    "\n",
    "# 绘制第一个混淆矩阵\n",
    "sns.heatmap(cm0, annot=True, fmt='d', cmap='Blues', ax=axs[0], cbar=False, xticklabels=class_names, yticklabels=class_names)\n",
    "axs[0].set_title('CM_C', fontsize=12)#Confusion Matrix 设置标题位置在左侧   loc='left'\n",
    "axs[0].set_xlabel('Predicted Label', fontsize=12)\n",
    "axs[0].set_ylabel('True Label', fontsize=12)\n",
    "# axs[0].yaxis.set_label_position(\"right\")\n",
    "# axs[0].yaxis.tick_right()  # 将Y轴刻度也移至右侧\n",
    "\n",
    "\n",
    "# 绘制第二个混淆矩阵\n",
    "sns.heatmap(cm1, annot=True, fmt='d', cmap='Greens', ax=axs[1], cbar=False, xticklabels=class_names, yticklabels=class_names) #loc='left'\n",
    "axs[1].set_title('CM_C+P', fontsize=12)\n",
    "axs[1].set_xlabel('Predicted Label', fontsize=12)\n",
    "axs[1].set_ylabel('True Label', fontsize=12)\n",
    "# axs[1].yaxis.set_label_position(\"right\")\n",
    "\n",
    "# 绘制第三个混淆矩阵\n",
    "sns.heatmap(cm2, annot=True, fmt='d', cmap='Oranges', ax=axs[2], cbar=False, xticklabels=class_names, yticklabels=class_names)\n",
    "axs[2].set_title('CM_C+P+M', fontsize=12)\n",
    "axs[2].set_xlabel('Predicted Label', fontsize=12)#Predicted Label\n",
    "axs[2].set_ylabel('True Label', fontsize=12)\n",
    "# axs[2].yaxis.set_label_position(\"right\")\n",
    "\n",
    "\n",
    "\n",
    "# 在图的上方添加一行文字\n",
    "fig.suptitle('CN vs. MCI', fontsize=13, y=0.95,x=0.6)\n",
    "# 添加旋转的文字\n",
    "# fig.text(0, 0.5, 'True Label', rotation=90, va='center', ha='center', fontsize=12)\n",
    "\n",
    "# 自动调整子图布局\n",
    "plt.tight_layout()\n",
    "\n",
    "# 显示图形\n",
    "plt.show()\n"
   ]
  },
  {
   "cell_type": "code",
   "execution_count": 211,
   "id": "c2c3719d",
   "metadata": {},
   "outputs": [
    {
     "data": {
      "image/png": "[encoded data removed]",
      "text/plain": [
       "<Figure size 600x300 with 1 Axes>"
      ]
     },
     "metadata": {},
     "output_type": "display_data"
    }
   ],
   "source": [
    "# C 、C+P 和 C+P+M 的结果\n",
    "results_c = [0.1881, 0.6062, 0.6189, 0.7602, 0.6810]\n",
    "results_cp = [0.4074, 0.7022, 0.7431, 0.6870, 0.7125]\n",
    "results_cpm = [0.5758, 0.7859, 0.7859, 0.7681, 0.7936]\n",
    "\n",
    "\n",
    "# 评价指标\n",
    "metrics = ['MCC', 'Accuracy', 'Precision', 'Recall', 'F1 Score']\n",
    "\n",
    "# 绘制分组柱状图\n",
    "plt.figure(figsize=(6,3))\n",
    "bar_width = 0.3\n",
    "x = np.arange(len(metrics))\n",
    "\n",
    "# 绘制 C 的柱状图\n",
    "bars_c = plt.bar(x - bar_width, results_c, bar_width, color='#FF9999', label='C')\n",
    "\n",
    "# 绘制 C+P 的柱状图\n",
    "bars_cp = plt.bar(x , results_cp, bar_width, color='#99FF99', label='C+P')\n",
    "\n",
    "# 绘制 C+P+M 的柱状图\n",
    "bars_cpm = plt.bar(x + bar_width, results_cpm, bar_width,color='#FFCC99', label='C+P+M')\n",
    "\n",
    "\n",
    "# # 添加图表标题和轴标签\n",
    "plt.title('MCC of CN_MCI', fontsize=12)\n",
    "plt.xlabel('', fontsize=12)\n",
    "plt.ylabel('Mean Scores', fontsize=12)\n",
    "\n",
    "# 设置 x 轴刻度标签\n",
    "plt.xticks(x, metrics,rotation=30)\n",
    "plt.ylim(0, 1.05) \n",
    "\n",
    "# 添加图例\n",
    "plt.legend(loc='lower right')\n",
    "\n",
    "# 在柱状图上添加值\n",
    "for bars in [bars_c, bars_cp, bars_cpm]:\n",
    "    for bar in bars:\n",
    "        height = bar.get_height()\n",
    "        plt.text(\n",
    "            bar.get_x() + bar.get_width() / 2, \n",
    "            height, \n",
    "            f'{height:.2f}', \n",
    "            ha='center', \n",
    "            va='bottom', \n",
    "            fontsize=10.5\n",
    "        )\n",
    "\n",
    "# 显示图形\n",
    "plt.show()"
   ]
  },
  {
   "cell_type": "code",
   "execution_count": null,
   "id": "c1cee7d6",
   "metadata": {},
   "outputs": [],
   "source": []
  },
  {
   "cell_type": "code",
   "execution_count": null,
   "id": "bae601d5",
   "metadata": {},
   "outputs": [],
   "source": []
  },
  {
   "cell_type": "markdown",
   "id": "4303dc08",
   "metadata": {},
   "source": [
    "##### SVM 核融合"
   ]
  },
  {
   "cell_type": "code",
   "execution_count": 510,
   "id": "a49cbf85",
   "metadata": {},
   "outputs": [],
   "source": [
    "# from sklearn.model_selection import GridSearchCV, StratifiedKFold, cross_val_score\n",
    "# from sklearn.metrics import roc_auc_score, accuracy_score, precision_score, recall_score, f1_score, make_scorer\n",
    "# from sklearn.preprocessing import StandardScaler\n",
    "# from sklearn.metrics.pairwise import pairwise_kernels\n",
    "# from sklearn.pipeline import Pipeline\n",
    "\n",
    "# ft1 = ['PTGENDER', 'PTMARRY', 'AGE','PTEDUCAT', 'cov_prs']\n",
    "# ft2 = ['cg17750572', 'cg01452847', 'cg13348062', 'cg18627235', 'cg15452204', \n",
    "#        'cg01821149', 'cg00884606', 'cg03354992', 'cg09173768', 'cg14515364']\n",
    "# X_data = CN_MCI_Data[ft1 + ft2]\n",
    "\n",
    "\n",
    "# # 定义核函数\n",
    "# def custom_kernel(X1, X2, kernel1='rbf', kernel2='sigmoid', weight=0.5):\n",
    "#     # 核函数融合\n",
    "#     K1 = pairwise_kernels(X1, metric=kernel1)\n",
    "#     K2 = pairwise_kernels(X2, metric=kernel2)\n",
    "#     return weight * K1 + (1 - weight) * K2\n",
    "\n",
    "# # 定义参数搜索范围\n",
    "# kernel_param_grid = {\n",
    "#     'kernel1': ['linear', 'poly', 'rbf', 'sigmoid'],\n",
    "#     'kernel2': ['linear', 'poly', 'rbf', 'sigmoid'],\n",
    "#     'weight': [0.1, 0.3, 0.5, 0.7, 0.9]\n",
    "# }"
   ]
  },
  {
   "cell_type": "code",
   "execution_count": 511,
   "id": "d90d25c1",
   "metadata": {},
   "outputs": [
    {
     "name": "stdout",
     "output_type": "stream",
     "text": [
      "最佳参数: {'kernel1': 'poly', 'kernel2': 'poly', 'weight': 0.7}, 最佳得分: 0.6551\n"
     ]
    }
   ],
   "source": [
    "# '''执行网格搜索，寻找最佳kernel融合参数'''\n",
    "\n",
    "# best_score = 0\n",
    "# best_params = {}\n",
    "\n",
    "# # SVM模型，设置不同的核函数\n",
    "# com_svm = SVC(kernel='precomputed')\n",
    "# # 遍历所有参数组合\n",
    "# for kernel1 in kernel_param_grid['kernel1']:\n",
    "#     for kernel2 in kernel_param_grid['kernel2']:\n",
    "#         for weight in kernel_param_grid['weight']:\n",
    "#             # 计算预先计算的核矩阵\n",
    "#             K = custom_kernel(X_data[ft1], X_data[ft2], kernel1=kernel1, kernel2=kernel2, weight=weight)\n",
    "\n",
    "#             # 使用预先计算的核矩阵训练模型并评估\n",
    "#             acc_scores = cross_val_score(com_svm, K, y, cv=5, scoring='accuracy')\n",
    "\n",
    "#             # 如果当前组合得分更好，则更新最佳参数\n",
    "#             if np.mean(acc_scores) > best_score:\n",
    "#                 best_score = np.mean(acc_scores)\n",
    "#                 best_params = {'kernel1': kernel1, 'kernel2': kernel2, 'weight': weight}\n",
    "\n",
    "# print(f\"最佳参数: {best_params}, 最佳得分: {best_score:.4f}\")"
   ]
  },
  {
   "cell_type": "code",
   "execution_count": 517,
   "id": "9349e4ca",
   "metadata": {
    "collapsed": true
   },
   "outputs": [
    {
     "name": "stdout",
     "output_type": "stream",
     "text": [
      "AUC 平均值: 0.6184\n",
      "Accuracy 平均值: 0.6551\n",
      "Precision 平均值: 0.7049\n",
      "Recall 平均值: 0.7681\n",
      "F1 平均值: 0.7345\n",
      "混淆矩阵:\n",
      "Fold 1:\n",
      "[[18 24]\n",
      " [16 53]]\n",
      "\n",
      "Fold 2:\n",
      "[[17 25]\n",
      " [14 55]]\n",
      "\n",
      "Fold 3:\n",
      "[[20 22]\n",
      " [12 57]]\n",
      "\n",
      "Fold 4:\n",
      "[[25 17]\n",
      " [15 54]]\n",
      "\n",
      "Fold 5:\n",
      "[[18 23]\n",
      " [23 46]]\n",
      "\n",
      "合并后的混淆矩阵:\n",
      "[[ 98 111]\n",
      " [ 80 265]]\n"
     ]
    }
   ],
   "source": [
    "# '''使用最佳参数进行五折交叉验证并计算评价指标'''\n",
    "\n",
    "# kfold = StratifiedKFold(n_splits=5)\n",
    "# com_metrics = {'AUC': [], 'Accuracy': [], 'Precision': [], 'Recall': [], 'F1': []}\n",
    "# conf_matrices = []\n",
    "\n",
    "# # 计算整体数据的核矩阵\n",
    "# K_total = custom_kernel(X_data[ft1], X_data[ft2], \n",
    "#                         kernel1=best_params['kernel1'], \n",
    "#                         kernel2=best_params['kernel2'], \n",
    "#                         weight=best_params['weight'])\n",
    "\n",
    "# # 进行五折交叉验证\n",
    "# for train_index, test_index in kfold.split(K_total, y):\n",
    "#     K_train, K_test = K_total[train_index][:, train_index], K_total[test_index][:, train_index]\n",
    "#     y_train, y_test = y.iloc[train_index], y.iloc[test_index]\n",
    "\n",
    "#     # 训练SVM模型\n",
    "#     model = SVC(kernel='precomputed')\n",
    "#     model.fit(K_train, y_train)\n",
    "#     y_pred = model.predict(K_test)\n",
    "\n",
    "#     # 计算评价指标\n",
    "#     com_metrics['AUC'].append(roc_auc_score(y_test, y_pred))\n",
    "#     com_metrics['Accuracy'].append(accuracy_score(y_test, y_pred))\n",
    "#     com_metrics['Precision'].append(precision_score(y_test, y_pred))\n",
    "#     com_metrics['Recall'].append(recall_score(y_test, y_pred))\n",
    "#     com_metrics['F1'].append(f1_score(y_test, y_pred))\n",
    "\n",
    "#     # 生成并保存混淆矩阵\n",
    "#     conf_matrices.append(confusion_matrix(y_test, y_pred))\n",
    "\n",
    "# # 输出平均值\n",
    "# for metric_name, values in com_metrics.items():\n",
    "#     print(f\"{metric_name} 平均值: {np.mean(values):.4f}\")\n",
    "\n",
    "# # 输出混淆矩阵（可以选择输出每个折的混淆矩阵，或者合并后的矩阵）\n",
    "# print(\"混淆矩阵:\")\n",
    "# for i, cm in enumerate(conf_matrices):\n",
    "#     print(f\"Fold {i+1}:\\n{cm}\\n\")\n",
    "\n",
    "# # 计算合并后的混淆矩阵（所有折的结果相加）\n",
    "# final_cm = np.sum(conf_matrices, axis=0)\n",
    "# print(f\"合并后的混淆矩阵:\\n{final_cm}\")\n"
   ]
  },
  {
   "cell_type": "code",
   "execution_count": null,
   "id": "db0a600c",
   "metadata": {},
   "outputs": [],
   "source": []
  },
  {
   "cell_type": "code",
   "execution_count": null,
   "id": "3546e88e",
   "metadata": {},
   "outputs": [],
   "source": []
  },
  {
   "cell_type": "code",
   "execution_count": null,
   "id": "f1a62770",
   "metadata": {},
   "outputs": [],
   "source": []
  },
  {
   "cell_type": "code",
   "execution_count": null,
   "id": "1f2a58d0",
   "metadata": {},
   "outputs": [],
   "source": []
  },
  {
   "cell_type": "code",
   "execution_count": null,
   "id": "779c889e",
   "metadata": {},
   "outputs": [],
   "source": []
  },
  {
   "cell_type": "code",
   "execution_count": null,
   "id": "2dbfdcfe",
   "metadata": {},
   "outputs": [],
   "source": []
  },
  {
   "cell_type": "code",
   "execution_count": null,
   "id": "d54f0a3e",
   "metadata": {},
   "outputs": [],
   "source": []
  }
 ],
 "metadata": {
  "kernelspec": {
   "display_name": "Python 3 (ipykernel)",
   "language": "python",
   "name": "python3"
  },
  "language_info": {
   "codemirror_mode": {
    "name": "ipython",
    "version": 3
   },
   "file_extension": ".py",
   "mimetype": "text/x-python",
   "name": "python",
   "nbconvert_exporter": "python",
   "pygments_lexer": "ipython3",
   "version": "3.9.13"
  }
 },
 "nbformat": 4,
 "nbformat_minor": 5
}
