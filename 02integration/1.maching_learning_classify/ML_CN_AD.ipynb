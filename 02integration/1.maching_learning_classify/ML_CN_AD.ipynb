{
 "cells": [
  {
   "cell_type": "code",
   "execution_count": 1,
   "id": "5a2a10de",
   "metadata": {},
   "outputs": [],
   "source": [
    "import numpy as np\n",
    "import pandas as pd\n",
    "from collections import Counter\n",
    "import matplotlib.pyplot as plt\n",
    "import seaborn as sns\n",
    "from sklearn.preprocessing import StandardScaler\n",
    "import warnings\n",
    "from sklearn.exceptions import ConvergenceWarning"
   ]
  },
  {
   "cell_type": "code",
   "execution_count": 2,
   "id": "40ec3d5e",
   "metadata": {},
   "outputs": [],
   "source": [
    "'''读取数据'''\n",
    "data_path = './concatData.xlsx'\n",
    "CN_AD_Data = pd.read_excel(data_path,sheet_name=\"CN_AD\")"
   ]
  },
  {
   "cell_type": "markdown",
   "id": "c20335bf",
   "metadata": {},
   "source": [
    "### 1、串联拼接"
   ]
  },
  {
   "cell_type": "code",
   "execution_count": null,
   "id": "307618ce",
   "metadata": {},
   "outputs": [
    {
     "name": "stderr",
     "output_type": "stream",
     "text": [
      "/opt/anaconda3/lib/python3.9/site-packages/xgboost/core.py:265: FutureWarning: Your system has an old version of glibc (< 2.28). We will stop supporting Linux distros with glibc older than 2.28 after **May 31, 2025**. Please upgrade to a recent Linux distro (with glibc 2.28+) to use future versions of XGBoost.\n",
      "Note: You have installed the 'manylinux2014' variant of XGBoost. Certain features such as GPU algorithms or federated learning are not available. To use these features, please upgrade to a recent Linux distro with glibc 2.28+, and install the 'manylinux_2_28' variant.\n",
      "  warnings.warn(\n"
     ]
    }
   ],
   "source": [
    "from sklearn.model_selection import cross_val_score, cross_validate, StratifiedKFold\n",
    "from sklearn.metrics import roc_auc_score, make_scorer, accuracy_score, precision_score, recall_score, f1_score\n",
    "from sklearn.metrics import matthews_corrcoef\n",
    "from sklearn.neighbors import KNeighborsClassifier\n",
    "from sklearn.linear_model import LogisticRegression\n",
    "from sklearn.naive_bayes import GaussianNB,BernoulliNB\n",
    "from sklearn.svm import SVC\n",
    "from sklearn.tree import DecisionTreeClassifier\n",
    "from sklearn.ensemble import RandomForestClassifier, GradientBoostingClassifier, AdaBoostClassifier\n",
    "from xgboost import XGBClassifier\n",
    "import warnings\n",
    "from sklearn.exceptions import ConvergenceWarning\n",
    "\n",
    "# 忽略所有的 ConvergenceWarning\n",
    "warnings.filterwarnings(\"ignore\", category=ConvergenceWarning)\n",
    "\n",
    "# 定义模型\n",
    "models = {\n",
    "    'KNN': KNeighborsClassifier(n_neighbors=20),#n_neighbors=20\n",
    "    'Ridge': LogisticRegression(penalty='l2', solver='liblinear'),#, solver='liblinear'\n",
    "    'Bayes': BernoulliNB(),\n",
    "    'SVM': SVC(probability=True),#,C=8\n",
    "    'RF': RandomForestClassifier(),\n",
    "    'AdaBoost': AdaBoostClassifier(),\n",
    "    'XGBoost': XGBClassifier(),\n",
    "    'GDBT': GradientBoostingClassifier()\n",
    "}\n",
    "\n",
    "# 定义评分标准\n",
    "scoring = {\n",
    "    'MCC': make_scorer(matthews_corrcoef),\n",
    "    'Accuracy': make_scorer(accuracy_score),\n",
    "    'Precision': make_scorer(precision_score),\n",
    "    'Recall': make_scorer(recall_score),\n",
    "    'F1': make_scorer(f1_score)\n",
    "}\n",
    "\n",
    "# 交叉验证\n",
    "cv = StratifiedKFold(n_splits=5, shuffle=True,random_state=23)"
   ]
  },
  {
   "cell_type": "code",
   "execution_count": 6,
   "id": "2b8787f7",
   "metadata": {},
   "outputs": [],
   "source": [
    "from sklearn.neighbors import NearestNeighbors\n",
    "\n",
    "def find_and_remove_danger_samples(X, y, k=5): \n",
    "    X = np.array(X)\n",
    "    y = np.array(y)\n",
    "    majority_class = max(set(y), key=list(y).count)\n",
    "    neigh = NearestNeighbors(n_neighbors=k)\n",
    "    neigh.fit(X)\n",
    "    danger_indices = []\n",
    "    for idx, x in enumerate(X):\n",
    "        if y[idx] == majority_class:\n",
    "            neighbors = neigh.kneighbors([x], return_distance=False)\n",
    "            neighbor_labels = y[neighbors[0]]\n",
    "            minority_count = np.sum(neighbor_labels != majority_class)\n",
    "            if minority_count > k / 2:\n",
    "                danger_indices.append(idx)\n",
    "    X_cleaned = np.delete(X, danger_indices, axis=0)\n",
    "    y_cleaned = np.delete(y, danger_indices, axis=0)\n",
    "    \n",
    "    return X_cleaned, y_cleaned"
   ]
  },
  {
   "cell_type": "markdown",
   "id": "04186a17",
   "metadata": {},
   "source": [
    "#### （0）临床数据"
   ]
  },
  {
   "cell_type": "code",
   "execution_count": 7,
   "id": "b1e1e24a",
   "metadata": {},
   "outputs": [
    {
     "name": "stdout",
     "output_type": "stream",
     "text": [
      "Original dataset shape Counter({0: 209, 1: 35})\n",
      "过采样 dataset shape Counter({0: 209, 1: 105})\n",
      "欠采样 dataset shape: Counter({0: 206, 1: 105})\n"
     ]
    }
   ],
   "source": [
    "from collections import Counter\n",
    "from sklearn.datasets import make_classification\n",
    "from imblearn.over_sampling import BorderlineSMOTE\n",
    "\n",
    "# 标准化数据\n",
    "clinic_X = CN_AD_Data[['PTGENDER', 'PTMARRY', 'AGE','PTEDUCAT']]\n",
    "clinic_y = CN_AD_Data['status']\n",
    "print('Original dataset shape %s' % Counter(clinic_y))\n",
    "\n",
    "\n",
    "'''过采样'''\n",
    "sm0 = BorderlineSMOTE(\n",
    "    random_state=42,\n",
    "    kind=\"borderline-1\",\n",
    "    sampling_strategy={0: 209, 1: 105 },#179 20  IR=6.92\n",
    "    k_neighbors=5, #确定邻居点的数量\n",
    "    m_neighbors=10) #指定在合成样本生成过程中从近邻点中选择多少个样本作为参考\n",
    "X_bdsmote0, y_bdsmote0 = sm0.fit_resample(clinic_X, clinic_y)\n",
    "print('过采样 dataset shape %s' % Counter(y_bdsmote0))\n",
    "# 合并为一个新的dataframe\n",
    "y_bdsmote0 = pd.Series(y_bdsmote0,name=\"status\")\n",
    "data_bdsmote0 = pd.concat([X_bdsmote0, y_bdsmote0], axis=1)\n",
    "\n",
    "\n",
    "'''欠采样'''\n",
    "X_cleaned0, y_cleaned0 = find_and_remove_danger_samples(X_bdsmote0.values, data_bdsmote0[\"status\"], k=100)\n",
    "print(f\"欠采样 dataset shape: {Counter(y_cleaned0)}\")\n",
    "# 合并为一个新的dataframe\n",
    "X_bdknn0 = pd.DataFrame(X_cleaned0,columns=X_bdsmote0.columns)\n",
    "y_bdknn0 = pd.Series(y_cleaned0,name=\"status\")\n",
    "data_bdknn0 = pd.concat([X_bdknn0, y_bdknn0], axis=1)"
   ]
  },
  {
   "cell_type": "code",
   "execution_count": 8,
   "id": "74c333a8",
   "metadata": {},
   "outputs": [
    {
     "name": "stdout",
     "output_type": "stream",
     "text": [
      "               MCC  Accuracy  Precision    Recall        F1\n",
      "KNN       0.437257  0.761802   0.717619  0.485714  0.578297\n",
      "Ridge     0.332372  0.723349   0.665844  0.371429  0.475401\n",
      "Bayes     0.373516  0.739427   0.735027  0.361905  0.482872\n",
      "SVM       0.477266  0.774859   0.713340  0.561905  0.626301\n",
      "RF        0.643064  0.836047   0.762971  0.771429  0.760677\n",
      "AdaBoost  0.507522  0.781464   0.701207  0.638095  0.665230\n",
      "XGBoost   0.603891  0.823041   0.748681  0.723810  0.733133\n",
      "GDBT      0.584509  0.816590   0.762743  0.676190  0.714207\n"
     ]
    }
   ],
   "source": [
    "clinic_ret = {}\n",
    "\n",
    "# 标准化\n",
    "standard_scaler0 = StandardScaler()\n",
    "standard_scaler0.fit(X_bdknn0)\n",
    "X_bdknn0 = standard_scaler0.transform(X_bdknn0)\n",
    "X1 = pd.DataFrame(X_bdknn0,columns=[['PTGENDER', 'PTMARRY', 'AGE','PTEDUCAT']])\n",
    "\n",
    "\n",
    "for name, model in models.items():    \n",
    "    scores = cross_validate(model , X1, y_bdknn0, cv=cv, scoring=scoring)\n",
    "    clinic_ret[name] = {\n",
    "        'MCC': np.mean(scores['test_MCC']),\n",
    "        'Accuracy': np.mean(scores['test_Accuracy']),\n",
    "        'Precision': np.mean(scores['test_Precision']),\n",
    "        'Recall': np.mean(scores['test_Recall']),\n",
    "        'F1': np.mean(scores['test_F1'])\n",
    "    }\n",
    "\n",
    "# 输出结果\n",
    "df_clinic = pd.DataFrame(clinic_ret).T\n",
    "# print(df_clinic)"
   ]
  },
  {
   "cell_type": "markdown",
   "id": "59ad76d5",
   "metadata": {},
   "source": [
    "#### （1）临床数据+PRS"
   ]
  },
  {
   "cell_type": "code",
   "execution_count": 9,
   "id": "27671dff",
   "metadata": {},
   "outputs": [
    {
     "name": "stdout",
     "output_type": "stream",
     "text": [
      "Original dataset shape Counter({0: 209, 1: 35})\n",
      "过采样 dataset shape Counter({0: 209, 1: 105})\n",
      "欠采样 dataset shape: Counter({0: 206, 1: 105})\n"
     ]
    }
   ],
   "source": [
    "from collections import Counter\n",
    "from sklearn.datasets import make_classification\n",
    "from imblearn.over_sampling import BorderlineSMOTE\n",
    "\n",
    "# 标准化数据\n",
    "prs_X = CN_AD_Data[['PTGENDER', 'PTMARRY', 'AGE','PTEDUCAT', \n",
    "                  'cov_prs']]\n",
    "prs_y = CN_AD_Data['status']\n",
    "print('Original dataset shape %s' % Counter(prs_y))\n",
    "\n",
    "\n",
    "'''过采样'''\n",
    "sm1 = BorderlineSMOTE(\n",
    "    random_state=42,\n",
    "    kind=\"borderline-1\",\n",
    "    sampling_strategy={0: 209, 1: 105 },#179 20  IR=6.92\n",
    "    k_neighbors=5, #确定邻居点的数量\n",
    "    m_neighbors=10) #指定在合成样本生成过程中从近邻点中选择多少个样本作为参考\n",
    "X_bdsmote1, y_bdsmote1 = sm1.fit_resample(prs_X, prs_y)\n",
    "print('过采样 dataset shape %s' % Counter(y_bdsmote1))\n",
    "# 合并为一个新的dataframe\n",
    "y_bdsmote1 = pd.Series(y_bdsmote1,name=\"status\")\n",
    "data_bdsmote1 = pd.concat([X_bdsmote1, y_bdsmote1], axis=1)\n",
    "\n",
    "\n",
    "'''欠采样'''\n",
    "X_cleaned1, y_cleaned1 = find_and_remove_danger_samples(X_bdsmote1.values, data_bdsmote1[\"status\"], k=100)\n",
    "print(f\"欠采样 dataset shape: {Counter(y_cleaned1)}\")\n",
    "# 合并为一个新的dataframe\n",
    "X_bdknn1 = pd.DataFrame(X_cleaned1,columns=X_bdsmote1.columns)\n",
    "y_bdknn1 = pd.Series(y_cleaned1,name=\"status\")\n",
    "data_bdknn1 = pd.concat([X_bdknn1, y_bdknn1], axis=1)"
   ]
  },
  {
   "cell_type": "code",
   "execution_count": 10,
   "id": "4951e04d",
   "metadata": {},
   "outputs": [
    {
     "name": "stdout",
     "output_type": "stream",
     "text": [
      "               MCC  Accuracy  Precision    Recall        F1\n",
      "KNN       0.580536  0.813415   0.769495  0.666667  0.710033\n",
      "Ridge     0.440059  0.755658   0.673333  0.561905  0.604937\n",
      "Bayes     0.551660  0.794316   0.692977  0.723810  0.703229\n",
      "SVM       0.606235  0.819969   0.725667  0.761905  0.741260\n",
      "RF        0.681808  0.855248   0.781927  0.800000  0.786944\n",
      "AdaBoost  0.687515  0.855351   0.792019  0.800000  0.786378\n",
      "XGBoost   0.694408  0.858577   0.793234  0.809524  0.794346\n",
      "GDBT      0.736550  0.880952   0.831624  0.819048  0.821495\n"
     ]
    }
   ],
   "source": [
    "clinic_prs_ret = {}\n",
    "\n",
    "# 标准化\n",
    "standard_scaler1 = StandardScaler()\n",
    "standard_scaler1.fit(X_bdknn1)\n",
    "X_bdknn1 = standard_scaler1.transform(X_bdknn1)\n",
    "X2 = pd.DataFrame(X_bdknn1,columns=[['PTGENDER', 'PTMARRY', 'AGE','PTEDUCAT', \n",
    "                  'cov_prs']])\n",
    "\n",
    "\n",
    "for name, model in models.items():    \n",
    "    scores = cross_validate(model , X2, y_bdknn1, cv=cv, scoring=scoring)\n",
    "    clinic_prs_ret[name] = {\n",
    "        'MCC': np.mean(scores['test_MCC']),\n",
    "        'Accuracy': np.mean(scores['test_Accuracy']),\n",
    "        'Precision': np.mean(scores['test_Precision']),\n",
    "        'Recall': np.mean(scores['test_Recall']),\n",
    "        'F1': np.mean(scores['test_F1'])\n",
    "    }\n",
    "\n",
    "# 输出结果\n",
    "df_clinic_prs = pd.DataFrame(clinic_prs_ret).T\n",
    "print(df_clinic_prs)"
   ]
  },
  {
   "cell_type": "markdown",
   "id": "32cf1554",
   "metadata": {},
   "source": [
    "#### （2）临床数据+PRS+甲基化"
   ]
  },
  {
   "cell_type": "code",
   "execution_count": 11,
   "id": "3ddb3d38",
   "metadata": {},
   "outputs": [
    {
     "name": "stdout",
     "output_type": "stream",
     "text": [
      "过采样 dataset shape Counter({0: 209, 1: 105})\n",
      "欠采样 dataset shape: Counter({0: 206, 1: 105})\n"
     ]
    }
   ],
   "source": [
    "cg_X = CN_AD_Data[['PTGENDER', 'PTMARRY', 'AGE','PTEDUCAT', \n",
    "                  'cov_prs',\n",
    "                  'cg26896946','cg06536614', 'cg07972135', 'cg27657429', 'cg18678645', \n",
    "                  'cg24199400','cg04481923', 'cg11921736', 'cg05652809', 'cg01755562']]\n",
    "cg_y = CN_AD_Data['status']\n",
    "'''过采样'''\n",
    "sm2 = BorderlineSMOTE(\n",
    "    random_state=42,\n",
    "    kind=\"borderline-1\",\n",
    "    sampling_strategy={0: 209, 1: 105 },\n",
    "    k_neighbors=5, #确定邻居点的数量\n",
    "    m_neighbors=10) #指定在合成样本生成过程中从近邻点中选择多少个样本作为参考\n",
    "X_bdsmote2, y_bdsmote2 = sm2.fit_resample(cg_X, cg_y)\n",
    "print('过采样 dataset shape %s' % Counter(y_bdsmote2))\n",
    "# 合并为一个新的dataframe\n",
    "y_bdsmote2 = pd.Series(y_bdsmote2,name=\"status\")\n",
    "data_bdsmote2 = pd.concat([X_bdsmote2, y_bdsmote2], axis=1)\n",
    "\n",
    "\n",
    "'''欠采样'''\n",
    "X_cleaned2, y_cleaned2 = find_and_remove_danger_samples(X_bdsmote2.values, data_bdsmote2[\"status\"], k=100)\n",
    "print(f\"欠采样 dataset shape: {Counter(y_cleaned2)}\")\n",
    "# 合并为一个新的dataframe\n",
    "X_bdknn2 = pd.DataFrame(X_cleaned2,columns=X_bdsmote2.columns)\n",
    "y_bdknn2 = pd.Series(y_cleaned2,name=\"status\")\n",
    "data_bdknn2 = pd.concat([X_bdknn2, y_bdknn2], axis=1)"
   ]
  },
  {
   "cell_type": "code",
   "execution_count": 12,
   "id": "a4ae42dd",
   "metadata": {},
   "outputs": [
    {
     "name": "stdout",
     "output_type": "stream",
     "text": [
      "               MCC  Accuracy  Precision    Recall        F1\n",
      "KNN       0.725096  0.868152   0.775984  0.876190  0.817764\n",
      "Ridge     0.741006  0.877931   0.793658  0.876190  0.829881\n",
      "Bayes     0.618575  0.816999   0.702089  0.819048  0.752090\n",
      "SVM       0.780186  0.897235   0.839824  0.876190  0.851457\n",
      "RF        0.804117  0.910087   0.867785  0.876190  0.868264\n",
      "AdaBoost  0.770310  0.893856   0.823556  0.876190  0.844788\n",
      "XGBoost   0.818260  0.916487   0.876281  0.885714  0.877061\n",
      "GDBT      0.803149  0.909985   0.856892  0.885714  0.868994\n"
     ]
    }
   ],
   "source": [
    "clinic_prs_methy_ret = {}\n",
    "\n",
    "# # 标准化\n",
    "standard_scaler3 = StandardScaler()\n",
    "standard_scaler3.fit(X_bdknn2)\n",
    "cg_bdknn_X = standard_scaler3.transform(X_bdknn2)\n",
    "X3 = pd.DataFrame(cg_bdknn_X,columns=['PTGENDER', 'PTMARRY', 'AGE','PTEDUCAT', \n",
    "                  'cov_prs',\n",
    "                  'cg26896946','cg06536614', 'cg07972135', 'cg27657429', 'cg18678645', \n",
    "                  'cg24199400','cg04481923', 'cg11921736', 'cg05652809', 'cg01755562'])\n",
    "y3 = y_bdknn2\n",
    "\n",
    "\n",
    "for name, model in models.items():\n",
    "    scores = cross_validate(model, X3, y3, cv=cv, scoring=scoring)\n",
    "    clinic_prs_methy_ret[name] = {\n",
    "        'MCC': np.mean(scores['test_MCC']),\n",
    "        'Accuracy': np.mean(scores['test_Accuracy']),\n",
    "        'Precision': np.mean(scores['test_Precision']),\n",
    "        'Recall': np.mean(scores['test_Recall']),\n",
    "        'F1': np.mean(scores['test_F1'])\n",
    "    }\n",
    "\n",
    "# 输出结果\n",
    "df_clinic_prs_methy = pd.DataFrame(clinic_prs_methy_ret).T\n",
    "print(df_clinic_prs_methy)"
   ]
  },
  {
   "cell_type": "markdown",
   "id": "31ce8d0d",
   "metadata": {},
   "source": [
    "#### （3）打印结果"
   ]
  },
  {
   "cell_type": "code",
   "execution_count": 13,
   "id": "c9b71609",
   "metadata": {},
   "outputs": [
    {
     "name": "stdout",
     "output_type": "stream",
     "text": [
      "               MCC  Accuracy  Precision    Recall        F1\n",
      "KNN       0.437257  0.761802   0.717619  0.485714  0.578297\n",
      "Ridge     0.332372  0.723349   0.665844  0.371429  0.475401\n",
      "Bayes     0.373516  0.739427   0.735027  0.361905  0.482872\n",
      "SVM       0.477266  0.774859   0.713340  0.561905  0.626301\n",
      "RF        0.643064  0.836047   0.762971  0.771429  0.760677\n",
      "AdaBoost  0.507522  0.781464   0.701207  0.638095  0.665230\n",
      "XGBoost   0.603891  0.823041   0.748681  0.723810  0.733133\n",
      "GDBT      0.584509  0.816590   0.762743  0.676190  0.714207\n",
      "               MCC  Accuracy  Precision    Recall        F1\n",
      "KNN       0.580536  0.813415   0.769495  0.666667  0.710033\n",
      "Ridge     0.440059  0.755658   0.673333  0.561905  0.604937\n",
      "Bayes     0.551660  0.794316   0.692977  0.723810  0.703229\n",
      "SVM       0.606235  0.819969   0.725667  0.761905  0.741260\n",
      "RF        0.681808  0.855248   0.781927  0.800000  0.786944\n",
      "AdaBoost  0.687515  0.855351   0.792019  0.800000  0.786378\n",
      "XGBoost   0.694408  0.858577   0.793234  0.809524  0.794346\n",
      "GDBT      0.736550  0.880952   0.831624  0.819048  0.821495\n",
      "               MCC  Accuracy  Precision    Recall        F1\n",
      "KNN       0.725096  0.868152   0.775984  0.876190  0.817764\n",
      "Ridge     0.741006  0.877931   0.793658  0.876190  0.829881\n",
      "Bayes     0.618575  0.816999   0.702089  0.819048  0.752090\n",
      "SVM       0.780186  0.897235   0.839824  0.876190  0.851457\n",
      "RF        0.804117  0.910087   0.867785  0.876190  0.868264\n",
      "AdaBoost  0.770310  0.893856   0.823556  0.876190  0.844788\n",
      "XGBoost   0.818260  0.916487   0.876281  0.885714  0.877061\n",
      "GDBT      0.803149  0.909985   0.856892  0.885714  0.868994\n"
     ]
    }
   ],
   "source": [
    "print(df_clinic)\n",
    "print(df_clinic_prs)\n",
    "print(df_clinic_prs_methy)"
   ]
  },
  {
   "cell_type": "markdown",
   "id": "79ff95e5",
   "metadata": {},
   "source": [
    "### 2、转化拼接"
   ]
  },
  {
   "cell_type": "code",
   "execution_count": 117,
   "id": "0472a288",
   "metadata": {},
   "outputs": [],
   "source": [
    "from sklearn.decomposition import PCA\n",
    "\n",
    "models_trans = {\n",
    "    'KNN': KNeighborsClassifier(n_neighbors=15),\n",
    "    'Ridge': LogisticRegression(penalty='l2', solver='liblinear',C=32),\n",
    "    'Bayes': BernoulliNB(),#  GaussianNB   BernoulliNB\n",
    "    'SVM': SVC(probability=True,C=32),\n",
    "    'RF': RandomForestClassifier(),\n",
    "    'AdaBoost': AdaBoostClassifier(),\n",
    "    'XGBoost': XGBClassifier(),\n",
    "    'GDBT': GradientBoostingClassifier()\n",
    "}"
   ]
  },
  {
   "cell_type": "markdown",
   "id": "24180d40",
   "metadata": {},
   "source": [
    "#### （0）clinic"
   ]
  },
  {
   "cell_type": "code",
   "execution_count": 118,
   "id": "b2a4ced0",
   "metadata": {},
   "outputs": [],
   "source": [
    "trans_clinic_ret = {}\n",
    "\n",
    "ft0_X = X1[['PTGENDER', 'PTMARRY', 'AGE','PTEDUCAT']]\n",
    "ft0_y = data_bdknn0['status']\n",
    "\n",
    "pca0 = PCA(n_components=3)   \n",
    "pca0_X = pca0.fit_transform(ft0_X)\n",
    "\n",
    "for name, model in models_trans.items():\n",
    "    scores = cross_validate(model, pca0_X, ft0_y, cv=cv, scoring=scoring)\n",
    "    trans_clinic_ret[name] = {\n",
    "        'MCC': np.mean(scores['test_MCC']),\n",
    "        'Accuracy': np.mean(scores['test_Accuracy']),\n",
    "        'Precision': np.mean(scores['test_Precision']),\n",
    "        'Recall': np.mean(scores['test_Recall']),\n",
    "        'F1': np.mean(scores['test_F1'])\n",
    "    }\n",
    "\n",
    "# 输出结果\n",
    "df_trans_clinic = pd.DataFrame(trans_clinic_ret).T\n",
    "# print(df_trans_clinic)"
   ]
  },
  {
   "cell_type": "markdown",
   "id": "7a560258",
   "metadata": {},
   "source": [
    "#### （1）cov+prs_pca"
   ]
  },
  {
   "cell_type": "code",
   "execution_count": 119,
   "id": "3331df5a",
   "metadata": {},
   "outputs": [],
   "source": [
    "trans_clinic_prs_ret = {}\n",
    "\n",
    "ft1_X = X2[['PTGENDER', 'PTMARRY', 'AGE','PTEDUCAT','cov_prs']]\n",
    "# ft12_X = X2['cov_prs']\n",
    "ft1_y = data_bdknn1['status']\n",
    "\n",
    "pca1 = PCA(n_components=4)\n",
    "pca1_X = pca1.fit_transform(ft1_X)\n",
    "pca1_X = pd.DataFrame(pca1_X)\n",
    "# ,columns=[f'PCA1_{i+1}' for i in range(pca11_X.shape[1])]\n",
    "\n",
    "# combined_pca1 =pd.concat([pca11_X, ft12_X],axis=1)\n",
    "\n",
    "\n",
    "\n",
    "for name, model in models_trans.items():\n",
    "    scores = cross_validate(model, pca1_X, ft1_y, cv=cv, scoring=scoring)\n",
    "    trans_clinic_prs_ret[name] = {\n",
    "        'MCC': np.mean(scores['test_MCC']),\n",
    "        'Accuracy': np.mean(scores['test_Accuracy']),\n",
    "        'Precision': np.mean(scores['test_Precision']),\n",
    "        'Recall': np.mean(scores['test_Recall']),\n",
    "        'F1': np.mean(scores['test_F1'])\n",
    "    }\n",
    "\n",
    "# 输出结果\n",
    "df_trans_clinic_prs = pd.DataFrame(trans_clinic_prs_ret).T\n",
    "# print(df_trans_clinic_prs)"
   ]
  },
  {
   "cell_type": "markdown",
   "id": "d2383bfe",
   "metadata": {},
   "source": [
    "#### （2）cov+prs+methy_pca"
   ]
  },
  {
   "cell_type": "code",
   "execution_count": 120,
   "id": "3a94dbcd",
   "metadata": {},
   "outputs": [],
   "source": [
    "trans_clinic_prs_methy_ret = {}\n",
    "\n",
    "ft21_X = X3[['PTGENDER', 'PTMARRY', 'AGE','PTEDUCAT','cov_prs']]\n",
    "# ft22_X = X3['cov_prs']\n",
    "ft22_X = X3[['cg26896946','cg06536614', 'cg07972135', 'cg27657429', 'cg18678645', \n",
    "                     'cg24199400','cg04481923', 'cg11921736', 'cg05652809', 'cg01755562']]\n",
    "ft2_y = data_bdknn2['status']\n",
    "\n",
    "pca21_X = pca1.fit_transform(ft21_X)\n",
    "pca21_X = pd.DataFrame(pca21_X,columns=[f'PCA1_{i+1}' for i in range(pca21_X.shape[1])])\n",
    "\n",
    "pca2 = PCA(n_components=5)  \n",
    "pca22_X = pca2.fit_transform(ft22_X)\n",
    "pca22_X = pd.DataFrame(pca22_X,columns=[f'PCA3_{i+1}' for i in range(pca22_X.shape[1])])\n",
    "\n",
    "combined_pca2 =pd.concat([pca21_X, pca22_X],axis=1)\n",
    "\n",
    "\n",
    "for name, model in models.items():\n",
    "    scores = cross_validate(model, combined_pca2, ft2_y, cv=cv, scoring=scoring)\n",
    "    trans_clinic_prs_methy_ret[name] = {\n",
    "        'MCC': np.mean(scores['test_MCC']),\n",
    "        'Accuracy': np.mean(scores['test_Accuracy']),\n",
    "        'Precision': np.mean(scores['test_Precision']),\n",
    "        'Recall': np.mean(scores['test_Recall']),\n",
    "        'F1': np.mean(scores['test_F1'])\n",
    "    }\n",
    "\n",
    "# 输出结果\n",
    "df_trans_clinic_prs_methy = pd.DataFrame(trans_clinic_prs_methy_ret).T\n",
    "# print(df_trans_clinic_prs_methy)"
   ]
  },
  {
   "cell_type": "markdown",
   "id": "c705aa78",
   "metadata": {},
   "source": [
    "#### （3）打印结果"
   ]
  },
  {
   "cell_type": "code",
   "execution_count": 121,
   "id": "91f4b18a",
   "metadata": {},
   "outputs": [
    {
     "name": "stdout",
     "output_type": "stream",
     "text": [
      "               MCC  Accuracy  Precision    Recall        F1\n",
      "KNN       0.403546  0.745827   0.669365  0.495238  0.568265\n",
      "Ridge     0.247118  0.691193   0.594320  0.314286  0.406522\n",
      "Bayes     0.283673  0.687865   0.555885  0.466667  0.503479\n",
      "SVM       0.482838  0.768152   0.666071  0.647619  0.652531\n",
      "RF        0.535950  0.787762   0.674223  0.723810  0.697342\n",
      "AdaBoost  0.437899  0.749258   0.632580  0.619048  0.622494\n",
      "XGBoost   0.514968  0.784537   0.685342  0.666667  0.674784\n",
      "GDBT      0.540373  0.794316   0.704090  0.685714  0.692774\n",
      "               MCC  Accuracy  Precision    Recall        F1\n",
      "KNN       0.545845  0.797389   0.717843  0.676190  0.692995\n",
      "Ridge     0.446804  0.755709   0.680781  0.571429  0.613500\n",
      "Bayes     0.470044  0.771787   0.729231  0.533333  0.613152\n",
      "SVM       0.637023  0.832770   0.731879  0.800000  0.763860\n",
      "RF        0.650409  0.839324   0.755104  0.790476  0.768837\n",
      "AdaBoost  0.622761  0.829595   0.751263  0.752381  0.749927\n",
      "XGBoost   0.582055  0.810445   0.717814  0.733333  0.722512\n",
      "GDBT      0.634361  0.832924   0.751828  0.771429  0.758508\n",
      "               MCC  Accuracy  Precision    Recall        F1\n",
      "KNN       0.718404  0.868203   0.789852  0.847619  0.812714\n",
      "Ridge     0.757475  0.884383   0.798088  0.895238  0.840743\n",
      "Bayes     0.670772  0.852074   0.775152  0.790476  0.782454\n",
      "SVM       0.787456  0.900410   0.830416  0.895238  0.856885\n",
      "RF        0.760885  0.890681   0.846653  0.838095  0.836307\n",
      "AdaBoost  0.742013  0.877931   0.820979  0.847619  0.824458\n",
      "XGBoost   0.770935  0.893958   0.845136  0.857143  0.845405\n",
      "GDBT      0.814501  0.913313   0.873267  0.885714  0.872925\n"
     ]
    }
   ],
   "source": [
    "print(df_trans_clinic)\n",
    "print(df_trans_clinic_prs)\n",
    "print(df_trans_clinic_prs_methy)"
   ]
  },
  {
   "cell_type": "markdown",
   "id": "064199dc",
   "metadata": {},
   "source": [
    "### 3、模型拼接"
   ]
  },
  {
   "cell_type": "code",
   "execution_count": 130,
   "id": "ff402c7e",
   "metadata": {},
   "outputs": [],
   "source": [
    "'''集成学习：投票分类'''\n",
    "from sklearn.model_selection import KFold\n",
    "from sklearn.ensemble import RandomForestClassifier, VotingClassifier\n",
    "from sklearn.metrics import log_loss, confusion_matrix, roc_auc_score, accuracy_score, precision_score, recall_score, f1_score\n",
    "from sklearn.ensemble import VotingClassifier\n",
    "from sklearn.metrics import confusion_matrix\n",
    "\n",
    "# 定义基学习器 DecisionTreeClassifier\n",
    "classifiers = {\n",
    "    'KNN': KNeighborsClassifier(),\n",
    "    'LR':  LogisticRegression(),\n",
    "    'NaiveBayes': GaussianNB(),\n",
    "    'SVM': SVC(probability=True),\n",
    "    'RF': RandomForestClassifier(),\n",
    "}\n",
    "\n",
    "def find_bestModel(X,Y):\n",
    "    '''寻找最佳模型'''\n",
    "    best_model = None\n",
    "    best_score = -np.inf  # 负对数损失的最小值是负无穷大\n",
    "    best_model_name = ''\n",
    "    \n",
    "    for name, clf in classifiers.items():\n",
    "        # 使用五折交叉验证\n",
    "        kf = StratifiedKFold(n_splits=5)\n",
    "        fold_scores = []\n",
    "        for train_index, test_index in kf.split(X,Y):\n",
    "            X_train, X_test = X.iloc[train_index], X.iloc[test_index]\n",
    "            y_train, y_test = Y[train_index], Y[test_index]\n",
    "            clf.fit(X_train, y_train)\n",
    "            y_pred_proba = clf.predict_proba(X_test)\n",
    "            fold_scores.append(-log_loss(y_test, y_pred_proba))  # 负对数损失\n",
    "        \n",
    "        mean_score = np.mean(fold_scores)\n",
    "\n",
    "        if mean_score > best_score:\n",
    "            best_score = mean_score\n",
    "            best_model = clf\n",
    "            best_model_name = name\n",
    "\n",
    "    return best_model_name"
   ]
  },
  {
   "cell_type": "code",
   "execution_count": 165,
   "id": "afa39879",
   "metadata": {},
   "outputs": [
    {
     "name": "stdout",
     "output_type": "stream",
     "text": [
      "ft1 model: SVC(probability=True)\n",
      "ft1 model: SVC(probability=True)\n",
      "ft2 model: SVC(probability=True)\n",
      "ft2 model: RandomForestClassifier()\n"
     ]
    },
    {
     "data": {
      "text/html": [
       "<style>#sk-container-id-2 {color: black;background-color: white;}#sk-container-id-2 pre{padding: 0;}#sk-container-id-2 div.sk-toggleable {background-color: white;}#sk-container-id-2 label.sk-toggleable__label {cursor: pointer;display: block;width: 100%;margin-bottom: 0;padding: 0.3em;box-sizing: border-box;text-align: center;}#sk-container-id-2 label.sk-toggleable__label-arrow:before {content: \"▸\";float: left;margin-right: 0.25em;color: #696969;}#sk-container-id-2 label.sk-toggleable__label-arrow:hover:before {color: black;}#sk-container-id-2 div.sk-estimator:hover label.sk-toggleable__label-arrow:before {color: black;}#sk-container-id-2 div.sk-toggleable__content {max-height: 0;max-width: 0;overflow: hidden;text-align: left;background-color: #f0f8ff;}#sk-container-id-2 div.sk-toggleable__content pre {margin: 0.2em;color: black;border-radius: 0.25em;background-color: #f0f8ff;}#sk-container-id-2 input.sk-toggleable__control:checked~div.sk-toggleable__content {max-height: 200px;max-width: 100%;overflow: auto;}#sk-container-id-2 input.sk-toggleable__control:checked~label.sk-toggleable__label-arrow:before {content: \"▾\";}#sk-container-id-2 div.sk-estimator input.sk-toggleable__control:checked~label.sk-toggleable__label {background-color: #d4ebff;}#sk-container-id-2 div.sk-label input.sk-toggleable__control:checked~label.sk-toggleable__label {background-color: #d4ebff;}#sk-container-id-2 input.sk-hidden--visually {border: 0;clip: rect(1px 1px 1px 1px);clip: rect(1px, 1px, 1px, 1px);height: 1px;margin: -1px;overflow: hidden;padding: 0;position: absolute;width: 1px;}#sk-container-id-2 div.sk-estimator {font-family: monospace;background-color: #f0f8ff;border: 1px dotted black;border-radius: 0.25em;box-sizing: border-box;margin-bottom: 0.5em;}#sk-container-id-2 div.sk-estimator:hover {background-color: #d4ebff;}#sk-container-id-2 div.sk-parallel-item::after {content: \"\";width: 100%;border-bottom: 1px solid gray;flex-grow: 1;}#sk-container-id-2 div.sk-label:hover label.sk-toggleable__label {background-color: #d4ebff;}#sk-container-id-2 div.sk-serial::before {content: \"\";position: absolute;border-left: 1px solid gray;box-sizing: border-box;top: 0;bottom: 0;left: 50%;z-index: 0;}#sk-container-id-2 div.sk-serial {display: flex;flex-direction: column;align-items: center;background-color: white;padding-right: 0.2em;padding-left: 0.2em;position: relative;}#sk-container-id-2 div.sk-item {position: relative;z-index: 1;}#sk-container-id-2 div.sk-parallel {display: flex;align-items: stretch;justify-content: center;background-color: white;position: relative;}#sk-container-id-2 div.sk-item::before, #sk-container-id-2 div.sk-parallel-item::before {content: \"\";position: absolute;border-left: 1px solid gray;box-sizing: border-box;top: 0;bottom: 0;left: 50%;z-index: -1;}#sk-container-id-2 div.sk-parallel-item {display: flex;flex-direction: column;z-index: 1;position: relative;background-color: white;}#sk-container-id-2 div.sk-parallel-item:first-child::after {align-self: flex-end;width: 50%;}#sk-container-id-2 div.sk-parallel-item:last-child::after {align-self: flex-start;width: 50%;}#sk-container-id-2 div.sk-parallel-item:only-child::after {width: 0;}#sk-container-id-2 div.sk-dashed-wrapped {border: 1px dashed gray;margin: 0 0.4em 0.5em 0.4em;box-sizing: border-box;padding-bottom: 0.4em;background-color: white;}#sk-container-id-2 div.sk-label label {font-family: monospace;font-weight: bold;display: inline-block;line-height: 1.2em;}#sk-container-id-2 div.sk-label-container {text-align: center;}#sk-container-id-2 div.sk-container {/* jupyter's `normalize.less` sets `[hidden] { display: none; }` but bootstrap.min.css set `[hidden] { display: none !important; }` so we also need the `!important` here to be able to override the default hidden behavior on the sphinx rendered scikit-learn.org. See: https://github.com/scikit-learn/scikit-learn/issues/21755 */display: inline-block !important;position: relative;}#sk-container-id-2 div.sk-text-repr-fallback {display: none;}</style><div id=\"sk-container-id-2\" class=\"sk-top-container\"><div class=\"sk-text-repr-fallback\"><pre>RandomForestClassifier()</pre><b>In a Jupyter environment, please rerun this cell to show the HTML representation or trust the notebook. <br />On GitHub, the HTML representation is unable to render, please try loading this page with nbviewer.org.</b></div><div class=\"sk-container\" hidden><div class=\"sk-item\"><div class=\"sk-estimator sk-toggleable\"><input class=\"sk-toggleable__control sk-hidden--visually\" id=\"sk-estimator-id-2\" type=\"checkbox\" checked><label for=\"sk-estimator-id-2\" class=\"sk-toggleable__label sk-toggleable__label-arrow\">RandomForestClassifier</label><div class=\"sk-toggleable__content\"><pre>RandomForestClassifier()</pre></div></div></div></div></div>"
      ],
      "text/plain": [
       "RandomForestClassifier()"
      ]
     },
     "execution_count": 165,
     "metadata": {},
     "output_type": "execute_result"
    }
   ],
   "source": [
    "# 找到最佳子模型\n",
    "ft0_model_name = find_bestModel(ft0_X,ft0_y)\n",
    "ft0_model = classifiers[ft0_model_name]\n",
    "print(\"ft1 model:\",ft0_model)\n",
    "ft1_model_name = find_bestModel(ft1_X,ft1_y)\n",
    "ft1_model = classifiers[ft1_model_name]\n",
    "print(\"ft1 model:\",ft1_model)\n",
    "\n",
    "ft21_model_name = find_bestModel(ft21_X,ft2_y)\n",
    "ft21_model = classifiers[ft21_model_name]\n",
    "print(\"ft2 model:\",ft21_model)\n",
    "ft22_model_name = find_bestModel(ft22_X,ft2_y)\n",
    "ft22_model = classifiers[ft22_model_name]\n",
    "print(\"ft2 model:\",ft22_model)\n",
    "\n",
    "# 训练模型\n",
    "ft0_model.fit(ft0_X, ft0_y)\n",
    "ft1_model.fit(ft1_X, ft1_y)\n",
    "\n",
    "ft21_model.fit(ft21_X, ft2_y)\n",
    "ft22_model.fit(ft22_X, ft2_y)"
   ]
  },
  {
   "cell_type": "markdown",
   "id": "65aeca46",
   "metadata": {},
   "source": [
    "#### （0）仅计算 ft0 最佳子模型"
   ]
  },
  {
   "cell_type": "code",
   "execution_count": 136,
   "id": "ab213dc1",
   "metadata": {
    "collapsed": true
   },
   "outputs": [
    {
     "name": "stdout",
     "output_type": "stream",
     "text": [
      "Fold 1 Confusion Matrix:\n",
      "[[38  4]\n",
      " [10 11]]\n",
      "----------------------------------------\n",
      "Fold 2 Confusion Matrix:\n",
      "[[39  2]\n",
      " [ 7 14]]\n",
      "----------------------------------------\n",
      "Fold 3 Confusion Matrix:\n",
      "[[39  2]\n",
      " [13  8]]\n",
      "----------------------------------------\n",
      "Fold 4 Confusion Matrix:\n",
      "[[35  6]\n",
      " [ 6 15]]\n",
      "----------------------------------------\n",
      "Fold 5 Confusion Matrix:\n",
      "[[34  7]\n",
      " [ 8 13]]\n",
      "----------------------------------------\n",
      "Average MCC: 0.5184\n",
      "Average Accuracy: 0.7910\n",
      "Average Precision: 0.7545\n",
      "Average Recall: 0.5810\n",
      "Average F1 Score: 0.6465\n"
     ]
    }
   ],
   "source": [
    "'''第一：仅计算 ft0 最佳子模型'''\n",
    "\n",
    "# 创建五折交叉验证器\n",
    "ft0_skf = StratifiedKFold(n_splits=5, shuffle=True, random_state=42)\n",
    "\n",
    "# 初始化用于保存各折结果的列表\n",
    "ft0_confusion_matrices = []\n",
    "ft0_mccs = []\n",
    "ft0_accuracies = []\n",
    "ft0_precisions = []\n",
    "ft0_recalls = []\n",
    "ft0_f1_scores = []\n",
    "\n",
    "\n",
    "# 执行五折交叉验证\n",
    "for fold, (train_index, test_index) in enumerate(ft0_skf.split(ft0_X, ft0_y)):\n",
    "    # 分割数据集\n",
    "    X_train, X_test = ft0_X.iloc[train_index], ft0_X.iloc[test_index]\n",
    "    y_train, y_test = ft0_y[train_index], ft0_y[test_index]\n",
    "\n",
    "    # 训练模型\n",
    "    ft0_model.fit(X_train, y_train)\n",
    "    \n",
    "    # 预测结果\n",
    "    y_pred = ft0_model.predict(X_test)\n",
    "#     y_pred_proba = ft0_model.predict_proba(X_test)[:, 1]  # 预测概率，用于计算AUC\n",
    "\n",
    "    # 计算混淆矩阵\n",
    "    cm = confusion_matrix(y_test, y_pred)\n",
    "    ft0_confusion_matrices.append(cm)\n",
    "    \n",
    "    # 计算各项指标\n",
    "    ft0_mccs.append(matthews_corrcoef(y_test, y_pred))\n",
    "    ft0_accuracies.append(accuracy_score(y_test, y_pred))\n",
    "    ft0_precisions.append(precision_score(y_test, y_pred))\n",
    "    ft0_recalls.append(recall_score(y_test, y_pred))\n",
    "    ft0_f1_scores.append(f1_score(y_test, y_pred))\n",
    "    \n",
    "    \n",
    "    # 输出当前折的混淆矩阵\n",
    "    print(f\"Fold {fold + 1} Confusion Matrix:\")\n",
    "    print(cm)\n",
    "    print(\"-\" * 40)\n",
    "\n",
    "    \n",
    "# 计算并输出所有折的平均值\n",
    "print(f\"Average MCC: {np.mean(ft0_mccs):.4f}\")\n",
    "print(f\"Average Accuracy: {np.mean(ft0_accuracies):.4f}\")\n",
    "print(f\"Average Precision: {np.mean(ft0_precisions):.4f}\")\n",
    "print(f\"Average Recall: {np.mean(ft0_recalls):.4f}\")\n",
    "print(f\"Average F1 Score: {np.mean(ft0_f1_scores):.4f}\")"
   ]
  },
  {
   "cell_type": "markdown",
   "id": "b19f5022",
   "metadata": {},
   "source": [
    "#### （1）仅计算 ft1 最佳子模型"
   ]
  },
  {
   "cell_type": "code",
   "execution_count": 137,
   "id": "2d894d6d",
   "metadata": {
    "collapsed": true
   },
   "outputs": [
    {
     "name": "stdout",
     "output_type": "stream",
     "text": [
      "Fold 1 Confusion Matrix:\n",
      "[[37  5]\n",
      " [ 6 15]]\n",
      "----------------------------------------\n",
      "Fold 2 Confusion Matrix:\n",
      "[[39  2]\n",
      " [ 2 19]]\n",
      "----------------------------------------\n",
      "Fold 3 Confusion Matrix:\n",
      "[[37  4]\n",
      " [ 5 16]]\n",
      "----------------------------------------\n",
      "Fold 4 Confusion Matrix:\n",
      "[[37  4]\n",
      " [ 3 18]]\n",
      "----------------------------------------\n",
      "Fold 5 Confusion Matrix:\n",
      "[[36  5]\n",
      " [ 6 15]]\n",
      "----------------------------------------\n",
      "Average MCC: 0.6965\n",
      "Average Accuracy: 0.8651\n",
      "Average Precision: 0.8046\n",
      "Average Recall: 0.7905\n",
      "Average F1 Score: 0.7972\n"
     ]
    }
   ],
   "source": [
    "'''第二：仅计算 ft1 最佳子模型'''\n",
    "\n",
    "# 创建五折交叉验证器\n",
    "ft1_skf = StratifiedKFold(n_splits=5, shuffle=True, random_state=42)\n",
    "\n",
    "# 初始化用于保存各折结果的列表\n",
    "ft1_confusion_matrices = []\n",
    "ft1_mccs = []\n",
    "ft1_accuracies = []\n",
    "ft1_precisions = []\n",
    "ft1_recalls = []\n",
    "ft1_f1_scores = []\n",
    "\n",
    "\n",
    "# 执行五折交叉验证\n",
    "for fold, (train_index, test_index) in enumerate(ft1_skf.split(ft1_X, ft1_y)):\n",
    "    # 分割数据集\n",
    "    X_train, X_test = ft1_X.iloc[train_index], ft1_X.iloc[test_index]\n",
    "    y_train, y_test = ft1_y[train_index], ft1_y[test_index]\n",
    "\n",
    "    # 训练模型\n",
    "    ft1_model.fit(X_train, y_train)\n",
    "    \n",
    "    # 预测结果\n",
    "    y_pred = ft1_model.predict(X_test)\n",
    "    \n",
    "    # 计算混淆矩阵\n",
    "    cm = confusion_matrix(y_test, y_pred)\n",
    "    ft1_confusion_matrices.append(cm)\n",
    "    \n",
    "    # 计算各项指标\n",
    "    ft1_mccs.append(matthews_corrcoef(y_test, y_pred))\n",
    "    ft1_accuracies.append(accuracy_score(y_test, y_pred))\n",
    "    ft1_precisions.append(precision_score(y_test, y_pred))\n",
    "    ft1_recalls.append(recall_score(y_test, y_pred))\n",
    "    ft1_f1_scores.append(f1_score(y_test, y_pred))\n",
    "    \n",
    "    \n",
    "    # 输出当前折的混淆矩阵\n",
    "    print(f\"Fold {fold + 1} Confusion Matrix:\")\n",
    "    print(cm)\n",
    "    print(\"-\" * 40)\n",
    "\n",
    "    \n",
    "# 计算并输出所有折的平均值\n",
    "print(f\"Average MCC: {np.mean(ft1_mccs):.4f}\")\n",
    "print(f\"Average Accuracy: {np.mean(ft1_accuracies):.4f}\")\n",
    "print(f\"Average Precision: {np.mean(ft1_precisions):.4f}\")\n",
    "print(f\"Average Recall: {np.mean(ft1_recalls):.4f}\")\n",
    "print(f\"Average F1 Score: {np.mean(ft1_f1_scores):.4f}\")"
   ]
  },
  {
   "cell_type": "markdown",
   "id": "5f6bda12",
   "metadata": {},
   "source": [
    "#### （2）集成最佳子模型"
   ]
  },
  {
   "cell_type": "code",
   "execution_count": 166,
   "id": "38e4bb5e",
   "metadata": {},
   "outputs": [
    {
     "name": "stdout",
     "output_type": "stream",
     "text": [
      "Fold 1 Confusion Matrix:\n",
      "[[33  9]\n",
      " [ 5 16]]\n",
      "----------------------------------------\n",
      "Fold 2 Confusion Matrix:\n",
      "[[39  2]\n",
      " [ 1 20]]\n",
      "----------------------------------------\n",
      "Fold 3 Confusion Matrix:\n",
      "[[40  1]\n",
      " [ 4 17]]\n",
      "----------------------------------------\n",
      "Fold 4 Confusion Matrix:\n",
      "[[39  2]\n",
      " [ 1 20]]\n",
      "----------------------------------------\n",
      "Fold 5 Confusion Matrix:\n",
      "[[37  4]\n",
      " [ 2 19]]\n",
      "----------------------------------------\n",
      "Average MCC: 0.7849\n",
      "Average Accuracy: 0.9007\n",
      "Average Precision: 0.9007\n",
      "Average Recall: 0.8762\n",
      "Average F1 Score: 0.8583\n"
     ]
    }
   ],
   "source": [
    "'''第三：集成两个子模型'''\n",
    "# 创建集成模型（软投票）\n",
    "ensemble_model = VotingClassifier(estimators=[\n",
    "    ('model_1', ft21_model),\n",
    "    ('model_2', ft21_model)\n",
    "], voting='soft')\n",
    "\n",
    "# 进行五折交叉验证并输出每一折的混淆矩阵\n",
    "vt_skf = StratifiedKFold(n_splits=5, shuffle=True, random_state=42)\n",
    "fold = 1\n",
    "\n",
    "# 存储各折的评价指标\n",
    "vt_mcc_scores = []\n",
    "vt_accuracy_scores = []\n",
    "vt_precision_scores = []\n",
    "vt_recall_scores = []\n",
    "vt_f1_scores = []\n",
    "vt_confusion_matrix = []\n",
    "\n",
    "for train_index, test_index in vt_skf.split(np.hstack((ft21_X, ft22_X)),ft2_y):\n",
    "    X_train, X_test = np.hstack((ft21_X, ft22_X))[train_index], np.hstack((ft21_X, ft22_X))[test_index]\n",
    "    y_train, y_test = ft2_y[train_index], ft2_y[test_index]\n",
    "    \n",
    "    # 训练和预测\n",
    "    ensemble_model.fit(X_train, y_train)\n",
    "    y_pred = ensemble_model.predict(X_test)\n",
    "    \n",
    "    # 计算混淆矩阵\n",
    "    cm = confusion_matrix(y_test, y_pred)\n",
    "    # 输出当前折的混淆矩阵\n",
    "    print(f\"Fold {fold} Confusion Matrix:\")\n",
    "    print(cm)\n",
    "    print(\"-\" * 40)\n",
    "    \n",
    "    # 计算并存储评价指标\n",
    "    vt_confusion_matrix.append(cm)\n",
    "    vt_mcc_scores.append(matthews_corrcoef(y_test, y_pred))\n",
    "    vt_accuracy_scores.append(accuracy_score(y_test, y_pred))\n",
    "    vt_precision_scores.append(precision_score(y_test, y_pred))\n",
    "    vt_recall_scores.append(recall_score(y_test, y_pred))\n",
    "    vt_f1_scores.append(f1_score(y_test, y_pred))\n",
    "    \n",
    "    fold += 1\n",
    "\n",
    "\n",
    "# 计算并输出所有折的平均值\n",
    "print(f\"Average MCC: {np.mean(vt_mcc_scores):.4f}\")\n",
    "print(f\"Average Accuracy: {np.mean(vt_accuracy_scores):.4f}\")\n",
    "print(f\"Average Precision: {np.mean(vt_accuracy_scores):.4f}\")\n",
    "print(f\"Average Recall: {np.mean(vt_recall_scores):.4f}\")\n",
    "print(f\"Average F1 Score: {np.mean(vt_f1_scores):.4f}\")"
   ]
  },
  {
   "cell_type": "raw",
   "id": "39004b4e",
   "metadata": {},
   "source": [
    "# C\n",
    "Average MCC: 0.5184\n",
    "Average Accuracy: 0.7910\n",
    "Average Precision: 0.7545\n",
    "Average Recall: 0.5810\n",
    "Average F1 Score: 0.6465\n",
    "\n",
    "# C+P\n",
    "Average MCC: 0.6965\n",
    "Average Accuracy: 0.8651\n",
    "Average Precision: 0.8046\n",
    "Average Recall: 0.7905\n",
    "Average F1 Score: 0.7972\n",
    "\n",
    "# C+P+M\n",
    "Average MCC: 0.7849\n",
    "Average Accuracy: 0.9007\n",
    "Average Precision: 0.9007\n",
    "Average Recall: 0.8762\n",
    "Average F1 Score: 0.8583"
   ]
  },
  {
   "cell_type": "code",
   "execution_count": null,
   "id": "08141acc",
   "metadata": {},
   "outputs": [],
   "source": []
  }
 ],
 "metadata": {
  "kernelspec": {
   "display_name": "Python 3 (ipykernel)",
   "language": "python",
   "name": "python3"
  },
  "language_info": {
   "codemirror_mode": {
    "name": "ipython",
    "version": 3
   },
   "file_extension": ".py",
   "mimetype": "text/x-python",
   "name": "python",
   "nbconvert_exporter": "python",
   "pygments_lexer": "ipython3",
   "version": "3.9.13"
  }
 },
 "nbformat": 4,
 "nbformat_minor": 5
}
